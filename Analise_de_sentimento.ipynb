{
 "cells": [
  {
   "cell_type": "markdown",
   "id": "a6def60e-a1fc-49f2-845c-bb0c40289528",
   "metadata": {},
   "source": [
    "# Análise de sentimento\n",
    "Aqui vou fazer um script para calcular a análise de sentimento das reviews"
   ]
  },
  {
   "cell_type": "code",
   "execution_count": 26,
   "id": "cbd9ab8e-c6e3-4a5c-9ff4-99151c4ebcb9",
   "metadata": {},
   "outputs": [],
   "source": [
    "import numpy as np\n",
    "import pandas as pd\n",
    "from transformers import pipeline\n",
    "from tqdm import tqdm\n",
    "import hashlib\n",
    "import math"
   ]
  },
  {
   "cell_type": "code",
   "execution_count": 48,
   "id": "2e6c48ab-fd3c-41a8-9048-0b18f082dcbb",
   "metadata": {},
   "outputs": [],
   "source": [
    "rows = 20\n",
    "chunk = 1000\n",
    "chunk_pipeline = 1000\n",
    "file = 'dados/reviewsTestToronto'"
   ]
  },
  {
   "cell_type": "code",
   "execution_count": 4,
   "id": "43d8ccb9-c4e6-4b1d-9f8e-741c6a8493f3",
   "metadata": {},
   "outputs": [
    {
     "data": {
      "application/vnd.jupyter.widget-view+json": {
       "model_id": "445fc5eace244ec1a4510fb3cb891dc2",
       "version_major": 2,
       "version_minor": 0
      },
      "text/plain": [
       "config.json:   0%|          | 0.00/953 [00:00<?, ?B/s]"
      ]
     },
     "metadata": {},
     "output_type": "display_data"
    },
    {
     "name": "stderr",
     "output_type": "stream",
     "text": [
      "C:\\anaconda3\\Lib\\site-packages\\huggingface_hub\\file_download.py:142: UserWarning: `huggingface_hub` cache-system uses symlinks by default to efficiently store duplicated files but your machine does not support them in C:\\Users\\Maria Haru\\.cache\\huggingface\\hub\\models--nlptown--bert-base-multilingual-uncased-sentiment. Caching files will still work but in a degraded version that might require more space on your disk. This warning can be disabled by setting the `HF_HUB_DISABLE_SYMLINKS_WARNING` environment variable. For more details, see https://huggingface.co/docs/huggingface_hub/how-to-cache#limitations.\n",
      "To support symlinks on Windows, you either need to activate Developer Mode or to run Python as an administrator. In order to activate developer mode, see this article: https://docs.microsoft.com/en-us/windows/apps/get-started/enable-your-device-for-development\n",
      "  warnings.warn(message)\n"
     ]
    },
    {
     "data": {
      "application/vnd.jupyter.widget-view+json": {
       "model_id": "5d52e85eb2934647ab27db9bde6e6f60",
       "version_major": 2,
       "version_minor": 0
      },
      "text/plain": [
       "model.safetensors:   0%|          | 0.00/669M [00:00<?, ?B/s]"
      ]
     },
     "metadata": {},
     "output_type": "display_data"
    },
    {
     "data": {
      "application/vnd.jupyter.widget-view+json": {
       "model_id": "4ede98d312a049bd8c76deb6d8444752",
       "version_major": 2,
       "version_minor": 0
      },
      "text/plain": [
       "tokenizer_config.json:   0%|          | 0.00/39.0 [00:00<?, ?B/s]"
      ]
     },
     "metadata": {},
     "output_type": "display_data"
    },
    {
     "data": {
      "application/vnd.jupyter.widget-view+json": {
       "model_id": "6ea11e7b8d9f4f99a90ad762c9575880",
       "version_major": 2,
       "version_minor": 0
      },
      "text/plain": [
       "vocab.txt:   0%|          | 0.00/872k [00:00<?, ?B/s]"
      ]
     },
     "metadata": {},
     "output_type": "display_data"
    },
    {
     "data": {
      "application/vnd.jupyter.widget-view+json": {
       "model_id": "98bf5f98eb51420692f33b5545f3887f",
       "version_major": 2,
       "version_minor": 0
      },
      "text/plain": [
       "special_tokens_map.json:   0%|          | 0.00/112 [00:00<?, ?B/s]"
      ]
     },
     "metadata": {},
     "output_type": "display_data"
    },
    {
     "name": "stderr",
     "output_type": "stream",
     "text": [
      "Device set to use cuda:0\n"
     ]
    }
   ],
   "source": [
    "sentiment_pipeline = pipeline(\"text-classification\", model=\"nlptown/bert-base-multilingual-uncased-sentiment\")"
   ]
  },
  {
   "cell_type": "code",
   "execution_count": 54,
   "id": "23739da7-0ddc-4555-a67a-24acb2663656",
   "metadata": {},
   "outputs": [],
   "source": [
    "def reset_file():\n",
    "    pd.DataFrame([], columns=['label', 'score', 'business_id', 'user_id', 'text_hash', 'useful', 'cool', 'funny']).to_csv(file + 'Sentiment.csv', mode='w', header=True, index=False)\n",
    "\n",
    "def proccess(df_chunk):\n",
    "    results = []\n",
    "    #for df_chunk in tqdm(np.array_split(df, chunk_pipeline), total=len(df)/chunk_pipeline):\n",
    "    obj_list = sentiment_pipeline(list(df_chunk['text'].apply(lambda x: x[0:512])))\n",
    "    for obj, items in zip(obj_list, df_chunk.iterrows()):\n",
    "        row = items[1]\n",
    "        obj['label'] = int(obj['label'].split(' ')[0])\n",
    "        obj['score'] = float(obj['score'])\n",
    "        obj['business_id'] = row['business_id']\n",
    "        obj['user_id'] = row['user_id']\n",
    "        obj['text_hash'] = hashlib.sha1(row['text'].encode()).hexdigest()\n",
    "        obj['useful'] = row['useful']\n",
    "        obj['cool'] = row['cool']\n",
    "        obj['funny'] = row['funny']\n",
    "        results.append(obj)\n",
    "    \n",
    "    save_df = pd.DataFrame.from_dict(results)\n",
    "    results = []\n",
    "    save_df.to_csv(file + 'Sentiment.csv', mode='a', header=False, index=False)\n",
    "\n"
   ]
  },
  {
   "cell_type": "code",
   "execution_count": 55,
   "id": "d8d74cea-2e43-4987-a2ee-1c6a1c37b55e",
   "metadata": {},
   "outputs": [
    {
     "name": "stderr",
     "output_type": "stream",
     "text": [
      "100%|██████████| 35/35 [07:22<00:00, 12.63s/it]\n"
     ]
    }
   ],
   "source": [
    "reset_file()\n",
    "for df in tqdm(pd.read_csv(file + '.csv', chunksize=chunk), total=math.ceil(34474 / chunk)):\n",
    "    proccess(df)"
   ]
  },
  {
   "cell_type": "code",
   "execution_count": 50,
   "id": "132e99b5-39d2-46c4-9cf0-713af9a926bb",
   "metadata": {},
   "outputs": [
    {
     "data": {
      "text/html": [
       "<div>\n",
       "<style scoped>\n",
       "    .dataframe tbody tr th:only-of-type {\n",
       "        vertical-align: middle;\n",
       "    }\n",
       "\n",
       "    .dataframe tbody tr th {\n",
       "        vertical-align: top;\n",
       "    }\n",
       "\n",
       "    .dataframe thead th {\n",
       "        text-align: right;\n",
       "    }\n",
       "</style>\n",
       "<table border=\"1\" class=\"dataframe\">\n",
       "  <thead>\n",
       "    <tr style=\"text-align: right;\">\n",
       "      <th></th>\n",
       "      <th>user_id</th>\n",
       "      <th>business_id</th>\n",
       "      <th>useful</th>\n",
       "      <th>funny</th>\n",
       "      <th>cool</th>\n",
       "      <th>text</th>\n",
       "      <th>date</th>\n",
       "    </tr>\n",
       "  </thead>\n",
       "  <tbody>\n",
       "    <tr>\n",
       "      <th>0</th>\n",
       "      <td>5eogH-lsoc30dyK9doJMRw</td>\n",
       "      <td>-3pJJf-vHQfysafL0r8YsA</td>\n",
       "      <td>0</td>\n",
       "      <td>0</td>\n",
       "      <td>0</td>\n",
       "      <td>I always come here, mainly because it's a 5 mi...</td>\n",
       "      <td>2017-06-29 03:47:19</td>\n",
       "    </tr>\n",
       "    <tr>\n",
       "      <th>1</th>\n",
       "      <td>Z9dE9GzseN40Ld9BAbIYlg</td>\n",
       "      <td>-3pJJf-vHQfysafL0r8YsA</td>\n",
       "      <td>0</td>\n",
       "      <td>0</td>\n",
       "      <td>0</td>\n",
       "      <td>I have been observing for some times. I don't ...</td>\n",
       "      <td>2018-05-14 22:12:13</td>\n",
       "    </tr>\n",
       "    <tr>\n",
       "      <th>2</th>\n",
       "      <td>-QdEn8wCiRE4XHvmTCPITw</td>\n",
       "      <td>-3pJJf-vHQfysafL0r8YsA</td>\n",
       "      <td>4</td>\n",
       "      <td>0</td>\n",
       "      <td>1</td>\n",
       "      <td>Typical Asian market. Great prices on exotic f...</td>\n",
       "      <td>2015-06-20 19:21:05</td>\n",
       "    </tr>\n",
       "    <tr>\n",
       "      <th>3</th>\n",
       "      <td>VCvtbcxEl6WxK2x0zGYkcQ</td>\n",
       "      <td>-3pJJf-vHQfysafL0r8YsA</td>\n",
       "      <td>0</td>\n",
       "      <td>0</td>\n",
       "      <td>0</td>\n",
       "      <td>Very very poor customer service.Old Dutch blea...</td>\n",
       "      <td>2018-11-13 15:07:22</td>\n",
       "    </tr>\n",
       "    <tr>\n",
       "      <th>4</th>\n",
       "      <td>-RCD8F7qbsLfzT3k1HtMxg</td>\n",
       "      <td>-5Np0EVLRVqjKlRwf_GShA</td>\n",
       "      <td>0</td>\n",
       "      <td>0</td>\n",
       "      <td>0</td>\n",
       "      <td>Fast and efficient dry cleaning service right ...</td>\n",
       "      <td>2015-01-18 18:26:07</td>\n",
       "    </tr>\n",
       "    <tr>\n",
       "      <th>...</th>\n",
       "      <td>...</td>\n",
       "      <td>...</td>\n",
       "      <td>...</td>\n",
       "      <td>...</td>\n",
       "      <td>...</td>\n",
       "      <td>...</td>\n",
       "      <td>...</td>\n",
       "    </tr>\n",
       "    <tr>\n",
       "      <th>34469</th>\n",
       "      <td>alUuOskFSl1bODjnce2PpQ</td>\n",
       "      <td>zrQYQHawhaolF7muiU6Ckw</td>\n",
       "      <td>4</td>\n",
       "      <td>0</td>\n",
       "      <td>2</td>\n",
       "      <td>So, I went home and checked my receipt and rea...</td>\n",
       "      <td>2010-11-10 22:56:56</td>\n",
       "    </tr>\n",
       "    <tr>\n",
       "      <th>34470</th>\n",
       "      <td>oiBG_9xY4E4w4JWTCQR9sw</td>\n",
       "      <td>zrQYQHawhaolF7muiU6Ckw</td>\n",
       "      <td>2</td>\n",
       "      <td>1</td>\n",
       "      <td>1</td>\n",
       "      <td>Came in to the store to find a strapless bra a...</td>\n",
       "      <td>2016-12-15 21:55:09</td>\n",
       "    </tr>\n",
       "    <tr>\n",
       "      <th>34471</th>\n",
       "      <td>3uWCWMWcrn8YSH_qBvlr6w</td>\n",
       "      <td>zrQYQHawhaolF7muiU6Ckw</td>\n",
       "      <td>6</td>\n",
       "      <td>4</td>\n",
       "      <td>4</td>\n",
       "      <td>This place looks like nothing else in the Eato...</td>\n",
       "      <td>2010-11-04 14:59:00</td>\n",
       "    </tr>\n",
       "    <tr>\n",
       "      <th>34472</th>\n",
       "      <td>LtVQD4Axwr21Aw2eR-tkJg</td>\n",
       "      <td>zrQYQHawhaolF7muiU6Ckw</td>\n",
       "      <td>1</td>\n",
       "      <td>0</td>\n",
       "      <td>0</td>\n",
       "      <td>Son secret? ses prix, toujours plus haut!\\n\\nB...</td>\n",
       "      <td>2012-01-30 23:31:57</td>\n",
       "    </tr>\n",
       "    <tr>\n",
       "      <th>34473</th>\n",
       "      <td>6rTy-ydRlvWYqTm3puq6bw</td>\n",
       "      <td>zrQYQHawhaolF7muiU6Ckw</td>\n",
       "      <td>1</td>\n",
       "      <td>0</td>\n",
       "      <td>0</td>\n",
       "      <td>Their bras sure look fancy but once I tried th...</td>\n",
       "      <td>2013-01-21 16:16:40</td>\n",
       "    </tr>\n",
       "  </tbody>\n",
       "</table>\n",
       "<p>34474 rows × 7 columns</p>\n",
       "</div>"
      ],
      "text/plain": [
       "                      user_id             business_id  useful  funny  cool  \\\n",
       "0      5eogH-lsoc30dyK9doJMRw  -3pJJf-vHQfysafL0r8YsA       0      0     0   \n",
       "1      Z9dE9GzseN40Ld9BAbIYlg  -3pJJf-vHQfysafL0r8YsA       0      0     0   \n",
       "2      -QdEn8wCiRE4XHvmTCPITw  -3pJJf-vHQfysafL0r8YsA       4      0     1   \n",
       "3      VCvtbcxEl6WxK2x0zGYkcQ  -3pJJf-vHQfysafL0r8YsA       0      0     0   \n",
       "4      -RCD8F7qbsLfzT3k1HtMxg  -5Np0EVLRVqjKlRwf_GShA       0      0     0   \n",
       "...                       ...                     ...     ...    ...   ...   \n",
       "34469  alUuOskFSl1bODjnce2PpQ  zrQYQHawhaolF7muiU6Ckw       4      0     2   \n",
       "34470  oiBG_9xY4E4w4JWTCQR9sw  zrQYQHawhaolF7muiU6Ckw       2      1     1   \n",
       "34471  3uWCWMWcrn8YSH_qBvlr6w  zrQYQHawhaolF7muiU6Ckw       6      4     4   \n",
       "34472  LtVQD4Axwr21Aw2eR-tkJg  zrQYQHawhaolF7muiU6Ckw       1      0     0   \n",
       "34473  6rTy-ydRlvWYqTm3puq6bw  zrQYQHawhaolF7muiU6Ckw       1      0     0   \n",
       "\n",
       "                                                    text                 date  \n",
       "0      I always come here, mainly because it's a 5 mi...  2017-06-29 03:47:19  \n",
       "1      I have been observing for some times. I don't ...  2018-05-14 22:12:13  \n",
       "2      Typical Asian market. Great prices on exotic f...  2015-06-20 19:21:05  \n",
       "3      Very very poor customer service.Old Dutch blea...  2018-11-13 15:07:22  \n",
       "4      Fast and efficient dry cleaning service right ...  2015-01-18 18:26:07  \n",
       "...                                                  ...                  ...  \n",
       "34469  So, I went home and checked my receipt and rea...  2010-11-10 22:56:56  \n",
       "34470  Came in to the store to find a strapless bra a...  2016-12-15 21:55:09  \n",
       "34471  This place looks like nothing else in the Eato...  2010-11-04 14:59:00  \n",
       "34472  Son secret? ses prix, toujours plus haut!\\n\\nB...  2012-01-30 23:31:57  \n",
       "34473  Their bras sure look fancy but once I tried th...  2013-01-21 16:16:40  \n",
       "\n",
       "[34474 rows x 7 columns]"
      ]
     },
     "execution_count": 50,
     "metadata": {},
     "output_type": "execute_result"
    }
   ],
   "source": [
    "df = pd.read_csv(file +'.csv')\n",
    "df"
   ]
  },
  {
   "cell_type": "code",
   "execution_count": 32,
   "id": "82c6c87d-1bde-400c-963a-270c1ce96894",
   "metadata": {},
   "outputs": [
    {
     "data": {
      "text/html": [
       "<div>\n",
       "<style scoped>\n",
       "    .dataframe tbody tr th:only-of-type {\n",
       "        vertical-align: middle;\n",
       "    }\n",
       "\n",
       "    .dataframe tbody tr th {\n",
       "        vertical-align: top;\n",
       "    }\n",
       "\n",
       "    .dataframe thead th {\n",
       "        text-align: right;\n",
       "    }\n",
       "</style>\n",
       "<table border=\"1\" class=\"dataframe\">\n",
       "  <thead>\n",
       "    <tr style=\"text-align: right;\">\n",
       "      <th></th>\n",
       "      <th>user_id</th>\n",
       "      <th>business_id</th>\n",
       "      <th>useful</th>\n",
       "      <th>funny</th>\n",
       "      <th>cool</th>\n",
       "      <th>text</th>\n",
       "      <th>date</th>\n",
       "    </tr>\n",
       "  </thead>\n",
       "  <tbody>\n",
       "    <tr>\n",
       "      <th>0</th>\n",
       "      <td>Y2TBSd3ExydbgEnVxAt_QA</td>\n",
       "      <td>--DaPTJW3-tB1vP-PfdTEg</td>\n",
       "      <td>0</td>\n",
       "      <td>0</td>\n",
       "      <td>0</td>\n",
       "      <td>My sister and in laws were in town and we want...</td>\n",
       "      <td>2018-04-17 00:19:12</td>\n",
       "    </tr>\n",
       "    <tr>\n",
       "      <th>1</th>\n",
       "      <td>Rp-cSUHm-EKBxgBS73PNNg</td>\n",
       "      <td>--DaPTJW3-tB1vP-PfdTEg</td>\n",
       "      <td>3</td>\n",
       "      <td>0</td>\n",
       "      <td>2</td>\n",
       "      <td>We really enjoy this breakfast restaurant in t...</td>\n",
       "      <td>2016-03-19 03:52:08</td>\n",
       "    </tr>\n",
       "    <tr>\n",
       "      <th>2</th>\n",
       "      <td>2fXZuNKP7Bo-yRrINVbVVA</td>\n",
       "      <td>--DaPTJW3-tB1vP-PfdTEg</td>\n",
       "      <td>0</td>\n",
       "      <td>0</td>\n",
       "      <td>0</td>\n",
       "      <td>Just tried this breakfast joint, didn't want t...</td>\n",
       "      <td>2013-09-07 22:20:08</td>\n",
       "    </tr>\n",
       "    <tr>\n",
       "      <th>3</th>\n",
       "      <td>fn3Wim-2j042IEDe6VhJFQ</td>\n",
       "      <td>--DaPTJW3-tB1vP-PfdTEg</td>\n",
       "      <td>5</td>\n",
       "      <td>1</td>\n",
       "      <td>5</td>\n",
       "      <td>Stopped in on a weekday while in Toronto just ...</td>\n",
       "      <td>2018-05-10 18:33:34</td>\n",
       "    </tr>\n",
       "    <tr>\n",
       "      <th>4</th>\n",
       "      <td>CD9dSllum_L_OvpRW0YH0w</td>\n",
       "      <td>--DaPTJW3-tB1vP-PfdTEg</td>\n",
       "      <td>0</td>\n",
       "      <td>0</td>\n",
       "      <td>0</td>\n",
       "      <td>Not great. Ordered the eggs florentine with ho...</td>\n",
       "      <td>2018-01-11 19:57:49</td>\n",
       "    </tr>\n",
       "    <tr>\n",
       "      <th>5</th>\n",
       "      <td>Q9mA60HnY87C1TW5kjAZ6Q</td>\n",
       "      <td>--DaPTJW3-tB1vP-PfdTEg</td>\n",
       "      <td>2</td>\n",
       "      <td>0</td>\n",
       "      <td>1</td>\n",
       "      <td>This place lives somewhere in between diner di...</td>\n",
       "      <td>2014-07-30 00:38:57</td>\n",
       "    </tr>\n",
       "    <tr>\n",
       "      <th>6</th>\n",
       "      <td>TTCzwn_6k1AwSuqAB8oLBA</td>\n",
       "      <td>--DaPTJW3-tB1vP-PfdTEg</td>\n",
       "      <td>0</td>\n",
       "      <td>0</td>\n",
       "      <td>0</td>\n",
       "      <td>Awesome place. Love the liberal use of corned ...</td>\n",
       "      <td>2013-08-16 02:12:01</td>\n",
       "    </tr>\n",
       "    <tr>\n",
       "      <th>7</th>\n",
       "      <td>ILasiYMdzxhUf9Mkcl8EnQ</td>\n",
       "      <td>--DaPTJW3-tB1vP-PfdTEg</td>\n",
       "      <td>0</td>\n",
       "      <td>0</td>\n",
       "      <td>0</td>\n",
       "      <td>Excellent and friendly service!  Nice clean re...</td>\n",
       "      <td>2012-11-11 18:29:56</td>\n",
       "    </tr>\n",
       "    <tr>\n",
       "      <th>8</th>\n",
       "      <td>DTfe51_9B98LevKahtdgXQ</td>\n",
       "      <td>--DaPTJW3-tB1vP-PfdTEg</td>\n",
       "      <td>0</td>\n",
       "      <td>0</td>\n",
       "      <td>0</td>\n",
       "      <td>Completely mediocre. I was there on a Saturday...</td>\n",
       "      <td>2014-03-01 22:49:13</td>\n",
       "    </tr>\n",
       "    <tr>\n",
       "      <th>9</th>\n",
       "      <td>a_adronfoaxpphBD5d_3Cw</td>\n",
       "      <td>--DaPTJW3-tB1vP-PfdTEg</td>\n",
       "      <td>0</td>\n",
       "      <td>0</td>\n",
       "      <td>0</td>\n",
       "      <td>Sunnyside grill is sort of american diner sort...</td>\n",
       "      <td>2016-08-04 22:21:52</td>\n",
       "    </tr>\n",
       "  </tbody>\n",
       "</table>\n",
       "</div>"
      ],
      "text/plain": [
       "                  user_id             business_id  useful  funny  cool  \\\n",
       "0  Y2TBSd3ExydbgEnVxAt_QA  --DaPTJW3-tB1vP-PfdTEg       0      0     0   \n",
       "1  Rp-cSUHm-EKBxgBS73PNNg  --DaPTJW3-tB1vP-PfdTEg       3      0     2   \n",
       "2  2fXZuNKP7Bo-yRrINVbVVA  --DaPTJW3-tB1vP-PfdTEg       0      0     0   \n",
       "3  fn3Wim-2j042IEDe6VhJFQ  --DaPTJW3-tB1vP-PfdTEg       5      1     5   \n",
       "4  CD9dSllum_L_OvpRW0YH0w  --DaPTJW3-tB1vP-PfdTEg       0      0     0   \n",
       "5  Q9mA60HnY87C1TW5kjAZ6Q  --DaPTJW3-tB1vP-PfdTEg       2      0     1   \n",
       "6  TTCzwn_6k1AwSuqAB8oLBA  --DaPTJW3-tB1vP-PfdTEg       0      0     0   \n",
       "7  ILasiYMdzxhUf9Mkcl8EnQ  --DaPTJW3-tB1vP-PfdTEg       0      0     0   \n",
       "8  DTfe51_9B98LevKahtdgXQ  --DaPTJW3-tB1vP-PfdTEg       0      0     0   \n",
       "9  a_adronfoaxpphBD5d_3Cw  --DaPTJW3-tB1vP-PfdTEg       0      0     0   \n",
       "\n",
       "                                                text                 date  \n",
       "0  My sister and in laws were in town and we want...  2018-04-17 00:19:12  \n",
       "1  We really enjoy this breakfast restaurant in t...  2016-03-19 03:52:08  \n",
       "2  Just tried this breakfast joint, didn't want t...  2013-09-07 22:20:08  \n",
       "3  Stopped in on a weekday while in Toronto just ...  2018-05-10 18:33:34  \n",
       "4  Not great. Ordered the eggs florentine with ho...  2018-01-11 19:57:49  \n",
       "5  This place lives somewhere in between diner di...  2014-07-30 00:38:57  \n",
       "6  Awesome place. Love the liberal use of corned ...  2013-08-16 02:12:01  \n",
       "7  Excellent and friendly service!  Nice clean re...  2012-11-11 18:29:56  \n",
       "8  Completely mediocre. I was there on a Saturday...  2014-03-01 22:49:13  \n",
       "9  Sunnyside grill is sort of american diner sort...  2016-08-04 22:21:52  "
      ]
     },
     "execution_count": 32,
     "metadata": {},
     "output_type": "execute_result"
    }
   ],
   "source": [
    "df = pd.read_csv('dados/reviewsTrainToronto.csv', nrows=10)\n",
    "df"
   ]
  },
  {
   "cell_type": "code",
   "execution_count": 30,
   "id": "53cb9eca-700a-43ec-a5a2-6a561a44649f",
   "metadata": {},
   "outputs": [
    {
     "name": "stderr",
     "output_type": "stream",
     "text": [
      "[nltk_data] Downloading package punkt_tab to\n",
      "[nltk_data]     /home/guilherme/nltk_data...\n",
      "[nltk_data]   Unzipping tokenizers/punkt_tab.zip.\n"
     ]
    },
    {
     "data": {
      "text/plain": [
       "True"
      ]
     },
     "execution_count": 30,
     "metadata": {},
     "output_type": "execute_result"
    }
   ],
   "source": [
    "import nltk\n",
    "nltk.download('punkt_tab')"
   ]
  },
  {
   "cell_type": "code",
   "execution_count": 87,
   "id": "eb3927e8-3f33-42db-b795-f61cf3e4613a",
   "metadata": {},
   "outputs": [
    {
     "name": "stderr",
     "output_type": "stream",
     "text": [
      "100%|███████████████████████████████████████████| 10/10 [00:03<00:00,  3.15it/s]"
     ]
    },
    {
     "name": "stdout",
     "output_type": "stream",
     "text": [
      "saved 9\n"
     ]
    },
    {
     "name": "stderr",
     "output_type": "stream",
     "text": [
      "\n"
     ]
    },
    {
     "data": {
      "text/plain": [
       "[]"
      ]
     },
     "execution_count": 87,
     "metadata": {},
     "output_type": "execute_result"
    }
   ],
   "source": []
  },
  {
   "cell_type": "code",
   "execution_count": 85,
   "id": "f0944625-ed50-4f31-96f3-e983e7cc8adf",
   "metadata": {},
   "outputs": [
    {
     "data": {
      "text/plain": [
       "Index(['user_id', 'business_id', 'useful', 'funny', 'cool', 'text', 'date'], dtype='object')"
      ]
     },
     "execution_count": 85,
     "metadata": {},
     "output_type": "execute_result"
    }
   ],
   "source": []
  },
  {
   "cell_type": "code",
   "execution_count": 78,
   "id": "d2eda37d-f75d-4b1a-8668-a8ec82f689b0",
   "metadata": {},
   "outputs": [
    {
     "data": {
      "text/html": [
       "<div>\n",
       "<style scoped>\n",
       "    .dataframe tbody tr th:only-of-type {\n",
       "        vertical-align: middle;\n",
       "    }\n",
       "\n",
       "    .dataframe tbody tr th {\n",
       "        vertical-align: top;\n",
       "    }\n",
       "\n",
       "    .dataframe thead th {\n",
       "        text-align: right;\n",
       "    }\n",
       "</style>\n",
       "<table border=\"1\" class=\"dataframe\">\n",
       "  <thead>\n",
       "    <tr style=\"text-align: right;\">\n",
       "      <th></th>\n",
       "      <th>user_id</th>\n",
       "      <th>business_id</th>\n",
       "      <th>useful</th>\n",
       "      <th>funny</th>\n",
       "      <th>cool</th>\n",
       "      <th>text</th>\n",
       "      <th>date</th>\n",
       "      <th>label</th>\n",
       "      <th>score</th>\n",
       "    </tr>\n",
       "  </thead>\n",
       "  <tbody>\n",
       "    <tr>\n",
       "      <th>0</th>\n",
       "      <td>Y2TBSd3ExydbgEnVxAt_QA</td>\n",
       "      <td>--DaPTJW3-tB1vP-PfdTEg</td>\n",
       "      <td>0</td>\n",
       "      <td>0</td>\n",
       "      <td>0</td>\n",
       "      <td>My sister and in laws were in town and we want...</td>\n",
       "      <td>2018-04-17 00:19:12</td>\n",
       "      <td>5 stars</td>\n",
       "      <td>0.533591</td>\n",
       "    </tr>\n",
       "    <tr>\n",
       "      <th>1</th>\n",
       "      <td>Rp-cSUHm-EKBxgBS73PNNg</td>\n",
       "      <td>--DaPTJW3-tB1vP-PfdTEg</td>\n",
       "      <td>3</td>\n",
       "      <td>0</td>\n",
       "      <td>2</td>\n",
       "      <td>We really enjoy this breakfast restaurant in t...</td>\n",
       "      <td>2016-03-19 03:52:08</td>\n",
       "      <td>4 stars</td>\n",
       "      <td>0.697149</td>\n",
       "    </tr>\n",
       "    <tr>\n",
       "      <th>2</th>\n",
       "      <td>2fXZuNKP7Bo-yRrINVbVVA</td>\n",
       "      <td>--DaPTJW3-tB1vP-PfdTEg</td>\n",
       "      <td>0</td>\n",
       "      <td>0</td>\n",
       "      <td>0</td>\n",
       "      <td>Just tried this breakfast joint, didn't want t...</td>\n",
       "      <td>2013-09-07 22:20:08</td>\n",
       "      <td>4 stars</td>\n",
       "      <td>0.315594</td>\n",
       "    </tr>\n",
       "    <tr>\n",
       "      <th>3</th>\n",
       "      <td>fn3Wim-2j042IEDe6VhJFQ</td>\n",
       "      <td>--DaPTJW3-tB1vP-PfdTEg</td>\n",
       "      <td>5</td>\n",
       "      <td>1</td>\n",
       "      <td>5</td>\n",
       "      <td>Stopped in on a weekday while in Toronto just ...</td>\n",
       "      <td>2018-05-10 18:33:34</td>\n",
       "      <td>4 stars</td>\n",
       "      <td>0.484586</td>\n",
       "    </tr>\n",
       "    <tr>\n",
       "      <th>4</th>\n",
       "      <td>CD9dSllum_L_OvpRW0YH0w</td>\n",
       "      <td>--DaPTJW3-tB1vP-PfdTEg</td>\n",
       "      <td>0</td>\n",
       "      <td>0</td>\n",
       "      <td>0</td>\n",
       "      <td>Not great. Ordered the eggs florentine with ho...</td>\n",
       "      <td>2018-01-11 19:57:49</td>\n",
       "      <td>2 stars</td>\n",
       "      <td>0.646709</td>\n",
       "    </tr>\n",
       "    <tr>\n",
       "      <th>5</th>\n",
       "      <td>Q9mA60HnY87C1TW5kjAZ6Q</td>\n",
       "      <td>--DaPTJW3-tB1vP-PfdTEg</td>\n",
       "      <td>2</td>\n",
       "      <td>0</td>\n",
       "      <td>1</td>\n",
       "      <td>This place lives somewhere in between diner di...</td>\n",
       "      <td>2014-07-30 00:38:57</td>\n",
       "      <td>4 stars</td>\n",
       "      <td>0.656242</td>\n",
       "    </tr>\n",
       "    <tr>\n",
       "      <th>6</th>\n",
       "      <td>TTCzwn_6k1AwSuqAB8oLBA</td>\n",
       "      <td>--DaPTJW3-tB1vP-PfdTEg</td>\n",
       "      <td>0</td>\n",
       "      <td>0</td>\n",
       "      <td>0</td>\n",
       "      <td>Awesome place. Love the liberal use of corned ...</td>\n",
       "      <td>2013-08-16 02:12:01</td>\n",
       "      <td>5 stars</td>\n",
       "      <td>0.839217</td>\n",
       "    </tr>\n",
       "    <tr>\n",
       "      <th>7</th>\n",
       "      <td>ILasiYMdzxhUf9Mkcl8EnQ</td>\n",
       "      <td>--DaPTJW3-tB1vP-PfdTEg</td>\n",
       "      <td>0</td>\n",
       "      <td>0</td>\n",
       "      <td>0</td>\n",
       "      <td>Excellent and friendly service!  Nice clean re...</td>\n",
       "      <td>2012-11-11 18:29:56</td>\n",
       "      <td>5 stars</td>\n",
       "      <td>0.812308</td>\n",
       "    </tr>\n",
       "    <tr>\n",
       "      <th>8</th>\n",
       "      <td>DTfe51_9B98LevKahtdgXQ</td>\n",
       "      <td>--DaPTJW3-tB1vP-PfdTEg</td>\n",
       "      <td>0</td>\n",
       "      <td>0</td>\n",
       "      <td>0</td>\n",
       "      <td>Completely mediocre. I was there on a Saturday...</td>\n",
       "      <td>2014-03-01 22:49:13</td>\n",
       "      <td>2 stars</td>\n",
       "      <td>0.690526</td>\n",
       "    </tr>\n",
       "    <tr>\n",
       "      <th>9</th>\n",
       "      <td>a_adronfoaxpphBD5d_3Cw</td>\n",
       "      <td>--DaPTJW3-tB1vP-PfdTEg</td>\n",
       "      <td>0</td>\n",
       "      <td>0</td>\n",
       "      <td>0</td>\n",
       "      <td>Sunnyside grill is sort of american diner sort...</td>\n",
       "      <td>2016-08-04 22:21:52</td>\n",
       "      <td>4 stars</td>\n",
       "      <td>0.548095</td>\n",
       "    </tr>\n",
       "  </tbody>\n",
       "</table>\n",
       "</div>"
      ],
      "text/plain": [
       "                  user_id             business_id  useful  funny  cool  \\\n",
       "0  Y2TBSd3ExydbgEnVxAt_QA  --DaPTJW3-tB1vP-PfdTEg       0      0     0   \n",
       "1  Rp-cSUHm-EKBxgBS73PNNg  --DaPTJW3-tB1vP-PfdTEg       3      0     2   \n",
       "2  2fXZuNKP7Bo-yRrINVbVVA  --DaPTJW3-tB1vP-PfdTEg       0      0     0   \n",
       "3  fn3Wim-2j042IEDe6VhJFQ  --DaPTJW3-tB1vP-PfdTEg       5      1     5   \n",
       "4  CD9dSllum_L_OvpRW0YH0w  --DaPTJW3-tB1vP-PfdTEg       0      0     0   \n",
       "5  Q9mA60HnY87C1TW5kjAZ6Q  --DaPTJW3-tB1vP-PfdTEg       2      0     1   \n",
       "6  TTCzwn_6k1AwSuqAB8oLBA  --DaPTJW3-tB1vP-PfdTEg       0      0     0   \n",
       "7  ILasiYMdzxhUf9Mkcl8EnQ  --DaPTJW3-tB1vP-PfdTEg       0      0     0   \n",
       "8  DTfe51_9B98LevKahtdgXQ  --DaPTJW3-tB1vP-PfdTEg       0      0     0   \n",
       "9  a_adronfoaxpphBD5d_3Cw  --DaPTJW3-tB1vP-PfdTEg       0      0     0   \n",
       "\n",
       "                                                text                 date  \\\n",
       "0  My sister and in laws were in town and we want...  2018-04-17 00:19:12   \n",
       "1  We really enjoy this breakfast restaurant in t...  2016-03-19 03:52:08   \n",
       "2  Just tried this breakfast joint, didn't want t...  2013-09-07 22:20:08   \n",
       "3  Stopped in on a weekday while in Toronto just ...  2018-05-10 18:33:34   \n",
       "4  Not great. Ordered the eggs florentine with ho...  2018-01-11 19:57:49   \n",
       "5  This place lives somewhere in between diner di...  2014-07-30 00:38:57   \n",
       "6  Awesome place. Love the liberal use of corned ...  2013-08-16 02:12:01   \n",
       "7  Excellent and friendly service!  Nice clean re...  2012-11-11 18:29:56   \n",
       "8  Completely mediocre. I was there on a Saturday...  2014-03-01 22:49:13   \n",
       "9  Sunnyside grill is sort of american diner sort...  2016-08-04 22:21:52   \n",
       "\n",
       "     label     score  \n",
       "0  5 stars  0.533591  \n",
       "1  4 stars  0.697149  \n",
       "2  4 stars  0.315594  \n",
       "3  4 stars  0.484586  \n",
       "4  2 stars  0.646709  \n",
       "5  4 stars  0.656242  \n",
       "6  5 stars  0.839217  \n",
       "7  5 stars  0.812308  \n",
       "8  2 stars  0.690526  \n",
       "9  4 stars  0.548095  "
      ]
     },
     "execution_count": 78,
     "metadata": {},
     "output_type": "execute_result"
    }
   ],
   "source": [
    "pd.concat([df.iloc[begining_index:index+1], pd.DataFrame.from_dict(results)], axis=1)"
   ]
  },
  {
   "cell_type": "code",
   "execution_count": 54,
   "id": "6e404473-1449-4f63-990a-f1b140f9ec48",
   "metadata": {},
   "outputs": [
    {
     "data": {
      "text/html": [
       "<div>\n",
       "<style scoped>\n",
       "    .dataframe tbody tr th:only-of-type {\n",
       "        vertical-align: middle;\n",
       "    }\n",
       "\n",
       "    .dataframe tbody tr th {\n",
       "        vertical-align: top;\n",
       "    }\n",
       "\n",
       "    .dataframe thead th {\n",
       "        text-align: right;\n",
       "    }\n",
       "</style>\n",
       "<table border=\"1\" class=\"dataframe\">\n",
       "  <thead>\n",
       "    <tr style=\"text-align: right;\">\n",
       "      <th></th>\n",
       "      <th>user_id</th>\n",
       "      <th>business_id</th>\n",
       "      <th>useful</th>\n",
       "      <th>funny</th>\n",
       "      <th>cool</th>\n",
       "      <th>text</th>\n",
       "      <th>date</th>\n",
       "    </tr>\n",
       "  </thead>\n",
       "  <tbody>\n",
       "    <tr>\n",
       "      <th>0</th>\n",
       "      <td>Y2TBSd3ExydbgEnVxAt_QA</td>\n",
       "      <td>--DaPTJW3-tB1vP-PfdTEg</td>\n",
       "      <td>0</td>\n",
       "      <td>0</td>\n",
       "      <td>0</td>\n",
       "      <td>My sister and in laws were in town and we want...</td>\n",
       "      <td>2018-04-17 00:19:12</td>\n",
       "    </tr>\n",
       "  </tbody>\n",
       "</table>\n",
       "</div>"
      ],
      "text/plain": [
       "                  user_id             business_id useful funny cool  \\\n",
       "0  Y2TBSd3ExydbgEnVxAt_QA  --DaPTJW3-tB1vP-PfdTEg      0     0    0   \n",
       "\n",
       "                                                text                 date  \n",
       "0  My sister and in laws were in town and we want...  2018-04-17 00:19:12  "
      ]
     },
     "execution_count": 54,
     "metadata": {},
     "output_type": "execute_result"
    }
   ],
   "source": [
    "pd.DataFrame(row).transpose()"
   ]
  },
  {
   "cell_type": "code",
   "execution_count": 45,
   "id": "3ce3ac6b-7b6f-4b61-8bdc-fe328c364cf4",
   "metadata": {},
   "outputs": [
    {
     "data": {
      "text/html": [
       "<div>\n",
       "<style scoped>\n",
       "    .dataframe tbody tr th:only-of-type {\n",
       "        vertical-align: middle;\n",
       "    }\n",
       "\n",
       "    .dataframe tbody tr th {\n",
       "        vertical-align: top;\n",
       "    }\n",
       "\n",
       "    .dataframe thead th {\n",
       "        text-align: right;\n",
       "    }\n",
       "</style>\n",
       "<table border=\"1\" class=\"dataframe\">\n",
       "  <thead>\n",
       "    <tr style=\"text-align: right;\">\n",
       "      <th></th>\n",
       "      <th>label</th>\n",
       "      <th>score</th>\n",
       "    </tr>\n",
       "  </thead>\n",
       "  <tbody>\n",
       "    <tr>\n",
       "      <th>0</th>\n",
       "      <td>5 stars</td>\n",
       "      <td>0.533591</td>\n",
       "    </tr>\n",
       "  </tbody>\n",
       "</table>\n",
       "</div>"
      ],
      "text/plain": [
       "     label     score\n",
       "0  5 stars  0.533591"
      ]
     },
     "execution_count": 45,
     "metadata": {},
     "output_type": "execute_result"
    }
   ],
   "source": [
    "result_df"
   ]
  },
  {
   "cell_type": "code",
   "execution_count": 43,
   "id": "4668df12-bca1-4750-b200-36c03d492e2b",
   "metadata": {},
   "outputs": [
    {
     "data": {
      "text/plain": [
       "'My sister and in laws were in town and we wanted a central meeting point. My sister wanted more of a basic breakfast and we decided on here. We are so glad that we did. Great food, good service and good prices. They only have drip coffee (if you are a coffee snob) but I am told it is good. It is small, tables of 2 or 4. We had 5 so we had to wait about 15 minutes for a table which was fine. We got to check out the food as it came out of the kitchen. The home fries were awesome, the eggs were cooked to order and I will be back.'"
      ]
     },
     "execution_count": 43,
     "metadata": {},
     "output_type": "execute_result"
    }
   ],
   "source": [
    "df['text'][0]"
   ]
  },
  {
   "cell_type": "code",
   "execution_count": 42,
   "id": "27a41a1c-d591-4675-9f20-d69247500251",
   "metadata": {},
   "outputs": [
    {
     "data": {
      "text/plain": [
       "[{'label': '5 stars', 'score': 0.5335907340049744}]"
      ]
     },
     "execution_count": 42,
     "metadata": {},
     "output_type": "execute_result"
    }
   ],
   "source": [
    "sentiment_pipeline(df['text'][0])"
   ]
  },
  {
   "cell_type": "code",
   "execution_count": null,
   "id": "90214bb4-68f0-4cbf-9b4e-b6ed352142be",
   "metadata": {},
   "outputs": [],
   "source": []
  }
 ],
 "metadata": {
  "kernelspec": {
   "display_name": "Python 3 (ipykernel)",
   "language": "python",
   "name": "python3"
  },
  "language_info": {
   "codemirror_mode": {
    "name": "ipython",
    "version": 3
   },
   "file_extension": ".py",
   "mimetype": "text/x-python",
   "name": "python",
   "nbconvert_exporter": "python",
   "pygments_lexer": "ipython3",
   "version": "3.12.2"
  }
 },
 "nbformat": 4,
 "nbformat_minor": 5
}
