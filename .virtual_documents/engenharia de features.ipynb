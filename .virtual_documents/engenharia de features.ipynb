


import numpy as np
import pandas as pd
import ast


def literal_eval(x):
    if pd.isna(x):
        return dict()
    raw_dict = ast.literal_eval(x)
    for key in raw_dict:
        raw_dict[key] = ast.literal_eval(raw_dict[key])
    return raw_dict
        
def proccess_df(df):
    df['loc'] = df['loc'].apply(lambda x: ast.literal_eval(x))
    df['attributes'] = df['attributes'].apply(literal_eval)
    df['hours'] = df['hours'].apply(lambda x: ast.literal_eval(x) if not pd.isna(x) else dict())


df = pd.read_csv('dados/X_trainToronto.csv').set_index('business_id')
proccess_df(df)
df


df_reg = df.copy()





df_reg = df_reg[['latitude', 'longitude', 'attributes', 'categories', 'hours', 'destaque']]
df_reg





from collections import defaultdict

unique_attributes = defaultdict(set)
two_layer_attributtes = defaultdict(set)
attributes = df['attributes']
for item_dict in attributes:
    for key in item_dict:
        if type(item_dict[key]) is dict:
            for key2 in item_dict[key]:
                two_layer_attributtes[(key, key2)].add(item_dict[key][key2])
        else:
            unique_attributes[key].add(item_dict[key])
print(unique_attributes)
def dummy_attr(obj_raw):
    atributes = {}
    obj = obj_raw
    if obj_raw == None:
        obj = dict()
    for attr in unique_attributes:
        atributes[attr] = False
        if attr in obj:
            atributes[attr] = obj[attr]
            
    for attr1, attr2 in two_layer_attributtes:
        key = f'{attr1}.{attr2}'
        atributes[key] = False
        if attr1 in obj and attr2 in obj[attr1]:
            atributes[key] = obj[attr1][attr2]

df_reg['attributes'].apply(dummy_attr)
