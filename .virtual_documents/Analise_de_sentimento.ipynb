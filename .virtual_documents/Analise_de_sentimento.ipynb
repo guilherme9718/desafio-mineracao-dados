


import numpy as np
import pandas as pd
from transformers import pipeline
from tqdm import tqdm
import hashlib
import math


rows = 20
chunk = 1000
chunk_pipeline = 1000
file = 'dados/reviewsTestToronto'


sentiment_pipeline = pipeline("text-classification", model="nlptown/bert-base-multilingual-uncased-sentiment")


def reset_file():
    pd.DataFrame([], columns=['label', 'score', 'business_id', 'user_id', 'text_hash', 'useful', 'cool', 'funny']).to_csv(file + 'Sentiment.csv', mode='w', header=True, index=False)

def proccess(df_chunk):
    results = []
    #for df_chunk in tqdm(np.array_split(df, chunk_pipeline), total=len(df)/chunk_pipeline):
    obj_list = sentiment_pipeline(list(df_chunk['text'].apply(lambda x: x[0:512])))
    for obj, items in zip(obj_list, df_chunk.iterrows()):
        row = items[1]
        obj['label'] = int(obj['label'].split(' ')[0])
        obj['score'] = float(obj['score'])
        obj['business_id'] = row['business_id']
        obj['user_id'] = row['user_id']
        obj['text_hash'] = hashlib.sha1(row['text'].encode()).hexdigest()
        obj['useful'] = row['useful']
        obj['cool'] = row['cool']
        obj['funny'] = row['funny']
        results.append(obj)
    
    save_df = pd.DataFrame.from_dict(results)
    results = []
    save_df.to_csv(file + 'Sentiment.csv', mode='a', header=False, index=False)




reset_file()
for df in tqdm(pd.read_csv(file + '.csv', chunksize=chunk), total=math.ceil(34474 / chunk)):
    proccess(df)


df = pd.read_csv(file +'.csv')
df


df = pd.read_csv('dados/reviewsTrainToronto.csv', nrows=10)
df


import nltk
nltk.download('punkt_tab')








pd.concat([df.iloc[begining_index:index+1], pd.DataFrame.from_dict(results)], axis=1)


pd.DataFrame(row).transpose()


result_df


df['text'][0]


sentiment_pipeline(df['text'][0])



