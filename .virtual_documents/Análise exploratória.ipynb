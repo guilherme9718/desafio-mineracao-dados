import numpy as np
import pandas as pd
import ast


def literal_eval(x):
    if pd.isna(x):
        return dict()
    raw_dict = ast.literal_eval(x)
    for key in raw_dict:
        raw_dict[key] = ast.literal_eval(raw_dict[key])
    return raw_dict
        
def proccess_df(df):
    df['loc'] = df['loc'].apply(lambda x: ast.literal_eval(x))
    df['attributes'] = df['attributes'].apply(literal_eval)
    df['hours'] = df['hours'].apply(lambda x: ast.literal_eval(x) if not pd.isna(x) else dict())


df = pd.read_csv('dados/X_trainToronto.csv').set_index('business_id')
proccess_df(df)

df.head(10)





unique_attributes = set()
attributes = df['attributes'].iteritems()
for index, item_dict in attributes:
    for key in item_dict:
        if type(item_dict[key]) is dict:
            for key2 in item_dict[key]:
                unique_attributes.add(f'{key}.{key2}')
        else:
            unique_attributes.add(key)
    
unique_attributes


df['attributes'][0]


from transformers import pipeline
sentiment_pipeline = pipeline("text-classification", model="nlptown/bert-base-multilingual-uncased-sentiment")
data = ["I love you", "I hate you"]
sentiment_pipeline(data)


len(df)


df_reviews = pd.read_csv('dados/reviewsTrainToronto.csv')
df_reviews.head(10)


len(df_reviews)





df_reviews_count = df_reviews.groupby('business_id').count().iloc[:,0].sort_values()
df_reviews_count


df = df.join(df_reviews_count, rsuffix='reviews_count_')
df


import ast
obj = ast.literal_eval(df['loc'].astype(object)[0])
obj


obj['type']
