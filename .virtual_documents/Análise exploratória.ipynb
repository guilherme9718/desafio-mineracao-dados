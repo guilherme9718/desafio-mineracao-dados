import numpy as np
import pandas as pd
import ast


def literal_eval(x):
    if pd.isna(x):
        return dict()
    raw_dict = ast.literal_eval(x)
    for key in raw_dict:
        raw_dict[key] = ast.literal_eval(raw_dict[key])
    return raw_dict
        
def proccess_df(df):
    df['loc'] = df['loc'].apply(lambda x: ast.literal_eval(x))
    df['attributes'] = df['attributes'].apply(literal_eval)
    df['hours'] = df['hours'].apply(lambda x: ast.literal_eval(x) if not pd.isna(x) else dict())
    df = df.set_index('business_id')
    return df


df = pd.read_csv('dados/X_trainToronto.csv').set_index('business_id')
proccess_df(df)

df.head(10)





unique_attributes = set()
attributes = df['attributes'].iteritems()
for index, item_dict in attributes:
    for key in item_dict:
        if type(item_dict[key]) is dict:
            for key2 in item_dict[key]:
                unique_attributes.add(f'{key}.{key2}')
        else:
            unique_attributes.add(key)
    
unique_attributes





df_reviews_count = df_reviews.groupby('business_id').count().iloc[:,0].sort_values()
df_reviews_count





def make_df_score(df, df_reviews):
    weights = {
        'useful': 1,
        'cool': 0.75,
        'funny': 0.5
    }
    df_reviews['weight'] = df_reviews.apply(lambda row: 1 + row['useful'] * weights['useful'] + row['cool'] * weights['cool'] + row['funny'] * weights['funny'], axis=1)
    def wavg_label(group):
        d = group['label']
        w = group['weight']
        return (d * w).sum() / w.sum()
    
    def wavg_score(group):
        d = group['score']
        w = group['weight']
        return (d * w).sum() / w.sum()
        
    df_reviews_label_grouped = df_reviews.groupby(['business_id']).apply(wavg_label, include_groups=False)
    df_reviews_score_grouped = df_reviews.groupby(['business_id']).apply(wavg_score, include_groups=False)
    df_reviews_scores = pd.DataFrame(df_reviews_label_grouped, columns=['stars']).join(pd.DataFrame(df_reviews_score_grouped, columns=['score']))
    df_score = df.join(df_reviews_scores)
    df_score['stars'] = (df_score['stars']-df_score['stars'].min())/(df_score['stars'].max()-df_score['stars'].min())
    return df_score

df_score = make_df_score(proccess_df(pd.read_csv('dados/X_trainToronto.csv')), pd.read_csv('dados_produzidos/reviewsTrainTorontoSentiment.csv'))
df_score


df_score[['stars', 'destaque']].corr()


from sklearn.model_selection import train_test_split
df_X = df_score[['stars', 'score', 'review_count']]
df_y = df_score['destaque']
X_train, X_test, y_train, y_test = train_test_split(df_X, df_y, test_size=0.25, random_state=892)
display(X_train)
display(y_train)


from sklearn.metrics import accuracy_score, precision_score, recall_score, f1_score

def measure(y_test, y_pred):
    # Calculate accuracy
    accuracy = accuracy_score(y_test, y_pred)
    print("Accuracy:", accuracy)
    
    # Calculate precision
    precision = precision_score(y_test, y_pred)
    print("Precision:", precision)
    
    # Calculate recall (sensitivity)
    recall = recall_score(y_test, y_pred)
    print("Recall (Sensitivity):", recall)
    
    # Calculate F1-score
    f1 = f1_score(y_test, y_pred)
    print("F1-Score:", f1)





rng = np.random.default_rng(123)
y_test_zeros = np.array(np.zeros(y_test.value_counts()[0]))
y_test_ones = np.full(shape=y_test.value_counts()[1],fill_value=1)
baseline = np.append(y_test_zeros, y_test_ones)
rng.shuffle(baseline)
measure(y_test, baseline)





from sklearn.linear_model import LinearRegression

reg = LinearRegression().fit(X_train, y_train)
reg.score(X_train, y_train)


threshold = 0.12
y_pred = [1 if x > threshold else 0 for x in reg.predict(X_test)]
measure(y_test, y_pred)





from sklearn.svm import SVR
from sklearn.pipeline import make_pipeline
from sklearn.preprocessing import StandardScaler

regr = make_pipeline(StandardScaler(), SVR(C=2.0, epsilon=0.2))

regr.fit(X_train, y_train)


threshold = 0.25
y_pred = [1 if x > threshold else 0 for x in regr.predict(X_test)]
measure(y_test, y_pred)





from sklearn.linear_model import LogisticRegression

clf = LogisticRegression(random_state=3).fit(X_train, y_train)
clf.score(X_train, y_train)


pd.Series(clf.decision_function(X_test)).value_counts()


threshold = -2.2
y_pred = [1 if x > threshold else 0 for x in clf.decision_function(X_test)]
measure(y_test, y_pred)





from sklearn.tree import DecisionTreeClassifier

clf = DecisionTreeClassifier(random_state=1, max_depth=4)
clf.fit(X_train, y_train)
y_pred = clf.predict(X_test)
measure(y_test, y_pred)


from sklearn.tree import plot_tree
import matplotlib.pyplot as plt

plt.figure(figsize=(18, 15))
plot_tree(clf, filled=True, feature_names=X_train.columns)
plt.show()


from sklearn.ensemble import RandomForestClassifier

clf = RandomForestClassifier(n_estimators=50, random_state=1)
clf.fit(X_train, y_train)
y_pred = clf.predict(X_test)
measure(y_test, y_pred)





df_score_submission = make_df_score(proccess_df(pd.read_csv('dados/X_testToronto.csv')), pd.read_csv('dados_produzidos/reviewsTestTorontoSentiment.csv'))
X_submission = df_score_submission[['stars', 'score', 'review_count']]
df_score_submission


clf = DecisionTreeClassifier(random_state=1, max_depth=4)
clf.fit(X_train, y_train)
y_pred = clf.predict(X_submission)
y_pred


pd.DataFrame({'business_id':X_submission.index, 'destaque':y_pred }).to_csv('predicoes/decisionTreeOnlySentimentAnalisis.csv', columns=['business_id','destaque'],index=False)
