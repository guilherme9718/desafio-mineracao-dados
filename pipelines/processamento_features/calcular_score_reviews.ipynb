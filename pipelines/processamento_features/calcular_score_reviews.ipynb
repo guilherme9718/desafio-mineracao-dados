{
 "cells": [
  {
   "cell_type": "markdown",
   "id": "ea0a0e26-6f14-4fae-a8b9-bd5bb5d07c27",
   "metadata": {},
   "source": [
    "# Calcular score das avaliações"
   ]
  },
  {
   "cell_type": "code",
   "execution_count": 1,
   "id": "e19bd602-6a68-4d2b-a015-21e2b0513206",
   "metadata": {},
   "outputs": [],
   "source": [
    "import numpy as np\n",
    "import pandas as pd"
   ]
  },
  {
   "cell_type": "code",
   "execution_count": 2,
   "id": "13020adb",
   "metadata": {
    "tags": [
     "parameters"
    ]
   },
   "outputs": [],
   "source": [
    "# declare a list tasks whose products you want to use as inputs\n",
    "upstream = None\n",
    "product = None\n",
    "df_input_path = '../../dados/X_trainToronto.csv'\n",
    "df_review_input_path = '../../dados_produzidos/reviewsTrainTorontoSentiment.csv'"
   ]
  },
  {
   "cell_type": "code",
   "execution_count": null,
   "id": "4329030e-6cd8-4627-85a8-5119ccdeb96a",
   "metadata": {},
   "outputs": [],
   "source": [
    "df_reg = pd.read_csv(df_input_path)\n",
    "df_reviews = pd.read_csv(df_review_input_path)\n",
    "df_reg = df_reg[['business_id', 'review_count']]\n",
    "df_reg"
   ]
  },
  {
   "cell_type": "markdown",
   "id": "c5f48eae-9408-4cc8-aa7c-e53089342509",
   "metadata": {},
   "source": [
    "## Calcular score das analises"
   ]
  },
  {
   "cell_type": "code",
   "execution_count": 49,
   "id": "c9a340a8-e7ed-4e48-bc16-01abfbcc5c0b",
   "metadata": {},
   "outputs": [
    {
     "data": {
      "text/html": [
       "<div>\n",
       "<style scoped>\n",
       "    .dataframe tbody tr th:only-of-type {\n",
       "        vertical-align: middle;\n",
       "    }\n",
       "\n",
       "    .dataframe tbody tr th {\n",
       "        vertical-align: top;\n",
       "    }\n",
       "\n",
       "    .dataframe thead th {\n",
       "        text-align: right;\n",
       "    }\n",
       "</style>\n",
       "<table border=\"1\" class=\"dataframe\">\n",
       "  <thead>\n",
       "    <tr style=\"text-align: right;\">\n",
       "      <th></th>\n",
       "      <th>stars</th>\n",
       "      <th>score</th>\n",
       "    </tr>\n",
       "  </thead>\n",
       "  <tbody>\n",
       "    <tr>\n",
       "      <th>0</th>\n",
       "      <td>0.582949</td>\n",
       "      <td>0.532271</td>\n",
       "    </tr>\n",
       "    <tr>\n",
       "      <th>1</th>\n",
       "      <td>0.791667</td>\n",
       "      <td>0.577041</td>\n",
       "    </tr>\n",
       "    <tr>\n",
       "      <th>2</th>\n",
       "      <td>0.340136</td>\n",
       "      <td>0.706820</td>\n",
       "    </tr>\n",
       "    <tr>\n",
       "      <th>3</th>\n",
       "      <td>0.666667</td>\n",
       "      <td>0.400056</td>\n",
       "    </tr>\n",
       "    <tr>\n",
       "      <th>4</th>\n",
       "      <td>0.006757</td>\n",
       "      <td>0.511156</td>\n",
       "    </tr>\n",
       "    <tr>\n",
       "      <th>...</th>\n",
       "      <td>...</td>\n",
       "      <td>...</td>\n",
       "    </tr>\n",
       "    <tr>\n",
       "      <th>17577</th>\n",
       "      <td>0.320359</td>\n",
       "      <td>0.567692</td>\n",
       "    </tr>\n",
       "    <tr>\n",
       "      <th>17578</th>\n",
       "      <td>0.772727</td>\n",
       "      <td>0.757226</td>\n",
       "    </tr>\n",
       "    <tr>\n",
       "      <th>17579</th>\n",
       "      <td>0.568000</td>\n",
       "      <td>0.657578</td>\n",
       "    </tr>\n",
       "    <tr>\n",
       "      <th>17580</th>\n",
       "      <td>0.146341</td>\n",
       "      <td>0.696177</td>\n",
       "    </tr>\n",
       "    <tr>\n",
       "      <th>17581</th>\n",
       "      <td>0.658730</td>\n",
       "      <td>0.571519</td>\n",
       "    </tr>\n",
       "  </tbody>\n",
       "</table>\n",
       "<p>17582 rows × 2 columns</p>\n",
       "</div>"
      ],
      "text/plain": [
       "          stars     score\n",
       "0      0.582949  0.532271\n",
       "1      0.791667  0.577041\n",
       "2      0.340136  0.706820\n",
       "3      0.666667  0.400056\n",
       "4      0.006757  0.511156\n",
       "...         ...       ...\n",
       "17577  0.320359  0.567692\n",
       "17578  0.772727  0.757226\n",
       "17579  0.568000  0.657578\n",
       "17580  0.146341  0.696177\n",
       "17581  0.658730  0.571519\n",
       "\n",
       "[17582 rows x 2 columns]"
      ]
     },
     "execution_count": 49,
     "metadata": {},
     "output_type": "execute_result"
    }
   ],
   "source": [
    "from sklearn.preprocessing import StandardScaler\n",
    "\n",
    "def make_df_score(df, df_reviews):\n",
    "    weights = {\n",
    "        'useful': 1,\n",
    "        'cool': 0.75,\n",
    "        'funny': 0.5\n",
    "    }\n",
    "    df_reviews['weight'] = df_reviews.apply(lambda row: 1 + row['useful'] * weights['useful'] + row['cool'] * weights['cool'] + row['funny'] * weights['funny'], axis=1)\n",
    "    def wavg_label(group):\n",
    "        d = group['label']\n",
    "        w = group['weight']\n",
    "        return (d * w).sum() / w.sum()\n",
    "    \n",
    "    def wavg_score(group):\n",
    "        d = group['score']\n",
    "        w = group['weight']\n",
    "        return (d * w).sum() / w.sum()\n",
    "        \n",
    "    df_reviews_label_grouped = df_reviews.groupby(['business_id']).apply(wavg_label, include_groups=False)\n",
    "    df_reviews_score_grouped = df_reviews.groupby(['business_id']).apply(wavg_score, include_groups=False)\n",
    "    df_reviews_scores = pd.DataFrame(df_reviews_label_grouped, columns=['stars']).join(pd.DataFrame(df_reviews_score_grouped, columns=['score']))\n",
    "    df_score = df.join(df_reviews_scores)\n",
    "    scaler = StandardScaler()\n",
    "    df_score['stars'] = scaler.fit_transform(df_score[['stars']])\n",
    "    return df_score\n",
    "\n",
    "df_score = make_df_score(df_reg.set_index('business_id'), df_reviews)\n",
    "df_reg[['stars', 'score']] = df_score.reset_index()[['stars', 'score']]\n",
    "df_reg[['stars', 'score']]"
   ]
  },
  {
   "cell_type": "code",
   "execution_count": null,
   "id": "3dc63011-5a33-4a1f-92c3-040befc9e5b8",
   "metadata": {},
   "outputs": [],
   "source": [
    "df_reg.to_parquet(product['data'])"
   ]
  }
 ],
 "metadata": {
  "kernelspec": {
   "display_name": "Python 3 (ipykernel)",
   "language": "python",
   "name": "python3"
  },
  "language_info": {
   "codemirror_mode": {
    "name": "ipython",
    "version": 3
   },
   "file_extension": ".py",
   "mimetype": "text/x-python",
   "name": "python",
   "nbconvert_exporter": "python",
   "pygments_lexer": "ipython3",
   "version": "3.12.2"
  }
 },
 "nbformat": 4,
 "nbformat_minor": 5
}
