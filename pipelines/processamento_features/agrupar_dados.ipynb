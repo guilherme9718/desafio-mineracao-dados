{
 "cells": [
  {
   "cell_type": "markdown",
   "id": "ea0a0e26-6f14-4fae-a8b9-bd5bb5d07c27",
   "metadata": {},
   "source": [
    "# Agrupar dados"
   ]
  },
  {
   "cell_type": "code",
   "execution_count": 1,
   "id": "e19bd602-6a68-4d2b-a015-21e2b0513206",
   "metadata": {},
   "outputs": [],
   "source": [
    "import numpy as np\n",
    "import pandas as pd"
   ]
  },
  {
   "cell_type": "code",
   "execution_count": 2,
   "id": "13020adb",
   "metadata": {
    "tags": [
     "parameters"
    ]
   },
   "outputs": [],
   "source": [
    "# declare a list tasks whose products you want to use as inputs\n",
    "upstream = ['preprocessar_dados_basicos', \n",
    "            'processar_attributes',\n",
    "            'processar_categories',\n",
    "            'processar_hours',\n",
    "            'graph_feature',\n",
    "            'calcular_score_reviews']\n",
    "\n",
    "product = None\n",
    "df_input_path = '../../dados/X_trainToronto.csv'\n",
    "df_review_input_path = '../../dados_produzidos/reviewsTrainTorontoSentiment.csv'"
   ]
  },
  {
   "cell_type": "code",
   "execution_count": null,
   "id": "4329030e-6cd8-4627-85a8-5119ccdeb96a",
   "metadata": {},
   "outputs": [],
   "source": [
    "df_reg = pd.read_csv(df_input_path)\n",
    "df_reg = df_reg[['business_id']]\n",
    "df_reg"
   ]
  },
  {
   "cell_type": "markdown",
   "id": "c5f48eae-9408-4cc8-aa7c-e53089342509",
   "metadata": {},
   "source": [
    "## Agrupar dados de outras pipelines"
   ]
  },
  {
   "cell_type": "code",
   "execution_count": null,
   "id": "59979811-7ce4-4f50-a0a0-6a0bec4b6677",
   "metadata": {},
   "outputs": [],
   "source": [
    "dataframes = []\n",
    "for pipeline in upstream:\n",
    "    df_new = pd.read_parquet(upstream[pipeline]['data'])\n",
    "    different_cols = df_new.columns.difference(df_reg.columns)\n",
    "    df_reg = pd.concat([df_reg, df_new[different_cols]], axis=1)\n",
    "\n",
    "df_reg"
   ]
  },
  {
   "cell_type": "code",
   "execution_count": null,
   "id": "3dc63011-5a33-4a1f-92c3-040befc9e5b8",
   "metadata": {},
   "outputs": [],
   "source": [
    "df_reg.to_parquet(product['data'])"
   ]
  }
 ],
 "metadata": {
  "kernelspec": {
   "display_name": "Python 3 (ipykernel)",
   "language": "python",
   "name": "python3"
  },
  "language_info": {
   "codemirror_mode": {
    "name": "ipython",
    "version": 3
   },
   "file_extension": ".py",
   "mimetype": "text/x-python",
   "name": "python",
   "nbconvert_exporter": "python",
   "pygments_lexer": "ipython3",
   "version": "3.12.2"
  }
 },
 "nbformat": 4,
 "nbformat_minor": 5
}
