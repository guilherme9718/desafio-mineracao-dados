{
 "cells": [
  {
   "cell_type": "markdown",
   "id": "ea0a0e26-6f14-4fae-a8b9-bd5bb5d07c27",
   "metadata": {
    "papermill": {
     "duration": 0.003733,
     "end_time": "2025-04-21T20:32:29.982973",
     "exception": false,
     "start_time": "2025-04-21T20:32:29.979240",
     "status": "completed"
    },
    "tags": []
   },
   "source": [
    "# Teste de classificadores comuns"
   ]
  },
  {
   "cell_type": "code",
   "execution_count": 1,
   "id": "e19bd602-6a68-4d2b-a015-21e2b0513206",
   "metadata": {
    "papermill": {
     "duration": 0.403833,
     "end_time": "2025-04-21T20:32:30.391186",
     "exception": false,
     "start_time": "2025-04-21T20:32:29.987353",
     "status": "completed"
    },
    "tags": []
   },
   "outputs": [],
   "source": [
    "import numpy as np\n",
    "import pandas as pd"
   ]
  },
  {
   "cell_type": "code",
   "execution_count": 2,
   "id": "13020adb",
   "metadata": {
    "papermill": {
     "duration": 0.007474,
     "end_time": "2025-04-21T20:32:30.400145",
     "exception": false,
     "start_time": "2025-04-21T20:32:30.392671",
     "status": "completed"
    },
    "tags": [
     "parameters"
    ]
   },
   "outputs": [],
   "source": [
    "# declare a list tasks whose products you want to use as inputs\n",
    "upstream = ['preparar_classificacao']\n",
    "product = None"
   ]
  },
  {
   "cell_type": "code",
   "execution_count": 3,
   "id": "25ddad40",
   "metadata": {
    "papermill": {
     "duration": 0.007843,
     "end_time": "2025-04-21T20:32:30.409657",
     "exception": false,
     "start_time": "2025-04-21T20:32:30.401814",
     "status": "completed"
    },
    "tags": [
     "injected-parameters"
    ]
   },
   "outputs": [],
   "source": [
    "# Parameters\n",
    "upstream = {\n",
    "    \"preparar_classificacao\": {\n",
    "        \"data_X\": \"/home/guilherme/\\xc1rea de Trabalho/Estudo Faculdade/Disciplinas/minera\\xe7\\xe3o de dados/Desafio/pipelines/processamento_features/output/preparar_classificacao_data_X.parquet\",\n",
    "        \"data_y\": \"/home/guilherme/\\xc1rea de Trabalho/Estudo Faculdade/Disciplinas/minera\\xe7\\xe3o de dados/Desafio/pipelines/processamento_features/output/preparar_classificacao_data_y.parquet\",\n",
    "        \"nb\": \"/home/guilherme/\\xc1rea de Trabalho/Estudo Faculdade/Disciplinas/minera\\xe7\\xe3o de dados/Desafio/pipelines/processamento_features/output/output_preparar_classificacao.ipynb\",\n",
    "    }\n",
    "}\n",
    "product = {\n",
    "    \"nb\": \"/home/guilherme/\\xc1rea de Trabalho/Estudo Faculdade/Disciplinas/minera\\xe7\\xe3o de dados/Desafio/pipelines/processamento_features/output/output_teste_modelo.ipynb\"\n",
    "}\n"
   ]
  },
  {
   "cell_type": "code",
   "execution_count": 4,
   "id": "4329030e-6cd8-4627-85a8-5119ccdeb96a",
   "metadata": {
    "papermill": {
     "duration": 0.049196,
     "end_time": "2025-04-21T20:32:30.460239",
     "exception": false,
     "start_time": "2025-04-21T20:32:30.411043",
     "status": "completed"
    },
    "tags": []
   },
   "outputs": [],
   "source": [
    "df_X = pd.read_parquet(upstream['preparar_classificacao']['data_X'])\n",
    "df_y = pd.read_parquet(upstream['preparar_classificacao']['data_y']).iloc[:, 0]"
   ]
  },
  {
   "cell_type": "code",
   "execution_count": 5,
   "id": "93419530-81e3-48d8-8d30-6770a7cae67d",
   "metadata": {},
   "outputs": [
    {
     "data": {
      "text/html": [
       "<div>\n",
       "<style scoped>\n",
       "    .dataframe tbody tr th:only-of-type {\n",
       "        vertical-align: middle;\n",
       "    }\n",
       "\n",
       "    .dataframe tbody tr th {\n",
       "        vertical-align: top;\n",
       "    }\n",
       "\n",
       "    .dataframe thead th {\n",
       "        text-align: right;\n",
       "    }\n",
       "</style>\n",
       "<table border=\"1\" class=\"dataframe\">\n",
       "  <thead>\n",
       "    <tr style=\"text-align: right;\">\n",
       "      <th></th>\n",
       "      <th>graph_betweenness_centrality</th>\n",
       "      <th>graph_closeness_centrality</th>\n",
       "      <th>destaque</th>\n",
       "    </tr>\n",
       "  </thead>\n",
       "  <tbody>\n",
       "    <tr>\n",
       "      <th>graph_betweenness_centrality</th>\n",
       "      <td>1.000000</td>\n",
       "      <td>0.323761</td>\n",
       "      <td>-0.030129</td>\n",
       "    </tr>\n",
       "    <tr>\n",
       "      <th>graph_closeness_centrality</th>\n",
       "      <td>0.323761</td>\n",
       "      <td>1.000000</td>\n",
       "      <td>-0.004188</td>\n",
       "    </tr>\n",
       "    <tr>\n",
       "      <th>destaque</th>\n",
       "      <td>-0.030129</td>\n",
       "      <td>-0.004188</td>\n",
       "      <td>1.000000</td>\n",
       "    </tr>\n",
       "  </tbody>\n",
       "</table>\n",
       "</div>"
      ],
      "text/plain": [
       "                              graph_betweenness_centrality  \\\n",
       "graph_betweenness_centrality                      1.000000   \n",
       "graph_closeness_centrality                        0.323761   \n",
       "destaque                                         -0.030129   \n",
       "\n",
       "                              graph_closeness_centrality  destaque  \n",
       "graph_betweenness_centrality                    0.323761 -0.030129  \n",
       "graph_closeness_centrality                      1.000000 -0.004188  \n",
       "destaque                                       -0.004188  1.000000  "
      ]
     },
     "execution_count": 5,
     "metadata": {},
     "output_type": "execute_result"
    }
   ],
   "source": [
    "df_teste = pd.concat([df_X, df_y], axis=1)\n",
    "df_teste[['graph_betweenness_centrality', 'graph_closeness_centrality', 'destaque']].corr()"
   ]
  },
  {
   "cell_type": "markdown",
   "id": "0fec6c92-fcef-4813-9ff7-77681c6c52ab",
   "metadata": {
    "papermill": {
     "duration": 0.001204,
     "end_time": "2025-04-21T20:32:30.462783",
     "exception": false,
     "start_time": "2025-04-21T20:32:30.461579",
     "status": "completed"
    },
    "tags": []
   },
   "source": [
    "## Teste com modelos de classificação"
   ]
  },
  {
   "cell_type": "code",
   "execution_count": 5,
   "id": "de81bf4b-a3f5-4e27-95f0-d19e57d948f4",
   "metadata": {
    "execution": {
     "iopub.execute_input": "2025-04-21T20:32:30.466362Z",
     "iopub.status.busy": "2025-04-21T20:32:30.466133Z",
     "iopub.status.idle": "2025-04-21T20:33:04.932181Z",
     "shell.execute_reply": "2025-04-21T20:33:04.931435Z"
    },
    "papermill": {
     "duration": 34.470398,
     "end_time": "2025-04-21T20:33:04.934427",
     "exception": false,
     "start_time": "2025-04-21T20:32:30.464029",
     "status": "completed"
    },
    "tags": []
   },
   "outputs": [
    {
     "name": "stdout",
     "output_type": "stream",
     "text": [
      "linear ridge\n",
      "f1: 0.274 ,\n",
      "Standard Deviations :0.019\n",
      "\n",
      "\n"
     ]
    },
    {
     "name": "stdout",
     "output_type": "stream",
     "text": [
      "logistic\n",
      "f1: 0.252 ,\n",
      "Standard Deviations :0.018\n",
      "\n",
      "\n"
     ]
    },
    {
     "name": "stdout",
     "output_type": "stream",
     "text": [
      "decision_tree\n",
      "f1: 0.500 ,\n",
      "Standard Deviations :0.034\n",
      "\n",
      "\n"
     ]
    },
    {
     "name": "stdout",
     "output_type": "stream",
     "text": [
      "random forest\n",
      "f1: 0.464 ,\n",
      "Standard Deviations :0.018\n",
      "\n",
      "\n"
     ]
    },
    {
     "name": "stdout",
     "output_type": "stream",
     "text": [
      "SVC\n",
      "f1: 0.385 ,\n",
      "Standard Deviations :0.028\n",
      "\n",
      "\n"
     ]
    }
   ],
   "source": [
    "from numpy import mean\n",
    "from numpy import std\n",
    "from sklearn.metrics import make_scorer\n",
    "import sklearn.metrics as metrics\n",
    "from sklearn.linear_model import LinearRegression, RidgeClassifier, Lasso\n",
    "from sklearn.linear_model import LogisticRegression\n",
    "from sklearn.svm import SVC\n",
    "from sklearn.pipeline import make_pipeline\n",
    "from sklearn.preprocessing import StandardScaler\n",
    "from sklearn.tree import DecisionTreeClassifier\n",
    "from sklearn.ensemble import RandomForestClassifier\n",
    "from sklearn.model_selection import KFold, cross_val_score\n",
    "\n",
    "kfold_data = KFold(n_splits=5, shuffle=True, random_state=31)\n",
    "df_X_input = df_X\n",
    "\n",
    "def cutoff_youdens_j(fpr, tpr, thresholds):\n",
    "    j_scores = tpr-fpr\n",
    "    j_ordered = sorted(zip(j_scores,thresholds))\n",
    "    return j_ordered[-1][1]\n",
    "    \n",
    "def scorer(y_test, y_pred):\n",
    "    fpr, tpr, thresholds = metrics.roc_curve(y_test, y_pred)\n",
    "    auc = metrics.roc_auc_score(y_test, y_pred)\n",
    "    cutoff = cutoff_youdens_j(fpr, tpr, thresholds)\n",
    "    return metrics.f1_score(y_test, [1.0 if x >= cutoff+0.05 else 0.0 for x in y_pred])\n",
    "\n",
    "def calculate_score_threshold(model, model_name):\n",
    "    scores = cross_val_score(model, df_X_input, df_y, cv=kfold_data, scoring=make_scorer(scorer, response_method=[\"decision_function\", \"predict_proba\"]))\n",
    "    print(model_name + '\\nf1: %.3f ,\\nStandard Deviations :%.3f\\n\\n' % (mean(scores), std(scores)))\n",
    "    \n",
    "def calculate_score(model, model_name):\n",
    "    scores = cross_val_score(model, df_X_input, df_y, cv=kfold_data, scoring='f1')\n",
    "    print(model_name + '\\nf1: %.3f ,\\nStandard Deviations :%.3f\\n\\n' % (mean(scores), std(scores)))\n",
    "    return mean(scores)\n",
    "\n",
    "calculate_score_threshold(RidgeClassifier(), \"linear ridge\")\n",
    "calculate_score_threshold(LogisticRegression(), \"logistic\")\n",
    "calculate_score(DecisionTreeClassifier(random_state=13, max_depth=10), 'decision_tree')\n",
    "calculate_score(RandomForestClassifier(random_state=15, n_estimators=50), 'random forest')\n",
    "calculate_score_threshold(make_pipeline(StandardScaler(), SVC()), \"SVC\")"
   ]
  }
 ],
 "metadata": {
  "kernelspec": {
   "display_name": "Python 3 (ipykernel)",
   "language": "python",
   "name": "python3"
  },
  "language_info": {
   "codemirror_mode": {
    "name": "ipython",
    "version": 3
   },
   "file_extension": ".py",
   "mimetype": "text/x-python",
   "name": "python",
   "nbconvert_exporter": "python",
   "pygments_lexer": "ipython3",
   "version": "3.12.2"
  },
  "papermill": {
   "duration": 36.169128,
   "end_time": "2025-04-21T20:33:05.357226",
   "exception": null,
   "input_path": "/tmp/tmp5lwmdk3g.ipynb",
   "output_path": "/home/guilherme/Área de Trabalho/Estudo Faculdade/Disciplinas/mineração de dados/Desafio/pipelines/processamento_features/output/output_teste_modelo.ipynb",
   "parameters": {
    "product": {
     "nb": "/home/guilherme/Área de Trabalho/Estudo Faculdade/Disciplinas/mineração de dados/Desafio/pipelines/processamento_features/output/output_teste_modelo.ipynb"
    },
    "upstream": {
     "preparar_classificacao": {
      "data_X": "/home/guilherme/Área de Trabalho/Estudo Faculdade/Disciplinas/mineração de dados/Desafio/pipelines/processamento_features/output/preparar_classificacao_data_X.parquet",
      "data_y": "/home/guilherme/Área de Trabalho/Estudo Faculdade/Disciplinas/mineração de dados/Desafio/pipelines/processamento_features/output/preparar_classificacao_data_y.parquet",
      "nb": "/home/guilherme/Área de Trabalho/Estudo Faculdade/Disciplinas/mineração de dados/Desafio/pipelines/processamento_features/output/output_preparar_classificacao.ipynb"
     }
    }
   },
   "start_time": "2025-04-21T20:32:29.188098"
  }
 },
 "nbformat": 4,
 "nbformat_minor": 5
}
