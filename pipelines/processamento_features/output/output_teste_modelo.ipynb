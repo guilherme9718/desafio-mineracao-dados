{
 "cells": [
  {
   "cell_type": "markdown",
   "id": "ea0a0e26-6f14-4fae-a8b9-bd5bb5d07c27",
   "metadata": {
    "papermill": {
     "duration": 0.004109,
     "end_time": "2025-04-29T22:46:24.526634",
     "exception": false,
     "start_time": "2025-04-29T22:46:24.522525",
     "status": "completed"
    },
    "tags": []
   },
   "source": [
    "# Teste de classificadores comuns"
   ]
  },
  {
   "cell_type": "code",
   "execution_count": 1,
   "id": "e19bd602-6a68-4d2b-a015-21e2b0513206",
   "metadata": {
    "execution": {
     "iopub.execute_input": "2025-04-29T22:46:24.538400Z",
     "iopub.status.busy": "2025-04-29T22:46:24.537393Z",
     "iopub.status.idle": "2025-04-29T22:46:24.949437Z",
     "shell.execute_reply": "2025-04-29T22:46:24.948837Z"
    },
    "papermill": {
     "duration": 0.41962,
     "end_time": "2025-04-29T22:46:24.950776",
     "exception": false,
     "start_time": "2025-04-29T22:46:24.531156",
     "status": "completed"
    },
    "tags": []
   },
   "outputs": [],
   "source": [
    "import numpy as np\n",
    "import pandas as pd"
   ]
  },
  {
   "cell_type": "code",
   "execution_count": 2,
   "id": "13020adb",
   "metadata": {
    "execution": {
     "iopub.execute_input": "2025-04-29T22:46:24.954770Z",
     "iopub.status.busy": "2025-04-29T22:46:24.954467Z",
     "iopub.status.idle": "2025-04-29T22:46:24.957466Z",
     "shell.execute_reply": "2025-04-29T22:46:24.957006Z"
    },
    "papermill": {
     "duration": 0.006342,
     "end_time": "2025-04-29T22:46:24.958640",
     "exception": false,
     "start_time": "2025-04-29T22:46:24.952298",
     "status": "completed"
    },
    "tags": [
     "parameters"
    ]
   },
   "outputs": [],
   "source": [
    "# declare a list tasks whose products you want to use as inputs\n",
    "upstream = ['preparar_classificacao']\n",
    "product = None"
   ]
  },
  {
   "cell_type": "code",
   "execution_count": 3,
   "id": "cb755b95",
   "metadata": {
    "execution": {
     "iopub.execute_input": "2025-04-29T22:46:24.962190Z",
     "iopub.status.busy": "2025-04-29T22:46:24.961929Z",
     "iopub.status.idle": "2025-04-29T22:46:24.966049Z",
     "shell.execute_reply": "2025-04-29T22:46:24.965583Z"
    },
    "papermill": {
     "duration": 0.0072,
     "end_time": "2025-04-29T22:46:24.967226",
     "exception": false,
     "start_time": "2025-04-29T22:46:24.960026",
     "status": "completed"
    },
    "tags": [
     "injected-parameters"
    ]
   },
   "outputs": [],
   "source": [
    "# Parameters\n",
    "upstream = {\n",
    "    \"preparar_classificacao\": {\n",
    "        \"data_X\": \"/home/guilherme/\\xc1rea de Trabalho/Estudo Faculdade/Disciplinas/minera\\xe7\\xe3o de dados/Desafio/pipelines/processamento_features/output/preparar_classificacao_data_X.parquet\",\n",
    "        \"data_y\": \"/home/guilherme/\\xc1rea de Trabalho/Estudo Faculdade/Disciplinas/minera\\xe7\\xe3o de dados/Desafio/pipelines/processamento_features/output/preparar_classificacao_data_y.parquet\",\n",
    "        \"nb\": \"/home/guilherme/\\xc1rea de Trabalho/Estudo Faculdade/Disciplinas/minera\\xe7\\xe3o de dados/Desafio/pipelines/processamento_features/output/output_preparar_classificacao.ipynb\",\n",
    "    }\n",
    "}\n",
    "product = {\n",
    "    \"nb\": \"/home/guilherme/\\xc1rea de Trabalho/Estudo Faculdade/Disciplinas/minera\\xe7\\xe3o de dados/Desafio/pipelines/processamento_features/output/output_teste_modelo.ipynb\"\n",
    "}\n"
   ]
  },
  {
   "cell_type": "code",
   "execution_count": 4,
   "id": "4329030e-6cd8-4627-85a8-5119ccdeb96a",
   "metadata": {
    "execution": {
     "iopub.execute_input": "2025-04-29T22:46:24.970915Z",
     "iopub.status.busy": "2025-04-29T22:46:24.970439Z",
     "iopub.status.idle": "2025-04-29T22:46:25.023206Z",
     "shell.execute_reply": "2025-04-29T22:46:25.022396Z"
    },
    "papermill": {
     "duration": 0.056528,
     "end_time": "2025-04-29T22:46:25.025071",
     "exception": false,
     "start_time": "2025-04-29T22:46:24.968543",
     "status": "completed"
    },
    "tags": []
   },
   "outputs": [],
   "source": [
    "df_X = pd.read_parquet(upstream['preparar_classificacao']['data_X'])\n",
    "df_y = pd.read_parquet(upstream['preparar_classificacao']['data_y']).iloc[:, 0]"
   ]
  },
  {
   "cell_type": "markdown",
   "id": "0fec6c92-fcef-4813-9ff7-77681c6c52ab",
   "metadata": {
    "papermill": {
     "duration": 0.001212,
     "end_time": "2025-04-29T22:46:25.027679",
     "exception": false,
     "start_time": "2025-04-29T22:46:25.026467",
     "status": "completed"
    },
    "tags": []
   },
   "source": [
    "## Teste com modelos de classificação"
   ]
  },
  {
   "cell_type": "code",
   "execution_count": 5,
   "id": "de81bf4b-a3f5-4e27-95f0-d19e57d948f4",
   "metadata": {
    "execution": {
     "iopub.execute_input": "2025-04-29T22:46:25.031175Z",
     "iopub.status.busy": "2025-04-29T22:46:25.030944Z",
     "iopub.status.idle": "2025-04-29T22:47:15.973197Z",
     "shell.execute_reply": "2025-04-29T22:47:15.972643Z"
    },
    "papermill": {
     "duration": 50.968198,
     "end_time": "2025-04-29T22:47:15.997124",
     "exception": false,
     "start_time": "2025-04-29T22:46:25.028926",
     "status": "completed"
    },
    "tags": []
   },
   "outputs": [
    {
     "name": "stdout",
     "output_type": "stream",
     "text": [
      "linear ridge\n",
      "f1: 0.272 ,\n",
      "Standard Deviations :0.023\n",
      "\n",
      "\n"
     ]
    },
    {
     "name": "stdout",
     "output_type": "stream",
     "text": [
      "logistic\n",
      "f1: 0.256 ,\n",
      "Standard Deviations :0.026\n",
      "\n",
      "\n"
     ]
    },
    {
     "name": "stdout",
     "output_type": "stream",
     "text": [
      "decision_tree\n",
      "f1: 0.481 ,\n",
      "Standard Deviations :0.025\n",
      "\n",
      "\n"
     ]
    },
    {
     "name": "stdout",
     "output_type": "stream",
     "text": [
      "random forest\n",
      "f1: 0.284 ,\n",
      "Standard Deviations :0.028\n",
      "\n",
      "\n"
     ]
    },
    {
     "name": "stdout",
     "output_type": "stream",
     "text": [
      "SVC\n",
      "f1: 0.470 ,\n",
      "Standard Deviations :0.019\n",
      "\n",
      "\n"
     ]
    }
   ],
   "source": [
    "from numpy import mean\n",
    "from numpy import std\n",
    "from sklearn.metrics import make_scorer\n",
    "import sklearn.metrics as metrics\n",
    "from sklearn.linear_model import LinearRegression, RidgeClassifier, Lasso\n",
    "from sklearn.linear_model import LogisticRegression\n",
    "from sklearn.svm import SVC\n",
    "from sklearn.pipeline import make_pipeline\n",
    "from sklearn.preprocessing import StandardScaler\n",
    "from sklearn.tree import DecisionTreeClassifier\n",
    "from sklearn.ensemble import RandomForestClassifier\n",
    "from sklearn.model_selection import KFold, cross_val_score\n",
    "\n",
    "kfold_data = KFold(n_splits=5, shuffle=True, random_state=31)\n",
    "df_X_input = df_X\n",
    "\n",
    "def cutoff_youdens_j(fpr, tpr, thresholds):\n",
    "    j_scores = tpr-fpr\n",
    "    j_ordered = sorted(zip(j_scores,thresholds))\n",
    "    return j_ordered[-1][1]\n",
    "    \n",
    "def scorer(y_test, y_pred):\n",
    "    fpr, tpr, thresholds = metrics.roc_curve(y_test, y_pred)\n",
    "    auc = metrics.roc_auc_score(y_test, y_pred)\n",
    "    cutoff = cutoff_youdens_j(fpr, tpr, thresholds)\n",
    "    return metrics.f1_score(y_test, [1.0 if x >= cutoff+0.05 else 0.0 for x in y_pred])\n",
    "\n",
    "def calculate_score_threshold(model, model_name):\n",
    "    scores = cross_val_score(model, df_X_input, df_y, cv=kfold_data, scoring=make_scorer(scorer, response_method=[\"decision_function\", \"predict_proba\"]))\n",
    "    print(model_name + '\\nf1: %.3f ,\\nStandard Deviations :%.3f\\n\\n' % (mean(scores), std(scores)))\n",
    "    \n",
    "def calculate_score(model, model_name):\n",
    "    scores = cross_val_score(model, df_X_input, df_y, cv=kfold_data, scoring='f1')\n",
    "    print(model_name + '\\nf1: %.3f ,\\nStandard Deviations :%.3f\\n\\n' % (mean(scores), std(scores)))\n",
    "    return mean(scores)\n",
    "\n",
    "calculate_score_threshold(RidgeClassifier(), \"linear ridge\")\n",
    "calculate_score_threshold(LogisticRegression(), \"logistic\")\n",
    "calculate_score(DecisionTreeClassifier(random_state=13, max_depth=10), 'decision_tree')\n",
    "calculate_score(RandomForestClassifier(random_state=15, n_estimators=50), 'random forest')\n",
    "calculate_score_threshold(SVC(), \"SVC\")"
   ]
  }
 ],
 "metadata": {
  "kernelspec": {
   "display_name": "Python 3 (ipykernel)",
   "language": "python",
   "name": "python3"
  },
  "language_info": {
   "codemirror_mode": {
    "name": "ipython",
    "version": 3
   },
   "file_extension": ".py",
   "mimetype": "text/x-python",
   "name": "python",
   "nbconvert_exporter": "python",
   "pygments_lexer": "ipython3",
   "version": "3.12.2"
  },
  "papermill": {
   "duration": 52.722772,
   "end_time": "2025-04-29T22:47:16.433969",
   "exception": null,
   "input_path": "/tmp/tmpwtsr2hv6.ipynb",
   "output_path": "/home/guilherme/Área de Trabalho/Estudo Faculdade/Disciplinas/mineração de dados/Desafio/pipelines/processamento_features/output/output_teste_modelo.ipynb",
   "parameters": {
    "product": {
     "nb": "/home/guilherme/Área de Trabalho/Estudo Faculdade/Disciplinas/mineração de dados/Desafio/pipelines/processamento_features/output/output_teste_modelo.ipynb"
    },
    "upstream": {
     "preparar_classificacao": {
      "data_X": "/home/guilherme/Área de Trabalho/Estudo Faculdade/Disciplinas/mineração de dados/Desafio/pipelines/processamento_features/output/preparar_classificacao_data_X.parquet",
      "data_y": "/home/guilherme/Área de Trabalho/Estudo Faculdade/Disciplinas/mineração de dados/Desafio/pipelines/processamento_features/output/preparar_classificacao_data_y.parquet",
      "nb": "/home/guilherme/Área de Trabalho/Estudo Faculdade/Disciplinas/mineração de dados/Desafio/pipelines/processamento_features/output/output_preparar_classificacao.ipynb"
     }
    }
   },
   "start_time": "2025-04-29T22:46:23.711197"
  }
 },
 "nbformat": 4,
 "nbformat_minor": 5
}