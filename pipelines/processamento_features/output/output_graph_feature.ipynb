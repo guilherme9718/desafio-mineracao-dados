{
 "cells": [
  {
   "cell_type": "markdown",
   "id": "ea0a0e26-6f14-4fae-a8b9-bd5bb5d07c27",
   "metadata": {
    "papermill": {
     "duration": 0.008444,
     "end_time": "2025-04-21T02:29:14.683566",
     "exception": false,
     "start_time": "2025-04-21T02:29:14.675122",
     "status": "completed"
    },
    "tags": []
   },
   "source": [
    "# Criar grafo bipartido"
   ]
  },
  {
   "cell_type": "code",
   "execution_count": 1,
   "id": "e19bd602-6a68-4d2b-a015-21e2b0513206",
   "metadata": {
    "execution": {
     "iopub.execute_input": "2025-04-21T02:29:14.705492Z",
     "iopub.status.busy": "2025-04-21T02:29:14.704817Z",
     "iopub.status.idle": "2025-04-21T02:29:15.465323Z",
     "shell.execute_reply": "2025-04-21T02:29:15.464746Z"
    },
    "papermill": {
     "duration": 0.773284,
     "end_time": "2025-04-21T02:29:15.466675",
     "exception": false,
     "start_time": "2025-04-21T02:29:14.693391",
     "status": "completed"
    },
    "tags": []
   },
   "outputs": [],
   "source": [
    "import numpy as np\n",
    "import pandas as pd\n",
    "import ast\n",
    "import networkx as nx"
   ]
  },
  {
   "cell_type": "code",
   "execution_count": 2,
   "id": "13020adb",
   "metadata": {
    "execution": {
     "iopub.execute_input": "2025-04-21T02:29:15.472480Z",
     "iopub.status.busy": "2025-04-21T02:29:15.471980Z",
     "iopub.status.idle": "2025-04-21T02:29:15.476913Z",
     "shell.execute_reply": "2025-04-21T02:29:15.476420Z"
    },
    "papermill": {
     "duration": 0.00923,
     "end_time": "2025-04-21T02:29:15.478104",
     "exception": false,
     "start_time": "2025-04-21T02:29:15.468874",
     "status": "completed"
    },
    "tags": [
     "parameters"
    ]
   },
   "outputs": [],
   "source": [
    "# declare a list tasks whose products you want to use as inputs\n",
    "upstream = None\n",
    "product = None\n",
    "edge_percent = 0.1 # porcentagem de quantidade do peso da aresta para ela ser removida ou não \n",
    "df_input_path = '../../dados/X_trainToronto.csv'\n",
    "df_review_input_path = '../../dados_produzidos/reviewsTrainTorontoSentiment.csv'"
   ]
  },
  {
   "cell_type": "code",
   "execution_count": 3,
   "id": "e663cdb6",
   "metadata": {
    "execution": {
     "iopub.execute_input": "2025-04-21T02:29:15.483441Z",
     "iopub.status.busy": "2025-04-21T02:29:15.482928Z",
     "iopub.status.idle": "2025-04-21T02:29:15.486731Z",
     "shell.execute_reply": "2025-04-21T02:29:15.485886Z"
    },
    "papermill": {
     "duration": 0.008331,
     "end_time": "2025-04-21T02:29:15.488399",
     "exception": false,
     "start_time": "2025-04-21T02:29:15.480068",
     "status": "completed"
    },
    "tags": [
     "injected-parameters"
    ]
   },
   "outputs": [],
   "source": [
    "# Parameters\n",
    "df_input_path = \"../../dados/X_trainToronto.csv\"\n",
    "df_review_input_path = \"../../dados_produzidos/reviewsTrainTorontoSentiment.csv\"\n",
    "edge_percent = 0.1\n",
    "product = {\n",
    "    \"data\": \"/home/guilherme/\\xc1rea de Trabalho/Estudo Faculdade/Disciplinas/minera\\xe7\\xe3o de dados/Desafio/pipelines/processamento_features/output/graph_feature.parquet\",\n",
    "    \"graph\": \"/home/guilherme/\\xc1rea de Trabalho/Estudo Faculdade/Disciplinas/minera\\xe7\\xe3o de dados/Desafio/pipelines/processamento_features/output/graph.gml\",\n",
    "    \"nb\": \"/home/guilherme/\\xc1rea de Trabalho/Estudo Faculdade/Disciplinas/minera\\xe7\\xe3o de dados/Desafio/pipelines/processamento_features/output/output_graph_feature.ipynb\",\n",
    "}\n"
   ]
  },
  {
   "cell_type": "code",
   "execution_count": 4,
   "id": "4329030e-6cd8-4627-85a8-5119ccdeb96a",
   "metadata": {
    "execution": {
     "iopub.execute_input": "2025-04-21T02:29:15.494714Z",
     "iopub.status.busy": "2025-04-21T02:29:15.494450Z",
     "iopub.status.idle": "2025-04-21T02:29:15.686350Z",
     "shell.execute_reply": "2025-04-21T02:29:15.685820Z"
    },
    "papermill": {
     "duration": 0.196267,
     "end_time": "2025-04-21T02:29:15.687769",
     "exception": false,
     "start_time": "2025-04-21T02:29:15.491502",
     "status": "completed"
    },
    "tags": []
   },
   "outputs": [
    {
     "data": {
      "text/html": [
       "<div>\n",
       "<style scoped>\n",
       "    .dataframe tbody tr th:only-of-type {\n",
       "        vertical-align: middle;\n",
       "    }\n",
       "\n",
       "    .dataframe tbody tr th {\n",
       "        vertical-align: top;\n",
       "    }\n",
       "\n",
       "    .dataframe thead th {\n",
       "        text-align: right;\n",
       "    }\n",
       "</style>\n",
       "<table border=\"1\" class=\"dataframe\">\n",
       "  <thead>\n",
       "    <tr style=\"text-align: right;\">\n",
       "      <th></th>\n",
       "      <th>business_id</th>\n",
       "      <th>review_count</th>\n",
       "    </tr>\n",
       "  </thead>\n",
       "  <tbody>\n",
       "    <tr>\n",
       "      <th>0</th>\n",
       "      <td>vHzWmPWHN4J1hRR3W3AMQg</td>\n",
       "      <td>99</td>\n",
       "    </tr>\n",
       "    <tr>\n",
       "      <th>1</th>\n",
       "      <td>15to24Q-otAHmto7FzsWRg</td>\n",
       "      <td>3</td>\n",
       "    </tr>\n",
       "    <tr>\n",
       "      <th>2</th>\n",
       "      <td>8aqKdf4G4AAir8k_Kdslvg</td>\n",
       "      <td>18</td>\n",
       "    </tr>\n",
       "    <tr>\n",
       "      <th>3</th>\n",
       "      <td>uxU1vr5AhhkTQ83X0bpeyg</td>\n",
       "      <td>3</td>\n",
       "    </tr>\n",
       "    <tr>\n",
       "      <th>4</th>\n",
       "      <td>f702hTJoqdR34Jn23C7d1A</td>\n",
       "      <td>3</td>\n",
       "    </tr>\n",
       "    <tr>\n",
       "      <th>...</th>\n",
       "      <td>...</td>\n",
       "      <td>...</td>\n",
       "    </tr>\n",
       "    <tr>\n",
       "      <th>17577</th>\n",
       "      <td>Zp5xil8pC6Bm-fFOWIbh0Q</td>\n",
       "      <td>16</td>\n",
       "    </tr>\n",
       "    <tr>\n",
       "      <th>17578</th>\n",
       "      <td>o2811xZ0ufRi7WcsqWiGzw</td>\n",
       "      <td>4</td>\n",
       "    </tr>\n",
       "    <tr>\n",
       "      <th>17579</th>\n",
       "      <td>v9T9m_TbpLuaC2Kud5UbLA</td>\n",
       "      <td>8</td>\n",
       "    </tr>\n",
       "    <tr>\n",
       "      <th>17580</th>\n",
       "      <td>bzGnAIe9OiBHGWJE-dZ_8g</td>\n",
       "      <td>9</td>\n",
       "    </tr>\n",
       "    <tr>\n",
       "      <th>17581</th>\n",
       "      <td>syksx_OMlfHmVmurGTZU5w</td>\n",
       "      <td>5</td>\n",
       "    </tr>\n",
       "  </tbody>\n",
       "</table>\n",
       "<p>17582 rows × 2 columns</p>\n",
       "</div>"
      ],
      "text/plain": [
       "                  business_id  review_count\n",
       "0      vHzWmPWHN4J1hRR3W3AMQg            99\n",
       "1      15to24Q-otAHmto7FzsWRg             3\n",
       "2      8aqKdf4G4AAir8k_Kdslvg            18\n",
       "3      uxU1vr5AhhkTQ83X0bpeyg             3\n",
       "4      f702hTJoqdR34Jn23C7d1A             3\n",
       "...                       ...           ...\n",
       "17577  Zp5xil8pC6Bm-fFOWIbh0Q            16\n",
       "17578  o2811xZ0ufRi7WcsqWiGzw             4\n",
       "17579  v9T9m_TbpLuaC2Kud5UbLA             8\n",
       "17580  bzGnAIe9OiBHGWJE-dZ_8g             9\n",
       "17581  syksx_OMlfHmVmurGTZU5w             5\n",
       "\n",
       "[17582 rows x 2 columns]"
      ]
     },
     "execution_count": 4,
     "metadata": {},
     "output_type": "execute_result"
    }
   ],
   "source": [
    "df_reg = pd.read_csv(df_input_path)\n",
    "df_reg = df_reg[['business_id', 'review_count']]\n",
    "df_reg"
   ]
  },
  {
   "cell_type": "markdown",
   "id": "c77c17dd-5a56-4616-81b8-eb6257468a8f",
   "metadata": {
    "papermill": {
     "duration": 0.002142,
     "end_time": "2025-04-21T02:29:15.692236",
     "exception": false,
     "start_time": "2025-04-21T02:29:15.690094",
     "status": "completed"
    },
    "tags": []
   },
   "source": [
    "## Fazer grafo bipartido de locais\n",
    "Se uma pessoa fez uma avaliação de dois estabelecimentos, uma aresta será formada entre eles"
   ]
  },
  {
   "cell_type": "code",
   "execution_count": 5,
   "id": "31014911-9a51-415a-8f3b-332ab437f988",
   "metadata": {
    "execution": {
     "iopub.execute_input": "2025-04-21T02:29:15.697790Z",
     "iopub.status.busy": "2025-04-21T02:29:15.697522Z",
     "iopub.status.idle": "2025-04-21T02:29:16.621117Z",
     "shell.execute_reply": "2025-04-21T02:29:16.620394Z"
    },
    "papermill": {
     "duration": 0.92829,
     "end_time": "2025-04-21T02:29:16.622786",
     "exception": false,
     "start_time": "2025-04-21T02:29:15.694496",
     "status": "completed"
    },
    "tags": []
   },
   "outputs": [
    {
     "data": {
      "text/html": [
       "<div>\n",
       "<style scoped>\n",
       "    .dataframe tbody tr th:only-of-type {\n",
       "        vertical-align: middle;\n",
       "    }\n",
       "\n",
       "    .dataframe tbody tr th {\n",
       "        vertical-align: top;\n",
       "    }\n",
       "\n",
       "    .dataframe thead th {\n",
       "        text-align: right;\n",
       "    }\n",
       "</style>\n",
       "<table border=\"1\" class=\"dataframe\">\n",
       "  <thead>\n",
       "    <tr style=\"text-align: right;\">\n",
       "      <th></th>\n",
       "      <th>business_id</th>\n",
       "      <th>user_id</th>\n",
       "    </tr>\n",
       "  </thead>\n",
       "  <tbody>\n",
       "    <tr>\n",
       "      <th>0</th>\n",
       "      <td>--DaPTJW3-tB1vP-PfdTEg</td>\n",
       "      <td>Y2TBSd3ExydbgEnVxAt_QA</td>\n",
       "    </tr>\n",
       "    <tr>\n",
       "      <th>1</th>\n",
       "      <td>--DaPTJW3-tB1vP-PfdTEg</td>\n",
       "      <td>Rp-cSUHm-EKBxgBS73PNNg</td>\n",
       "    </tr>\n",
       "    <tr>\n",
       "      <th>2</th>\n",
       "      <td>--DaPTJW3-tB1vP-PfdTEg</td>\n",
       "      <td>2fXZuNKP7Bo-yRrINVbVVA</td>\n",
       "    </tr>\n",
       "    <tr>\n",
       "      <th>3</th>\n",
       "      <td>--DaPTJW3-tB1vP-PfdTEg</td>\n",
       "      <td>fn3Wim-2j042IEDe6VhJFQ</td>\n",
       "    </tr>\n",
       "    <tr>\n",
       "      <th>4</th>\n",
       "      <td>--DaPTJW3-tB1vP-PfdTEg</td>\n",
       "      <td>CD9dSllum_L_OvpRW0YH0w</td>\n",
       "    </tr>\n",
       "    <tr>\n",
       "      <th>...</th>\n",
       "      <td>...</td>\n",
       "      <td>...</td>\n",
       "    </tr>\n",
       "    <tr>\n",
       "      <th>490958</th>\n",
       "      <td>zzvlwkcNR1CCqOPXwuvz2A</td>\n",
       "      <td>YyV_UBEAoTMgwImiKnWYTQ</td>\n",
       "    </tr>\n",
       "    <tr>\n",
       "      <th>490959</th>\n",
       "      <td>zzvlwkcNR1CCqOPXwuvz2A</td>\n",
       "      <td>pkRISP8QgKMDPQlr8eNrdA</td>\n",
       "    </tr>\n",
       "    <tr>\n",
       "      <th>490960</th>\n",
       "      <td>zzvlwkcNR1CCqOPXwuvz2A</td>\n",
       "      <td>yDRw0UY7FhjDAs-q1bvRhg</td>\n",
       "    </tr>\n",
       "    <tr>\n",
       "      <th>490961</th>\n",
       "      <td>zzvlwkcNR1CCqOPXwuvz2A</td>\n",
       "      <td>U708fyOqNaBU0IQoE6E7WQ</td>\n",
       "    </tr>\n",
       "    <tr>\n",
       "      <th>490962</th>\n",
       "      <td>zzvlwkcNR1CCqOPXwuvz2A</td>\n",
       "      <td>DiodkLNDitVCFGK5tAKa8g</td>\n",
       "    </tr>\n",
       "  </tbody>\n",
       "</table>\n",
       "<p>490963 rows × 2 columns</p>\n",
       "</div>"
      ],
      "text/plain": [
       "                   business_id                 user_id\n",
       "0       --DaPTJW3-tB1vP-PfdTEg  Y2TBSd3ExydbgEnVxAt_QA\n",
       "1       --DaPTJW3-tB1vP-PfdTEg  Rp-cSUHm-EKBxgBS73PNNg\n",
       "2       --DaPTJW3-tB1vP-PfdTEg  2fXZuNKP7Bo-yRrINVbVVA\n",
       "3       --DaPTJW3-tB1vP-PfdTEg  fn3Wim-2j042IEDe6VhJFQ\n",
       "4       --DaPTJW3-tB1vP-PfdTEg  CD9dSllum_L_OvpRW0YH0w\n",
       "...                        ...                     ...\n",
       "490958  zzvlwkcNR1CCqOPXwuvz2A  YyV_UBEAoTMgwImiKnWYTQ\n",
       "490959  zzvlwkcNR1CCqOPXwuvz2A  pkRISP8QgKMDPQlr8eNrdA\n",
       "490960  zzvlwkcNR1CCqOPXwuvz2A  yDRw0UY7FhjDAs-q1bvRhg\n",
       "490961  zzvlwkcNR1CCqOPXwuvz2A  U708fyOqNaBU0IQoE6E7WQ\n",
       "490962  zzvlwkcNR1CCqOPXwuvz2A  DiodkLNDitVCFGK5tAKa8g\n",
       "\n",
       "[490963 rows x 2 columns]"
      ]
     },
     "execution_count": 5,
     "metadata": {},
     "output_type": "execute_result"
    }
   ],
   "source": [
    "df_review = pd.read_csv(df_review_input_path)[['business_id', 'user_id']]\n",
    "df_review"
   ]
  },
  {
   "cell_type": "code",
   "execution_count": 6,
   "id": "1ba23245-85b0-466e-b65d-b78eab0351fe",
   "metadata": {
    "execution": {
     "iopub.execute_input": "2025-04-21T02:29:16.630598Z",
     "iopub.status.busy": "2025-04-21T02:29:16.630172Z",
     "iopub.status.idle": "2025-04-21T02:29:16.639306Z",
     "shell.execute_reply": "2025-04-21T02:29:16.638692Z"
    },
    "papermill": {
     "duration": 0.0153,
     "end_time": "2025-04-21T02:29:16.641145",
     "exception": false,
     "start_time": "2025-04-21T02:29:16.625845",
     "status": "completed"
    },
    "tags": []
   },
   "outputs": [],
   "source": [
    "df_index_to_business = pd.DataFrame(df_reg['business_id'])\n",
    "df_business_to_index = df_reg['business_id'].reset_index().set_index('business_id')\n",
    "df_index_to_review_count = df_reg['review_count'].values"
   ]
  },
  {
   "cell_type": "code",
   "execution_count": 7,
   "id": "9ba1ca70-2c80-49c9-b0f5-a6a5dfe291b7",
   "metadata": {
    "execution": {
     "iopub.execute_input": "2025-04-21T02:29:16.649615Z",
     "iopub.status.busy": "2025-04-21T02:29:16.649268Z",
     "iopub.status.idle": "2025-04-21T02:30:08.572786Z",
     "shell.execute_reply": "2025-04-21T02:30:08.571434Z"
    },
    "papermill": {
     "duration": 51.940743,
     "end_time": "2025-04-21T02:30:08.585945",
     "exception": false,
     "start_time": "2025-04-21T02:29:16.645202",
     "status": "completed"
    },
    "tags": []
   },
   "outputs": [
    {
     "name": "stderr",
     "output_type": "stream",
     "text": [
      "\r",
      "  0%|                                                                                                                                         | 0/109250 [00:00<?, ?it/s]"
     ]
    },
    {
     "name": "stderr",
     "output_type": "stream",
     "text": [
      "\r",
      "  0%|                                                                                                                                | 11/109250 [00:00<43:53, 41.48it/s]"
     ]
    },
    {
     "name": "stderr",
     "output_type": "stream",
     "text": [
      "\r",
      "  0%|▍                                                                                                                            | 360/109250 [00:00<01:27, 1246.93it/s]"
     ]
    },
    {
     "name": "stderr",
     "output_type": "stream",
     "text": [
      "\r",
      "  1%|▊                                                                                                                            | 747/109250 [00:00<00:53, 2044.45it/s]"
     ]
    },
    {
     "name": "stderr",
     "output_type": "stream",
     "text": [
      "\r",
      "  1%|█▏                                                                                                                          | 1074/109250 [00:00<00:44, 2428.22it/s]"
     ]
    },
    {
     "name": "stderr",
     "output_type": "stream",
     "text": [
      "\r",
      "  1%|█▌                                                                                                                          | 1367/109250 [00:00<00:43, 2504.29it/s]"
     ]
    },
    {
     "name": "stderr",
     "output_type": "stream",
     "text": [
      "\r",
      "  2%|█▊                                                                                                                          | 1651/109250 [00:00<00:52, 2039.20it/s]"
     ]
    },
    {
     "name": "stderr",
     "output_type": "stream",
     "text": [
      "\r",
      "  2%|██▎                                                                                                                         | 2030/109250 [00:00<00:43, 2478.84it/s]"
     ]
    },
    {
     "name": "stderr",
     "output_type": "stream",
     "text": [
      "\r",
      "  2%|██▋                                                                                                                          | 2314/109250 [00:01<01:48, 983.02it/s]"
     ]
    },
    {
     "name": "stderr",
     "output_type": "stream",
     "text": [
      "\r",
      "  2%|██▉                                                                                                                         | 2599/109250 [00:01<01:27, 1217.59it/s]"
     ]
    },
    {
     "name": "stderr",
     "output_type": "stream",
     "text": [
      "\r",
      "  3%|███▎                                                                                                                        | 2940/109250 [00:01<01:08, 1547.93it/s]"
     ]
    },
    {
     "name": "stderr",
     "output_type": "stream",
     "text": [
      "\r",
      "  3%|███▋                                                                                                                        | 3207/109250 [00:01<01:00, 1747.56it/s]"
     ]
    },
    {
     "name": "stderr",
     "output_type": "stream",
     "text": [
      "\r",
      "  3%|███▉                                                                                                                        | 3471/109250 [00:02<01:05, 1618.10it/s]"
     ]
    },
    {
     "name": "stderr",
     "output_type": "stream",
     "text": [
      "\r",
      "  4%|████▍                                                                                                                       | 3910/109250 [00:02<00:50, 2078.56it/s]"
     ]
    },
    {
     "name": "stderr",
     "output_type": "stream",
     "text": [
      "\r",
      "  4%|████▋                                                                                                                       | 4181/109250 [00:02<00:47, 2206.01it/s]"
     ]
    },
    {
     "name": "stderr",
     "output_type": "stream",
     "text": [
      "\r",
      "  4%|█████▏                                                                                                                      | 4582/109250 [00:02<01:09, 1496.00it/s]"
     ]
    },
    {
     "name": "stderr",
     "output_type": "stream",
     "text": [
      "\r",
      "  4%|█████▍                                                                                                                      | 4798/109250 [00:02<01:09, 1495.65it/s]"
     ]
    },
    {
     "name": "stderr",
     "output_type": "stream",
     "text": [
      "\r",
      "  5%|█████▉                                                                                                                      | 5189/109250 [00:03<00:54, 1917.30it/s]"
     ]
    },
    {
     "name": "stderr",
     "output_type": "stream",
     "text": [
      "\r",
      "  5%|██████▏                                                                                                                     | 5478/109250 [00:03<00:49, 2111.50it/s]"
     ]
    },
    {
     "name": "stderr",
     "output_type": "stream",
     "text": [
      "\r",
      "  5%|██████▋                                                                                                                     | 5837/109250 [00:03<00:42, 2438.23it/s]"
     ]
    },
    {
     "name": "stderr",
     "output_type": "stream",
     "text": [
      "\r",
      "  6%|██████▉                                                                                                                     | 6130/109250 [00:03<00:47, 2149.26it/s]"
     ]
    },
    {
     "name": "stderr",
     "output_type": "stream",
     "text": [
      "\r",
      "  6%|███████▎                                                                                                                    | 6457/109250 [00:03<00:42, 2400.51it/s]"
     ]
    },
    {
     "name": "stderr",
     "output_type": "stream",
     "text": [
      "\r",
      "  6%|███████▋                                                                                                                    | 6733/109250 [00:03<00:44, 2292.41it/s]"
     ]
    },
    {
     "name": "stderr",
     "output_type": "stream",
     "text": [
      "\r",
      "  6%|███████▉                                                                                                                    | 6988/109250 [00:03<00:51, 1990.74it/s]"
     ]
    },
    {
     "name": "stderr",
     "output_type": "stream",
     "text": [
      "\r",
      "  7%|████████▎                                                                                                                   | 7353/109250 [00:03<00:43, 2364.87it/s]"
     ]
    },
    {
     "name": "stderr",
     "output_type": "stream",
     "text": [
      "\r",
      "  7%|████████▊                                                                                                                   | 7712/109250 [00:04<00:38, 2661.37it/s]"
     ]
    },
    {
     "name": "stderr",
     "output_type": "stream",
     "text": [
      "\r",
      "  8%|█████████▎                                                                                                                  | 8197/109250 [00:04<00:31, 3224.85it/s]"
     ]
    },
    {
     "name": "stderr",
     "output_type": "stream",
     "text": [
      "\r",
      "  8%|█████████▋                                                                                                                  | 8547/109250 [00:04<00:33, 3035.96it/s]"
     ]
    },
    {
     "name": "stderr",
     "output_type": "stream",
     "text": [
      "\r",
      "  8%|██████████▏                                                                                                                 | 8944/109250 [00:04<00:30, 3273.62it/s]"
     ]
    },
    {
     "name": "stderr",
     "output_type": "stream",
     "text": [
      "\r",
      "  9%|██████████▌                                                                                                                 | 9303/109250 [00:04<00:29, 3357.60it/s]"
     ]
    },
    {
     "name": "stderr",
     "output_type": "stream",
     "text": [
      "\r",
      "  9%|██████████▉                                                                                                                 | 9653/109250 [00:04<00:32, 3062.63it/s]"
     ]
    },
    {
     "name": "stderr",
     "output_type": "stream",
     "text": [
      "\r",
      "  9%|███████████▎                                                                                                               | 10040/109250 [00:04<00:30, 3275.36it/s]"
     ]
    },
    {
     "name": "stderr",
     "output_type": "stream",
     "text": [
      "\r",
      " 10%|███████████▋                                                                                                               | 10380/109250 [00:04<00:34, 2870.98it/s]"
     ]
    },
    {
     "name": "stderr",
     "output_type": "stream",
     "text": [
      "\r",
      " 10%|████████████                                                                                                               | 10756/109250 [00:05<00:31, 3087.98it/s]"
     ]
    },
    {
     "name": "stderr",
     "output_type": "stream",
     "text": [
      "\r",
      " 10%|████████████▌                                                                                                              | 11135/109250 [00:05<00:29, 3273.61it/s]"
     ]
    },
    {
     "name": "stderr",
     "output_type": "stream",
     "text": [
      "\r",
      " 11%|████████████▉                                                                                                              | 11476/109250 [00:05<00:30, 3223.31it/s]"
     ]
    },
    {
     "name": "stderr",
     "output_type": "stream",
     "text": [
      "\r",
      " 11%|█████████████▌                                                                                                             | 12002/109250 [00:05<00:25, 3784.40it/s]"
     ]
    },
    {
     "name": "stderr",
     "output_type": "stream",
     "text": [
      "\r",
      " 11%|█████████████▉                                                                                                             | 12392/109250 [00:05<00:32, 3001.61it/s]"
     ]
    },
    {
     "name": "stderr",
     "output_type": "stream",
     "text": [
      "\r",
      " 12%|██████████████▍                                                                                                            | 12810/109250 [00:05<00:29, 3284.84it/s]"
     ]
    },
    {
     "name": "stderr",
     "output_type": "stream",
     "text": [
      "\r",
      " 12%|██████████████▊                                                                                                            | 13168/109250 [00:05<00:32, 2936.76it/s]"
     ]
    },
    {
     "name": "stderr",
     "output_type": "stream",
     "text": [
      "\r",
      " 12%|███████████████▏                                                                                                           | 13498/109250 [00:05<00:31, 3023.65it/s]"
     ]
    },
    {
     "name": "stderr",
     "output_type": "stream",
     "text": [
      "\r",
      " 13%|███████████████▌                                                                                                           | 13821/109250 [00:05<00:32, 2903.57it/s]"
     ]
    },
    {
     "name": "stderr",
     "output_type": "stream",
     "text": [
      "\r",
      " 13%|████████████████                                                                                                           | 14255/109250 [00:06<00:29, 3273.15it/s]"
     ]
    },
    {
     "name": "stderr",
     "output_type": "stream",
     "text": [
      "\r",
      " 13%|████████████████▍                                                                                                          | 14599/109250 [00:06<00:30, 3068.12it/s]"
     ]
    },
    {
     "name": "stderr",
     "output_type": "stream",
     "text": [
      "\r",
      " 14%|████████████████▊                                                                                                          | 14919/109250 [00:06<00:33, 2805.56it/s]"
     ]
    },
    {
     "name": "stderr",
     "output_type": "stream",
     "text": [
      "\r",
      " 14%|█████████████████▎                                                                                                         | 15350/109250 [00:06<00:29, 3140.42it/s]"
     ]
    },
    {
     "name": "stderr",
     "output_type": "stream",
     "text": [
      "\r",
      " 14%|█████████████████▋                                                                                                         | 15680/109250 [00:06<00:40, 2303.76it/s]"
     ]
    },
    {
     "name": "stderr",
     "output_type": "stream",
     "text": [
      "\r",
      " 15%|█████████████████▉                                                                                                         | 15950/109250 [00:06<00:51, 1796.24it/s]"
     ]
    },
    {
     "name": "stderr",
     "output_type": "stream",
     "text": [
      "\r",
      " 15%|██████████████████▎                                                                                                        | 16241/109250 [00:07<00:46, 2003.12it/s]"
     ]
    },
    {
     "name": "stderr",
     "output_type": "stream",
     "text": [
      "\r",
      " 15%|██████████████████▌                                                                                                        | 16483/109250 [00:07<00:58, 1585.65it/s]"
     ]
    },
    {
     "name": "stderr",
     "output_type": "stream",
     "text": [
      "\r",
      " 15%|██████████████████▉                                                                                                        | 16791/109250 [00:07<00:49, 1860.10it/s]"
     ]
    },
    {
     "name": "stderr",
     "output_type": "stream",
     "text": [
      "\r",
      " 16%|███████████████████▏                                                                                                       | 17088/109250 [00:07<00:44, 2090.94it/s]"
     ]
    },
    {
     "name": "stderr",
     "output_type": "stream",
     "text": [
      "\r",
      " 16%|███████████████████▌                                                                                                       | 17422/109250 [00:07<00:39, 2350.22it/s]"
     ]
    },
    {
     "name": "stderr",
     "output_type": "stream",
     "text": [
      "\r",
      " 16%|████████████████████                                                                                                       | 17851/109250 [00:07<00:32, 2824.21it/s]"
     ]
    },
    {
     "name": "stderr",
     "output_type": "stream",
     "text": [
      "\r",
      " 17%|████████████████████▍                                                                                                      | 18169/109250 [00:07<00:42, 2153.78it/s]"
     ]
    },
    {
     "name": "stderr",
     "output_type": "stream",
     "text": [
      "\r",
      " 17%|████████████████████▉                                                                                                      | 18600/109250 [00:08<00:34, 2616.63it/s]"
     ]
    },
    {
     "name": "stderr",
     "output_type": "stream",
     "text": [
      "\r",
      " 17%|█████████████████████▍                                                                                                     | 19030/109250 [00:08<00:29, 3009.53it/s]"
     ]
    },
    {
     "name": "stderr",
     "output_type": "stream",
     "text": [
      "\r",
      " 18%|█████████████████████▊                                                                                                     | 19392/109250 [00:08<00:28, 3157.93it/s]"
     ]
    },
    {
     "name": "stderr",
     "output_type": "stream",
     "text": [
      "\r",
      " 18%|██████████████████████▏                                                                                                    | 19744/109250 [00:08<00:32, 2726.12it/s]"
     ]
    },
    {
     "name": "stderr",
     "output_type": "stream",
     "text": [
      "\r",
      " 18%|██████████████████████▌                                                                                                    | 20051/109250 [00:08<00:34, 2561.05it/s]"
     ]
    },
    {
     "name": "stderr",
     "output_type": "stream",
     "text": [
      "\r",
      " 19%|██████████████████████▉                                                                                                    | 20333/109250 [00:08<00:33, 2618.40it/s]"
     ]
    },
    {
     "name": "stderr",
     "output_type": "stream",
     "text": [
      "\r",
      " 19%|███████████████████████▎                                                                                                   | 20687/109250 [00:08<00:31, 2835.06it/s]"
     ]
    },
    {
     "name": "stderr",
     "output_type": "stream",
     "text": [
      "\r",
      " 19%|███████████████████████▋                                                                                                   | 20987/109250 [00:09<00:50, 1763.10it/s]"
     ]
    },
    {
     "name": "stderr",
     "output_type": "stream",
     "text": [
      "\r",
      " 19%|███████████████████████▉                                                                                                   | 21224/109250 [00:09<00:49, 1768.28it/s]"
     ]
    },
    {
     "name": "stderr",
     "output_type": "stream",
     "text": [
      "\r",
      " 20%|████████████████████████▎                                                                                                  | 21549/109250 [00:09<00:42, 2066.40it/s]"
     ]
    },
    {
     "name": "stderr",
     "output_type": "stream",
     "text": [
      "\r",
      " 20%|████████████████████████▌                                                                                                  | 21849/109250 [00:09<00:38, 2244.98it/s]"
     ]
    },
    {
     "name": "stderr",
     "output_type": "stream",
     "text": [
      "\r",
      " 20%|█████████████████████████                                                                                                  | 22217/109250 [00:09<00:33, 2574.24it/s]"
     ]
    },
    {
     "name": "stderr",
     "output_type": "stream",
     "text": [
      "\r",
      " 21%|█████████████████████████▎                                                                                                 | 22508/109250 [00:09<00:36, 2374.72it/s]"
     ]
    },
    {
     "name": "stderr",
     "output_type": "stream",
     "text": [
      "\r",
      " 21%|█████████████████████████▋                                                                                                 | 22814/109250 [00:09<00:41, 2081.52it/s]"
     ]
    },
    {
     "name": "stderr",
     "output_type": "stream",
     "text": [
      "\r",
      " 21%|█████████████████████████▉                                                                                                 | 23046/109250 [00:10<00:47, 1812.10it/s]"
     ]
    },
    {
     "name": "stderr",
     "output_type": "stream",
     "text": [
      "\r",
      " 21%|██████████████████████████▏                                                                                                | 23247/109250 [00:10<00:47, 1804.89it/s]"
     ]
    },
    {
     "name": "stderr",
     "output_type": "stream",
     "text": [
      "\r",
      " 21%|██████████████████████████▍                                                                                                | 23442/109250 [00:10<00:51, 1682.38it/s]"
     ]
    },
    {
     "name": "stderr",
     "output_type": "stream",
     "text": [
      "\r",
      " 22%|██████████████████████████▌                                                                                                | 23620/109250 [00:10<00:51, 1650.38it/s]"
     ]
    },
    {
     "name": "stderr",
     "output_type": "stream",
     "text": [
      "\r",
      " 22%|███████████████████████████                                                                                                 | 23791/109250 [00:13<07:36, 187.10it/s]"
     ]
    },
    {
     "name": "stderr",
     "output_type": "stream",
     "text": [
      "\r",
      " 22%|███████████████████████████▍                                                                                                | 24200/109250 [00:13<04:16, 332.16it/s]"
     ]
    },
    {
     "name": "stderr",
     "output_type": "stream",
     "text": [
      "\r",
      " 22%|███████████████████████████▊                                                                                                | 24494/109250 [00:14<03:03, 461.59it/s]"
     ]
    },
    {
     "name": "stderr",
     "output_type": "stream",
     "text": [
      "\r",
      " 23%|████████████████████████████                                                                                                | 24717/109250 [00:14<02:29, 565.90it/s]"
     ]
    },
    {
     "name": "stderr",
     "output_type": "stream",
     "text": [
      "\r",
      " 23%|████████████████████████████▌                                                                                               | 25172/109250 [00:14<01:32, 905.73it/s]"
     ]
    },
    {
     "name": "stderr",
     "output_type": "stream",
     "text": [
      "\r",
      " 23%|████████████████████████████▊                                                                                              | 25542/109250 [00:14<01:09, 1209.25it/s]"
     ]
    },
    {
     "name": "stderr",
     "output_type": "stream",
     "text": [
      "\r",
      " 24%|█████████████████████████████▏                                                                                             | 25871/109250 [00:14<00:59, 1410.40it/s]"
     ]
    },
    {
     "name": "stderr",
     "output_type": "stream",
     "text": [
      "\r",
      " 24%|█████████████████████████████▍                                                                                             | 26156/109250 [00:14<00:52, 1584.58it/s]"
     ]
    },
    {
     "name": "stderr",
     "output_type": "stream",
     "text": [
      "\r",
      " 24%|█████████████████████████████▉                                                                                             | 26586/109250 [00:14<00:40, 2059.87it/s]"
     ]
    },
    {
     "name": "stderr",
     "output_type": "stream",
     "text": [
      "\r",
      " 25%|██████████████████████████████▎                                                                                            | 26904/109250 [00:14<00:40, 2017.38it/s]"
     ]
    },
    {
     "name": "stderr",
     "output_type": "stream",
     "text": [
      "\r",
      " 25%|██████████████████████████████▋                                                                                            | 27223/109250 [00:15<01:01, 1325.11it/s]"
     ]
    },
    {
     "name": "stderr",
     "output_type": "stream",
     "text": [
      "\r",
      " 25%|███████████████████████████████▏                                                                                           | 27647/109250 [00:15<00:50, 1627.83it/s]"
     ]
    },
    {
     "name": "stderr",
     "output_type": "stream",
     "text": [
      "\r",
      " 26%|███████████████████████████████▍                                                                                           | 27962/109250 [00:15<01:03, 1284.62it/s]"
     ]
    },
    {
     "name": "stderr",
     "output_type": "stream",
     "text": [
      "\r",
      " 26%|███████████████████████████████▉                                                                                           | 28415/109250 [00:15<00:46, 1728.19it/s]"
     ]
    },
    {
     "name": "stderr",
     "output_type": "stream",
     "text": [
      "\r",
      " 26%|████████████████████████████████▎                                                                                          | 28738/109250 [00:16<00:40, 1971.22it/s]"
     ]
    },
    {
     "name": "stderr",
     "output_type": "stream",
     "text": [
      "\r",
      " 27%|████████████████████████████████▋                                                                                          | 29023/109250 [00:16<00:39, 2011.57it/s]"
     ]
    },
    {
     "name": "stderr",
     "output_type": "stream",
     "text": [
      "\r",
      " 27%|█████████████████████████████████                                                                                          | 29366/109250 [00:16<00:40, 1987.30it/s]"
     ]
    },
    {
     "name": "stderr",
     "output_type": "stream",
     "text": [
      "\r",
      " 27%|█████████████████████████████████▍                                                                                         | 29694/109250 [00:16<00:35, 2244.73it/s]"
     ]
    },
    {
     "name": "stderr",
     "output_type": "stream",
     "text": [
      "\r",
      " 27%|█████████████████████████████████▋                                                                                         | 29962/109250 [00:16<00:34, 2269.49it/s]"
     ]
    },
    {
     "name": "stderr",
     "output_type": "stream",
     "text": [
      "\r",
      " 28%|██████████████████████████████████▏                                                                                        | 30384/109250 [00:16<00:28, 2728.50it/s]"
     ]
    },
    {
     "name": "stderr",
     "output_type": "stream",
     "text": [
      "\r",
      " 28%|██████████████████████████████████▋                                                                                        | 30771/109250 [00:16<00:26, 2921.79it/s]"
     ]
    },
    {
     "name": "stderr",
     "output_type": "stream",
     "text": [
      "\r",
      " 28%|███████████████████████████████████                                                                                        | 31089/109250 [00:16<00:26, 2966.13it/s]"
     ]
    },
    {
     "name": "stderr",
     "output_type": "stream",
     "text": [
      "\r",
      " 29%|███████████████████████████████████▎                                                                                       | 31405/109250 [00:17<00:33, 2353.14it/s]"
     ]
    },
    {
     "name": "stderr",
     "output_type": "stream",
     "text": [
      "\r",
      " 29%|███████████████████████████████████▋                                                                                       | 31718/109250 [00:17<00:30, 2525.11it/s]"
     ]
    },
    {
     "name": "stderr",
     "output_type": "stream",
     "text": [
      "\r",
      " 29%|████████████████████████████████████                                                                                       | 31998/109250 [00:17<00:36, 2117.46it/s]"
     ]
    },
    {
     "name": "stderr",
     "output_type": "stream",
     "text": [
      "\r",
      " 30%|████████████████████████████████████▍                                                                                      | 32327/109250 [00:17<00:32, 2333.87it/s]"
     ]
    },
    {
     "name": "stderr",
     "output_type": "stream",
     "text": [
      "\r",
      " 30%|████████████████████████████████████▋                                                                                      | 32586/109250 [00:17<00:32, 2335.56it/s]"
     ]
    },
    {
     "name": "stderr",
     "output_type": "stream",
     "text": [
      "\r",
      " 30%|█████████████████████████████████████▏                                                                                     | 33044/109250 [00:17<00:26, 2893.69it/s]"
     ]
    },
    {
     "name": "stderr",
     "output_type": "stream",
     "text": [
      "\r",
      " 31%|█████████████████████████████████████▋                                                                                     | 33504/109250 [00:17<00:23, 3210.30it/s]"
     ]
    },
    {
     "name": "stderr",
     "output_type": "stream",
     "text": [
      "\r",
      " 31%|██████████████████████████████████████▏                                                                                    | 33866/109250 [00:17<00:22, 3298.83it/s]"
     ]
    },
    {
     "name": "stderr",
     "output_type": "stream",
     "text": [
      "\r",
      " 31%|██████████████████████████████████████▌                                                                                    | 34286/109250 [00:18<00:30, 2426.12it/s]"
     ]
    },
    {
     "name": "stderr",
     "output_type": "stream",
     "text": [
      "\r",
      " 32%|██████████████████████████████████████▉                                                                                    | 34574/109250 [00:18<00:30, 2450.13it/s]"
     ]
    },
    {
     "name": "stderr",
     "output_type": "stream",
     "text": [
      "\r",
      " 32%|███████████████████████████████████████▏                                                                                   | 34851/109250 [00:18<00:42, 1736.67it/s]"
     ]
    },
    {
     "name": "stderr",
     "output_type": "stream",
     "text": [
      "\r",
      " 32%|███████████████████████████████████████▌                                                                                   | 35101/109250 [00:18<00:39, 1872.30it/s]"
     ]
    },
    {
     "name": "stderr",
     "output_type": "stream",
     "text": [
      "\r",
      " 32%|███████████████████████████████████████▊                                                                                   | 35379/109250 [00:18<00:35, 2058.61it/s]"
     ]
    },
    {
     "name": "stderr",
     "output_type": "stream",
     "text": [
      "\r",
      " 33%|████████████████████████████████████████                                                                                   | 35623/109250 [00:19<00:55, 1336.74it/s]"
     ]
    },
    {
     "name": "stderr",
     "output_type": "stream",
     "text": [
      "\r",
      " 33%|████████████████████████████████████████▎                                                                                  | 35814/109250 [00:19<00:55, 1311.62it/s]"
     ]
    },
    {
     "name": "stderr",
     "output_type": "stream",
     "text": [
      "\r",
      " 33%|████████████████████████████████████████▋                                                                                  | 36193/109250 [00:19<00:41, 1756.44it/s]"
     ]
    },
    {
     "name": "stderr",
     "output_type": "stream",
     "text": [
      "\r",
      " 33%|█████████████████████████████████████████                                                                                  | 36426/109250 [00:19<00:39, 1838.53it/s]"
     ]
    },
    {
     "name": "stderr",
     "output_type": "stream",
     "text": [
      "\r",
      " 34%|█████████████████████████████████████████▍                                                                                 | 36758/109250 [00:19<00:33, 2168.52it/s]"
     ]
    },
    {
     "name": "stderr",
     "output_type": "stream",
     "text": [
      "\r",
      " 34%|█████████████████████████████████████████▋                                                                                 | 37064/109250 [00:19<00:32, 2239.92it/s]"
     ]
    },
    {
     "name": "stderr",
     "output_type": "stream",
     "text": [
      "\r",
      " 34%|██████████████████████████████████████████                                                                                 | 37318/109250 [00:20<00:57, 1253.55it/s]"
     ]
    },
    {
     "name": "stderr",
     "output_type": "stream",
     "text": [
      "\r",
      " 34%|██████████████████████████████████████████▌                                                                                 | 37513/109250 [00:20<01:26, 830.85it/s]"
     ]
    },
    {
     "name": "stderr",
     "output_type": "stream",
     "text": [
      "\r",
      " 35%|██████████████████████████████████████████▌                                                                                | 37805/109250 [00:20<01:06, 1071.51it/s]"
     ]
    },
    {
     "name": "stderr",
     "output_type": "stream",
     "text": [
      "\r",
      " 35%|███████████████████████████████████████████                                                                                | 38283/109250 [00:20<00:44, 1598.05it/s]"
     ]
    },
    {
     "name": "stderr",
     "output_type": "stream",
     "text": [
      "\r",
      " 35%|███████████████████████████████████████████▌                                                                               | 38697/109250 [00:21<00:34, 2031.54it/s]"
     ]
    },
    {
     "name": "stderr",
     "output_type": "stream",
     "text": [
      "\r",
      " 36%|███████████████████████████████████████████▉                                                                               | 39004/109250 [00:21<00:31, 2234.60it/s]"
     ]
    },
    {
     "name": "stderr",
     "output_type": "stream",
     "text": [
      "\r",
      " 36%|████████████████████████████████████████████▌                                                                              | 39567/109250 [00:21<00:23, 2977.75it/s]"
     ]
    },
    {
     "name": "stderr",
     "output_type": "stream",
     "text": [
      "\r",
      " 37%|████████████████████████████████████████████▉                                                                              | 39950/109250 [00:21<00:23, 2897.37it/s]"
     ]
    },
    {
     "name": "stderr",
     "output_type": "stream",
     "text": [
      "\r",
      " 37%|█████████████████████████████████████████████▍                                                                             | 40335/109250 [00:21<00:22, 3112.23it/s]"
     ]
    },
    {
     "name": "stderr",
     "output_type": "stream",
     "text": [
      "\r",
      " 37%|█████████████████████████████████████████████▊                                                                             | 40694/109250 [00:21<00:22, 3059.13it/s]"
     ]
    },
    {
     "name": "stderr",
     "output_type": "stream",
     "text": [
      "\r",
      " 38%|██████████████████████████████████████████████▏                                                                            | 41033/109250 [00:21<00:25, 2631.71it/s]"
     ]
    },
    {
     "name": "stderr",
     "output_type": "stream",
     "text": [
      "\r",
      " 38%|██████████████████████████████████████████████▋                                                                            | 41523/109250 [00:21<00:21, 3157.57it/s]"
     ]
    },
    {
     "name": "stderr",
     "output_type": "stream",
     "text": [
      "\r",
      " 38%|███████████████████████████████████████████████▎                                                                           | 42010/109250 [00:22<00:18, 3582.02it/s]"
     ]
    },
    {
     "name": "stderr",
     "output_type": "stream",
     "text": [
      "\r",
      " 39%|███████████████████████████████████████████████▋                                                                           | 42403/109250 [00:22<00:22, 2942.90it/s]"
     ]
    },
    {
     "name": "stderr",
     "output_type": "stream",
     "text": [
      "\r",
      " 39%|████████████████████████████████████████████████                                                                           | 42739/109250 [00:22<00:36, 1834.18it/s]"
     ]
    },
    {
     "name": "stderr",
     "output_type": "stream",
     "text": [
      "\r",
      " 40%|████████████████████████████████████████████████▋                                                                          | 43233/109250 [00:22<00:28, 2350.05it/s]"
     ]
    },
    {
     "name": "stderr",
     "output_type": "stream",
     "text": [
      "\r",
      " 40%|█████████████████████████████████████████████████                                                                          | 43577/109250 [00:22<00:25, 2558.86it/s]"
     ]
    },
    {
     "name": "stderr",
     "output_type": "stream",
     "text": [
      "\r",
      " 40%|█████████████████████████████████████████████████▌                                                                         | 44008/109250 [00:22<00:22, 2933.41it/s]"
     ]
    },
    {
     "name": "stderr",
     "output_type": "stream",
     "text": [
      "\r",
      " 41%|█████████████████████████████████████████████████▉                                                                         | 44372/109250 [00:23<00:24, 2655.88it/s]"
     ]
    },
    {
     "name": "stderr",
     "output_type": "stream",
     "text": [
      "\r",
      " 41%|██████████████████████████████████████████████████▎                                                                        | 44704/109250 [00:23<00:23, 2734.39it/s]"
     ]
    },
    {
     "name": "stderr",
     "output_type": "stream",
     "text": [
      "\r",
      " 41%|██████████████████████████████████████████████████▋                                                                        | 45017/109250 [00:23<00:33, 1929.75it/s]"
     ]
    },
    {
     "name": "stderr",
     "output_type": "stream",
     "text": [
      "\r",
      " 41%|███████████████████████████████████████████████████                                                                        | 45308/109250 [00:23<00:30, 2113.52it/s]"
     ]
    },
    {
     "name": "stderr",
     "output_type": "stream",
     "text": [
      "\r",
      " 42%|███████████████████████████████████████████████████▍                                                                       | 45681/109250 [00:23<00:25, 2455.16it/s]"
     ]
    },
    {
     "name": "stderr",
     "output_type": "stream",
     "text": [
      "\r",
      " 42%|████████████████████████████████████████████████████                                                                       | 46211/109250 [00:23<00:20, 3115.06it/s]"
     ]
    },
    {
     "name": "stderr",
     "output_type": "stream",
     "text": [
      "\r",
      " 43%|████████████████████████████████████████████████████▍                                                                      | 46577/109250 [00:24<00:50, 1233.38it/s]"
     ]
    },
    {
     "name": "stderr",
     "output_type": "stream",
     "text": [
      "\r",
      " 43%|████████████████████████████████████████████████████▉                                                                      | 47029/109250 [00:24<00:38, 1623.96it/s]"
     ]
    },
    {
     "name": "stderr",
     "output_type": "stream",
     "text": [
      "\r",
      " 43%|█████████████████████████████████████████████████████▎                                                                     | 47354/109250 [00:24<00:34, 1806.20it/s]"
     ]
    },
    {
     "name": "stderr",
     "output_type": "stream",
     "text": [
      "\r",
      " 44%|█████████████████████████████████████████████████████▋                                                                     | 47663/109250 [00:24<00:32, 1891.91it/s]"
     ]
    },
    {
     "name": "stderr",
     "output_type": "stream",
     "text": [
      "\r",
      " 44%|█████████████████████████████████████████████████████▉                                                                     | 47945/109250 [00:24<00:30, 2039.78it/s]"
     ]
    },
    {
     "name": "stderr",
     "output_type": "stream",
     "text": [
      "\r",
      " 44%|██████████████████████████████████████████████████████▍                                                                    | 48349/109250 [00:25<00:24, 2450.88it/s]"
     ]
    },
    {
     "name": "stderr",
     "output_type": "stream",
     "text": [
      "\r",
      " 45%|██████████████████████████████████████████████████████▊                                                                    | 48668/109250 [00:25<00:23, 2545.91it/s]"
     ]
    },
    {
     "name": "stderr",
     "output_type": "stream",
     "text": [
      "\r",
      " 45%|███████████████████████████████████████████████████████▎                                                                   | 49168/109250 [00:25<00:19, 3134.01it/s]"
     ]
    },
    {
     "name": "stderr",
     "output_type": "stream",
     "text": [
      "\r",
      " 45%|███████████████████████████████████████████████████████▊                                                                   | 49532/109250 [00:25<00:21, 2829.25it/s]"
     ]
    },
    {
     "name": "stderr",
     "output_type": "stream",
     "text": [
      "\r",
      " 46%|████████████████████████████████████████████████████████▏                                                                  | 49855/109250 [00:26<00:50, 1176.45it/s]"
     ]
    },
    {
     "name": "stderr",
     "output_type": "stream",
     "text": [
      "\r",
      " 46%|████████████████████████████████████████████████████████▌                                                                  | 50211/109250 [00:26<00:40, 1464.84it/s]"
     ]
    },
    {
     "name": "stderr",
     "output_type": "stream",
     "text": [
      "\r",
      " 46%|████████████████████████████████████████████████████████▊                                                                  | 50486/109250 [00:26<00:35, 1646.47it/s]"
     ]
    },
    {
     "name": "stderr",
     "output_type": "stream",
     "text": [
      "\r",
      " 46%|█████████████████████████████████████████████████████████▏                                                                 | 50758/109250 [00:26<00:35, 1640.89it/s]"
     ]
    },
    {
     "name": "stderr",
     "output_type": "stream",
     "text": [
      "\r",
      " 47%|█████████████████████████████████████████████████████████▍                                                                 | 50997/109250 [00:26<00:33, 1745.22it/s]"
     ]
    },
    {
     "name": "stderr",
     "output_type": "stream",
     "text": [
      "\r",
      " 47%|██████████████████████████████████████████████████████████                                                                 | 51554/109250 [00:26<00:23, 2508.22it/s]"
     ]
    },
    {
     "name": "stderr",
     "output_type": "stream",
     "text": [
      "\r",
      " 47%|██████████████████████████████████████████████████████████▍                                                                | 51880/109250 [00:26<00:21, 2675.97it/s]"
     ]
    },
    {
     "name": "stderr",
     "output_type": "stream",
     "text": [
      "\r",
      " 48%|██████████████████████████████████████████████████████████▊                                                                | 52206/109250 [00:27<00:45, 1262.16it/s]"
     ]
    },
    {
     "name": "stderr",
     "output_type": "stream",
     "text": [
      "\r",
      " 48%|███████████████████████████████████████████████████████████                                                                | 52450/109250 [00:27<00:41, 1366.06it/s]"
     ]
    },
    {
     "name": "stderr",
     "output_type": "stream",
     "text": [
      "\r",
      " 48%|███████████████████████████████████████████████████████████▎                                                               | 52678/109250 [00:27<00:37, 1498.84it/s]"
     ]
    },
    {
     "name": "stderr",
     "output_type": "stream",
     "text": [
      "\r",
      " 48%|███████████████████████████████████████████████████████████▌                                                               | 52938/109250 [00:27<00:37, 1521.55it/s]"
     ]
    },
    {
     "name": "stderr",
     "output_type": "stream",
     "text": [
      "\r",
      " 49%|████████████████████████████████████████████████████████████                                                               | 53319/109250 [00:27<00:28, 1949.25it/s]"
     ]
    },
    {
     "name": "stderr",
     "output_type": "stream",
     "text": [
      "\r",
      " 49%|████████████████████████████████████████████████████████████▍                                                              | 53698/109250 [00:28<00:23, 2316.70it/s]"
     ]
    },
    {
     "name": "stderr",
     "output_type": "stream",
     "text": [
      "\r",
      " 50%|████████████████████████████████████████████████████████████▉                                                              | 54088/109250 [00:28<00:20, 2681.42it/s]"
     ]
    },
    {
     "name": "stderr",
     "output_type": "stream",
     "text": [
      "\r",
      " 50%|█████████████████████████████████████████████████████████████▎                                                             | 54408/109250 [00:28<00:20, 2674.49it/s]"
     ]
    },
    {
     "name": "stderr",
     "output_type": "stream",
     "text": [
      "\r",
      " 50%|█████████████████████████████████████████████████████████████▌                                                             | 54712/109250 [00:28<00:27, 1972.63it/s]"
     ]
    },
    {
     "name": "stderr",
     "output_type": "stream",
     "text": [
      "\r",
      " 50%|█████████████████████████████████████████████████████████████▉                                                             | 55009/109250 [00:28<00:25, 2162.77it/s]"
     ]
    },
    {
     "name": "stderr",
     "output_type": "stream",
     "text": [
      "\r",
      " 51%|██████████████████████████████████████████████████████████████▎                                                            | 55334/109250 [00:28<00:26, 2067.74it/s]"
     ]
    },
    {
     "name": "stderr",
     "output_type": "stream",
     "text": [
      "\r",
      " 51%|██████████████████████████████████████████████████████████████▋                                                            | 55625/109250 [00:28<00:23, 2248.60it/s]"
     ]
    },
    {
     "name": "stderr",
     "output_type": "stream",
     "text": [
      "\r",
      " 51%|██████████████████████████████████████████████████████████████▉                                                            | 55896/109250 [00:29<00:22, 2350.08it/s]"
     ]
    },
    {
     "name": "stderr",
     "output_type": "stream",
     "text": [
      "\r",
      " 51%|███████████████████████████████████████████████████████████████▏                                                           | 56154/109250 [00:29<00:25, 2062.36it/s]"
     ]
    },
    {
     "name": "stderr",
     "output_type": "stream",
     "text": [
      "\r",
      " 52%|███████████████████████████████████████████████████████████████▌                                                           | 56468/109250 [00:29<00:22, 2300.93it/s]"
     ]
    },
    {
     "name": "stderr",
     "output_type": "stream",
     "text": [
      "\r",
      " 52%|███████████████████████████████████████████████████████████████▊                                                           | 56719/109250 [00:29<00:26, 1951.64it/s]"
     ]
    },
    {
     "name": "stderr",
     "output_type": "stream",
     "text": [
      "\r",
      " 52%|████████████████████████████████████████████████████████████████▏                                                          | 57051/109250 [00:29<00:24, 2131.05it/s]"
     ]
    },
    {
     "name": "stderr",
     "output_type": "stream",
     "text": [
      "\r",
      " 52%|████████████████████████████████████████████████████████████████▍                                                          | 57281/109250 [00:29<00:25, 2042.96it/s]"
     ]
    },
    {
     "name": "stderr",
     "output_type": "stream",
     "text": [
      "\r",
      " 53%|████████████████████████████████████████████████████████████████▉                                                          | 57688/109250 [00:29<00:20, 2521.35it/s]"
     ]
    },
    {
     "name": "stderr",
     "output_type": "stream",
     "text": [
      "\r",
      " 53%|█████████████████████████████████████████████████████████████████▎                                                         | 57960/109250 [00:30<00:25, 1988.96it/s]"
     ]
    },
    {
     "name": "stderr",
     "output_type": "stream",
     "text": [
      "\r",
      " 53%|█████████████████████████████████████████████████████████████████▌                                                         | 58198/109250 [00:30<00:25, 2020.33it/s]"
     ]
    },
    {
     "name": "stderr",
     "output_type": "stream",
     "text": [
      "\r",
      " 53%|█████████████████████████████████████████████████████████████████▊                                                         | 58422/109250 [00:30<00:27, 1826.00it/s]"
     ]
    },
    {
     "name": "stderr",
     "output_type": "stream",
     "text": [
      "\r",
      " 54%|█████████████████████████████████████████████████████████████████▉                                                         | 58621/109250 [00:30<00:27, 1851.80it/s]"
     ]
    },
    {
     "name": "stderr",
     "output_type": "stream",
     "text": [
      "\r",
      " 54%|██████████████████████████████████████████████████████████████████▎                                                        | 58923/109250 [00:30<00:25, 1999.68it/s]"
     ]
    },
    {
     "name": "stderr",
     "output_type": "stream",
     "text": [
      "\r",
      " 54%|██████████████████████████████████████████████████████████████████▊                                                        | 59342/109250 [00:30<00:19, 2530.56it/s]"
     ]
    },
    {
     "name": "stderr",
     "output_type": "stream",
     "text": [
      "\r",
      " 55%|███████████████████████████████████████████████████████████████████▏                                                       | 59658/109250 [00:30<00:18, 2629.59it/s]"
     ]
    },
    {
     "name": "stderr",
     "output_type": "stream",
     "text": [
      "\r",
      " 55%|███████████████████████████████████████████████████████████████████▍                                                       | 59934/109250 [00:30<00:19, 2528.43it/s]"
     ]
    },
    {
     "name": "stderr",
     "output_type": "stream",
     "text": [
      "\r",
      " 55%|███████████████████████████████████████████████████████████████████▊                                                       | 60196/109250 [00:31<00:20, 2386.81it/s]"
     ]
    },
    {
     "name": "stderr",
     "output_type": "stream",
     "text": [
      "\r",
      " 55%|████████████████████████████████████████████████████████████████████                                                       | 60442/109250 [00:31<00:39, 1244.49it/s]"
     ]
    },
    {
     "name": "stderr",
     "output_type": "stream",
     "text": [
      "\r",
      " 56%|████████████████████████████████████████████████████████████████████▌                                                      | 60890/109250 [00:31<00:29, 1643.79it/s]"
     ]
    },
    {
     "name": "stderr",
     "output_type": "stream",
     "text": [
      "\r",
      " 56%|████████████████████████████████████████████████████████████████████▊                                                      | 61114/109250 [00:31<00:31, 1538.25it/s]"
     ]
    },
    {
     "name": "stderr",
     "output_type": "stream",
     "text": [
      "\r",
      " 56%|█████████████████████████████████████████████████████████████████████▌                                                      | 61312/109250 [00:32<01:01, 785.12it/s]"
     ]
    },
    {
     "name": "stderr",
     "output_type": "stream",
     "text": [
      "\r",
      " 57%|█████████████████████████████████████████████████████████████████████▌                                                     | 61793/109250 [00:32<00:38, 1232.10it/s]"
     ]
    },
    {
     "name": "stderr",
     "output_type": "stream",
     "text": [
      "\r",
      " 57%|██████████████████████████████████████████████████████████████████████                                                     | 62186/109250 [00:32<00:29, 1602.55it/s]"
     ]
    },
    {
     "name": "stderr",
     "output_type": "stream",
     "text": [
      "\r",
      " 57%|██████████████████████████████████████████████████████████████████████▎                                                    | 62474/109250 [00:32<00:26, 1755.59it/s]"
     ]
    },
    {
     "name": "stderr",
     "output_type": "stream",
     "text": [
      "\r",
      " 57%|██████████████████████████████████████████████████████████████████████▋                                                    | 62787/109250 [00:32<00:24, 1880.34it/s]"
     ]
    },
    {
     "name": "stderr",
     "output_type": "stream",
     "text": [
      "\r",
      " 58%|███████████████████████████████████████████████████████████████████████                                                    | 63135/109250 [00:33<00:20, 2197.42it/s]"
     ]
    },
    {
     "name": "stderr",
     "output_type": "stream",
     "text": [
      "\r",
      " 58%|███████████████████████████████████████████████████████████████████████▌                                                   | 63526/109250 [00:33<00:17, 2573.57it/s]"
     ]
    },
    {
     "name": "stderr",
     "output_type": "stream",
     "text": [
      "\r",
      " 58%|███████████████████████████████████████████████████████████████████████▉                                                   | 63884/109250 [00:33<00:16, 2712.25it/s]"
     ]
    },
    {
     "name": "stderr",
     "output_type": "stream",
     "text": [
      "\r",
      " 59%|████████████████████████████████████████████████████████████████████████▎                                                  | 64242/109250 [00:33<00:15, 2927.31it/s]"
     ]
    },
    {
     "name": "stderr",
     "output_type": "stream",
     "text": [
      "\r",
      " 59%|████████████████████████████████████████████████████████████████████████▋                                                  | 64570/109250 [00:33<00:20, 2177.38it/s]"
     ]
    },
    {
     "name": "stderr",
     "output_type": "stream",
     "text": [
      "\r",
      " 59%|█████████████████████████████████████████████████████████████████████████                                                  | 64892/109250 [00:33<00:18, 2365.95it/s]"
     ]
    },
    {
     "name": "stderr",
     "output_type": "stream",
     "text": [
      "\r",
      " 60%|█████████████████████████████████████████████████████████████████████████▌                                                 | 65335/109250 [00:33<00:15, 2837.34it/s]"
     ]
    },
    {
     "name": "stderr",
     "output_type": "stream",
     "text": [
      "\r",
      " 60%|█████████████████████████████████████████████████████████████████████████▉                                                 | 65663/109250 [00:33<00:16, 2625.58it/s]"
     ]
    },
    {
     "name": "stderr",
     "output_type": "stream",
     "text": [
      "\r",
      " 60%|██████████████████████████████████████████████████████████████████████████▍                                                | 66078/109250 [00:34<00:20, 2096.66it/s]"
     ]
    },
    {
     "name": "stderr",
     "output_type": "stream",
     "text": [
      "\r",
      " 61%|██████████████████████████████████████████████████████████████████████████▋                                                | 66333/109250 [00:34<00:19, 2183.74it/s]"
     ]
    },
    {
     "name": "stderr",
     "output_type": "stream",
     "text": [
      "\r",
      " 61%|███████████████████████████████████████████████████████████████████████████▏                                               | 66746/109250 [00:34<00:16, 2569.45it/s]"
     ]
    },
    {
     "name": "stderr",
     "output_type": "stream",
     "text": [
      "\r",
      " 61%|███████████████████████████████████████████████████████████████████████████▍                                               | 67040/109250 [00:34<00:18, 2292.33it/s]"
     ]
    },
    {
     "name": "stderr",
     "output_type": "stream",
     "text": [
      "\r",
      " 62%|███████████████████████████████████████████████████████████████████████████▊                                               | 67360/109250 [00:34<00:16, 2495.20it/s]"
     ]
    },
    {
     "name": "stderr",
     "output_type": "stream",
     "text": [
      "\r",
      " 62%|████████████████████████████████████████████████████████████████████████████▏                                              | 67680/109250 [00:34<00:15, 2651.09it/s]"
     ]
    },
    {
     "name": "stderr",
     "output_type": "stream",
     "text": [
      "\r",
      " 62%|████████████████████████████████████████████████████████████████████████████▋                                              | 68072/109250 [00:34<00:14, 2923.83it/s]"
     ]
    },
    {
     "name": "stderr",
     "output_type": "stream",
     "text": [
      "\r",
      " 63%|█████████████████████████████████████████████████████████████████████████████                                              | 68464/109250 [00:35<00:12, 3172.62it/s]"
     ]
    },
    {
     "name": "stderr",
     "output_type": "stream",
     "text": [
      "\r",
      " 63%|█████████████████████████████████████████████████████████████████████████████▍                                             | 68798/109250 [00:35<00:12, 3211.32it/s]"
     ]
    },
    {
     "name": "stderr",
     "output_type": "stream",
     "text": [
      "\r",
      " 63%|██████████████████████████████████████████████████████████████████████████████                                             | 69339/109250 [00:35<00:10, 3815.72it/s]"
     ]
    },
    {
     "name": "stderr",
     "output_type": "stream",
     "text": [
      "\r",
      " 64%|██████████████████████████████████████████████████████████████████████████████▌                                            | 69789/109250 [00:35<00:09, 4004.55it/s]"
     ]
    },
    {
     "name": "stderr",
     "output_type": "stream",
     "text": [
      "\r",
      " 64%|███████████████████████████████████████████████████████████████████████████████                                            | 70218/109250 [00:35<00:09, 4086.64it/s]"
     ]
    },
    {
     "name": "stderr",
     "output_type": "stream",
     "text": [
      "\r",
      " 65%|███████████████████████████████████████████████████████████████████████████████▌                                           | 70634/109250 [00:35<00:09, 3920.48it/s]"
     ]
    },
    {
     "name": "stderr",
     "output_type": "stream",
     "text": [
      "\r",
      " 65%|███████████████████████████████████████████████████████████████████████████████▉                                           | 71033/109250 [00:35<00:10, 3801.83it/s]"
     ]
    },
    {
     "name": "stderr",
     "output_type": "stream",
     "text": [
      "\r",
      " 65%|████████████████████████████████████████████████████████████████████████████████▍                                          | 71418/109250 [00:35<00:15, 2489.62it/s]"
     ]
    },
    {
     "name": "stderr",
     "output_type": "stream",
     "text": [
      "\r",
      " 66%|████████████████████████████████████████████████████████████████████████████████▉                                          | 71860/109250 [00:36<00:12, 2890.78it/s]"
     ]
    },
    {
     "name": "stderr",
     "output_type": "stream",
     "text": [
      "\r",
      " 66%|█████████████████████████████████████████████████████████████████████████████████▎                                         | 72229/109250 [00:36<00:14, 2627.37it/s]"
     ]
    },
    {
     "name": "stderr",
     "output_type": "stream",
     "text": [
      "\r",
      " 66%|█████████████████████████████████████████████████████████████████████████████████▋                                         | 72537/109250 [00:36<00:15, 2398.88it/s]"
     ]
    },
    {
     "name": "stderr",
     "output_type": "stream",
     "text": [
      "\r",
      " 67%|█████████████████████████████████████████████████████████████████████████████████▉                                         | 72823/109250 [00:36<00:14, 2490.69it/s]"
     ]
    },
    {
     "name": "stderr",
     "output_type": "stream",
     "text": [
      "\r",
      " 67%|██████████████████████████████████████████████████████████████████████████████████▎                                        | 73099/109250 [00:36<00:14, 2494.39it/s]"
     ]
    },
    {
     "name": "stderr",
     "output_type": "stream",
     "text": [
      "\r",
      " 67%|██████████████████████████████████████████████████████████████████████████████████▊                                        | 73512/109250 [00:36<00:14, 2457.44it/s]"
     ]
    },
    {
     "name": "stderr",
     "output_type": "stream",
     "text": [
      "\r",
      " 68%|███████████████████████████████████████████████████████████████████████████████████▏                                       | 73877/109250 [00:36<00:12, 2727.37it/s]"
     ]
    },
    {
     "name": "stderr",
     "output_type": "stream",
     "text": [
      "\r",
      " 68%|███████████████████████████████████████████████████████████████████████████████████▌                                       | 74168/109250 [00:36<00:13, 2654.99it/s]"
     ]
    },
    {
     "name": "stderr",
     "output_type": "stream",
     "text": [
      "\r",
      " 68%|████████████████████████████████████████████████████████████████████████████████████▍                                       | 74446/109250 [00:37<00:34, 995.76it/s]"
     ]
    },
    {
     "name": "stderr",
     "output_type": "stream",
     "text": [
      "\r",
      " 68%|████████████████████████████████████████████████████████████████████████████████████                                       | 74651/109250 [00:37<00:33, 1018.89it/s]"
     ]
    },
    {
     "name": "stderr",
     "output_type": "stream",
     "text": [
      "\r",
      " 69%|████████████████████████████████████████████████████████████████████████████████████▌                                      | 75127/109250 [00:38<00:22, 1515.95it/s]"
     ]
    },
    {
     "name": "stderr",
     "output_type": "stream",
     "text": [
      "\r",
      " 69%|█████████████████████████████████████████████████████████████████████████████████████                                      | 75537/109250 [00:38<00:17, 1928.31it/s]"
     ]
    },
    {
     "name": "stderr",
     "output_type": "stream",
     "text": [
      "\r",
      " 69%|█████████████████████████████████████████████████████████████████████████████████████▍                                     | 75847/109250 [00:38<00:18, 1801.06it/s]"
     ]
    },
    {
     "name": "stderr",
     "output_type": "stream",
     "text": [
      "\r",
      " 70%|█████████████████████████████████████████████████████████████████████████████████████▉                                     | 76355/109250 [00:38<00:13, 2378.39it/s]"
     ]
    },
    {
     "name": "stderr",
     "output_type": "stream",
     "text": [
      "\r",
      " 70%|██████████████████████████████████████████████████████████████████████████████████████▎                                    | 76685/109250 [00:38<00:23, 1415.68it/s]"
     ]
    },
    {
     "name": "stderr",
     "output_type": "stream",
     "text": [
      "\r",
      " 70%|██████████████████████████████████████████████████████████████████████████████████████▋                                    | 76990/109250 [00:39<00:19, 1635.79it/s]"
     ]
    },
    {
     "name": "stderr",
     "output_type": "stream",
     "text": [
      "\r",
      " 71%|███████████████████████████████████████████████████████████████████████████████████████                                    | 77308/109250 [00:39<00:16, 1890.78it/s]"
     ]
    },
    {
     "name": "stderr",
     "output_type": "stream",
     "text": [
      "\r",
      " 71%|███████████████████████████████████████████████████████████████████████████████████████▎                                   | 77589/109250 [00:39<00:15, 2064.02it/s]"
     ]
    },
    {
     "name": "stderr",
     "output_type": "stream",
     "text": [
      "\r",
      " 71%|███████████████████████████████████████████████████████████████████████████████████████▊                                   | 77993/109250 [00:39<00:12, 2485.64it/s]"
     ]
    },
    {
     "name": "stderr",
     "output_type": "stream",
     "text": [
      "\r",
      " 72%|████████████████████████████████████████████████████████████████████████████████████████▏                                  | 78355/109250 [00:39<00:11, 2750.14it/s]"
     ]
    },
    {
     "name": "stderr",
     "output_type": "stream",
     "text": [
      "\r",
      " 72%|████████████████████████████████████████████████████████████████████████████████████████▌                                  | 78686/109250 [00:39<00:12, 2361.79it/s]"
     ]
    },
    {
     "name": "stderr",
     "output_type": "stream",
     "text": [
      "\r",
      " 72%|████████████████████████████████████████████████████████████████████████████████████████▉                                  | 79042/109250 [00:39<00:11, 2632.12it/s]"
     ]
    },
    {
     "name": "stderr",
     "output_type": "stream",
     "text": [
      "\r",
      " 73%|█████████████████████████████████████████████████████████████████████████████████████████▎                                 | 79348/109250 [00:39<00:13, 2212.98it/s]"
     ]
    },
    {
     "name": "stderr",
     "output_type": "stream",
     "text": [
      "\r",
      " 73%|█████████████████████████████████████████████████████████████████████████████████████████▋                                 | 79609/109250 [00:40<00:21, 1376.36it/s]"
     ]
    },
    {
     "name": "stderr",
     "output_type": "stream",
     "text": [
      "\r",
      " 73%|██████████████████████████████████████████████████████████████████████████████████████████▏                                | 80150/109250 [00:40<00:14, 2014.64it/s]"
     ]
    },
    {
     "name": "stderr",
     "output_type": "stream",
     "text": [
      "\r",
      " 74%|██████████████████████████████████████████████████████████████████████████████████████████▌                                | 80454/109250 [00:40<00:18, 1563.17it/s]"
     ]
    },
    {
     "name": "stderr",
     "output_type": "stream",
     "text": [
      "\r",
      " 74%|███████████████████████████████████████████████████████████████████████████████████████████▏                               | 80977/109250 [00:40<00:13, 2140.42it/s]"
     ]
    },
    {
     "name": "stderr",
     "output_type": "stream",
     "text": [
      "\r",
      " 75%|███████████████████████████████████████████████████████████████████████████████████████████▋                               | 81415/109250 [00:40<00:10, 2551.46it/s]"
     ]
    },
    {
     "name": "stderr",
     "output_type": "stream",
     "text": [
      "\r",
      " 75%|████████████████████████████████████████████████████████████████████████████████████████████                               | 81775/109250 [00:41<00:10, 2670.45it/s]"
     ]
    },
    {
     "name": "stderr",
     "output_type": "stream",
     "text": [
      "\r",
      " 75%|████████████████████████████████████████████████████████████████████████████████████████████▍                              | 82118/109250 [00:41<00:09, 2787.32it/s]"
     ]
    },
    {
     "name": "stderr",
     "output_type": "stream",
     "text": [
      "\r",
      " 76%|████████████████████████████████████████████████████████████████████████████████████████████▉                              | 82565/109250 [00:41<00:08, 3187.19it/s]"
     ]
    },
    {
     "name": "stderr",
     "output_type": "stream",
     "text": [
      "\r",
      " 76%|█████████████████████████████████████████████████████████████████████████████████████████████▍                             | 82987/109250 [00:41<00:07, 3446.46it/s]"
     ]
    },
    {
     "name": "stderr",
     "output_type": "stream",
     "text": [
      "\r",
      " 76%|█████████████████████████████████████████████████████████████████████████████████████████████▊                             | 83372/109250 [00:41<00:07, 3523.87it/s]"
     ]
    },
    {
     "name": "stderr",
     "output_type": "stream",
     "text": [
      "\r",
      " 77%|██████████████████████████████████████████████████████████████████████████████████████████████▎                            | 83753/109250 [00:41<00:08, 3153.93it/s]"
     ]
    },
    {
     "name": "stderr",
     "output_type": "stream",
     "text": [
      "\r",
      " 77%|██████████████████████████████████████████████████████████████████████████████████████████████▋                            | 84095/109250 [00:41<00:07, 3199.11it/s]"
     ]
    },
    {
     "name": "stderr",
     "output_type": "stream",
     "text": [
      "\r",
      " 77%|███████████████████████████████████████████████████████████████████████████████████████████████                            | 84491/109250 [00:41<00:07, 3400.29it/s]"
     ]
    },
    {
     "name": "stderr",
     "output_type": "stream",
     "text": [
      "\r",
      " 78%|███████████████████████████████████████████████████████████████████████████████████████████████▌                           | 84931/109250 [00:41<00:06, 3675.12it/s]"
     ]
    },
    {
     "name": "stderr",
     "output_type": "stream",
     "text": [
      "\r",
      " 78%|████████████████████████████████████████████████████████████████████████████████████████████████                           | 85335/109250 [00:42<00:06, 3427.91it/s]"
     ]
    },
    {
     "name": "stderr",
     "output_type": "stream",
     "text": [
      "\r",
      " 78%|████████████████████████████████████████████████████████████████████████████████████████████████▍                          | 85691/109250 [00:42<00:10, 2262.02it/s]"
     ]
    },
    {
     "name": "stderr",
     "output_type": "stream",
     "text": [
      "\r",
      " 79%|████████████████████████████████████████████████████████████████████████████████████████████████▊                          | 85976/109250 [00:42<00:09, 2361.35it/s]"
     ]
    },
    {
     "name": "stderr",
     "output_type": "stream",
     "text": [
      "\r",
      " 79%|█████████████████████████████████████████████████████████████████████████████████████████████████▏                         | 86290/109250 [00:42<00:09, 2481.89it/s]"
     ]
    },
    {
     "name": "stderr",
     "output_type": "stream",
     "text": [
      "\r",
      " 79%|█████████████████████████████████████████████████████████████████████████████████████████████████▍                         | 86574/109250 [00:42<00:10, 2208.25it/s]"
     ]
    },
    {
     "name": "stderr",
     "output_type": "stream",
     "text": [
      "\r",
      " 79%|█████████████████████████████████████████████████████████████████████████████████████████████████▊                         | 86823/109250 [00:42<00:10, 2219.95it/s]"
     ]
    },
    {
     "name": "stderr",
     "output_type": "stream",
     "text": [
      "\r",
      " 80%|██████████████████████████████████████████████████████████████████████████████████████████████████▏                        | 87198/109250 [00:42<00:08, 2552.71it/s]"
     ]
    },
    {
     "name": "stderr",
     "output_type": "stream",
     "text": [
      "\r",
      " 80%|██████████████████████████████████████████████████████████████████████████████████████████████████▍                        | 87481/109250 [00:43<00:08, 2621.99it/s]"
     ]
    },
    {
     "name": "stderr",
     "output_type": "stream",
     "text": [
      "\r",
      " 81%|███████████████████████████████████████████████████████████████████████████████████████████████████                        | 87954/109250 [00:43<00:06, 3179.59it/s]"
     ]
    },
    {
     "name": "stderr",
     "output_type": "stream",
     "text": [
      "\r",
      " 81%|███████████████████████████████████████████████████████████████████████████████████████████████████▍                       | 88291/109250 [00:44<00:20, 1026.68it/s]"
     ]
    },
    {
     "name": "stderr",
     "output_type": "stream",
     "text": [
      "\r",
      " 81%|███████████████████████████████████████████████████████████████████████████████████████████████████▉                       | 88761/109250 [00:44<00:14, 1431.45it/s]"
     ]
    },
    {
     "name": "stderr",
     "output_type": "stream",
     "text": [
      "\r",
      " 82%|████████████████████████████████████████████████████████████████████████████████████████████████████▎                      | 89119/109250 [00:44<00:11, 1719.76it/s]"
     ]
    },
    {
     "name": "stderr",
     "output_type": "stream",
     "text": [
      "\r",
      " 82%|████████████████████████████████████████████████████████████████████████████████████████████████████▋                      | 89443/109250 [00:44<00:10, 1945.57it/s]"
     ]
    },
    {
     "name": "stderr",
     "output_type": "stream",
     "text": [
      "\r",
      " 82%|█████████████████████████████████████████████████████████████████████████████████████████████████████                      | 89791/109250 [00:44<00:08, 2230.98it/s]"
     ]
    },
    {
     "name": "stderr",
     "output_type": "stream",
     "text": [
      "\r",
      " 83%|█████████████████████████████████████████████████████████████████████████████████████████████████████▍                     | 90139/109250 [00:44<00:07, 2493.91it/s]"
     ]
    },
    {
     "name": "stderr",
     "output_type": "stream",
     "text": [
      "\r",
      " 83%|█████████████████████████████████████████████████████████████████████████████████████████████████████▊                     | 90472/109250 [00:44<00:07, 2385.96it/s]"
     ]
    },
    {
     "name": "stderr",
     "output_type": "stream",
     "text": [
      "\r",
      " 83%|██████████████████████████████████████████████████████████████████████████████████████████████████████▎                    | 90883/109250 [00:44<00:07, 2620.67it/s]"
     ]
    },
    {
     "name": "stderr",
     "output_type": "stream",
     "text": [
      "\r",
      " 83%|██████████████████████████████████████████████████████████████████████████████████████████████████████▋                    | 91189/109250 [00:45<00:08, 2196.80it/s]"
     ]
    },
    {
     "name": "stderr",
     "output_type": "stream",
     "text": [
      "\r",
      " 84%|███████████████████████████████████████████████████████████████████████████████████████████████████████                    | 91592/109250 [00:45<00:06, 2583.37it/s]"
     ]
    },
    {
     "name": "stderr",
     "output_type": "stream",
     "text": [
      "\r",
      " 84%|███████████████████████████████████████████████████████████████████████████████████████████████████████▍                   | 91894/109250 [00:45<00:06, 2622.07it/s]"
     ]
    },
    {
     "name": "stderr",
     "output_type": "stream",
     "text": [
      "\r",
      " 84%|███████████████████████████████████████████████████████████████████████████████████████████████████████▉                   | 92293/109250 [00:45<00:05, 2953.88it/s]"
     ]
    },
    {
     "name": "stderr",
     "output_type": "stream",
     "text": [
      "\r",
      " 85%|████████████████████████████████████████████████████████████████████████████████████████████████████████▎                  | 92618/109250 [00:45<00:05, 3001.27it/s]"
     ]
    },
    {
     "name": "stderr",
     "output_type": "stream",
     "text": [
      "\r",
      " 85%|████████████████████████████████████████████████████████████████████████████████████████████████████████▋                  | 92940/109250 [00:45<00:05, 2744.03it/s]"
     ]
    },
    {
     "name": "stderr",
     "output_type": "stream",
     "text": [
      "\r",
      " 86%|█████████████████████████████████████████████████████████████████████████████████████████████████████████▏                 | 93441/109250 [00:45<00:04, 3323.18it/s]"
     ]
    },
    {
     "name": "stderr",
     "output_type": "stream",
     "text": [
      "\r",
      " 86%|█████████████████████████████████████████████████████████████████████████████████████████████████████████▌                 | 93813/109250 [00:45<00:04, 3416.14it/s]"
     ]
    },
    {
     "name": "stderr",
     "output_type": "stream",
     "text": [
      "\r",
      " 86%|██████████████████████████████████████████████████████████████████████████████████████████████████████████▏                | 94296/109250 [00:45<00:03, 3789.75it/s]"
     ]
    },
    {
     "name": "stderr",
     "output_type": "stream",
     "text": [
      "\r",
      " 87%|██████████████████████████████████████████████████████████████████████████████████████████████████████████▌                | 94690/109250 [00:46<00:04, 3049.26it/s]"
     ]
    },
    {
     "name": "stderr",
     "output_type": "stream",
     "text": [
      "\r",
      " 87%|███████████████████████████████████████████████████████████████████████████████████████████████████████████▏               | 95171/109250 [00:46<00:04, 3473.19it/s]"
     ]
    },
    {
     "name": "stderr",
     "output_type": "stream",
     "text": [
      "\r",
      " 88%|███████████████████████████████████████████████████████████████████████████████████████████████████████████▋               | 95656/109250 [00:46<00:03, 3825.12it/s]"
     ]
    },
    {
     "name": "stderr",
     "output_type": "stream",
     "text": [
      "\r",
      " 88%|████████████████████████████████████████████████████████████████████████████████████████████████████████████▎              | 96151/109250 [00:46<00:03, 4125.77it/s]"
     ]
    },
    {
     "name": "stderr",
     "output_type": "stream",
     "text": [
      "\r",
      " 88%|████████████████████████████████████████████████████████████████████████████████████████████████████████████▋              | 96588/109250 [00:46<00:03, 3727.48it/s]"
     ]
    },
    {
     "name": "stderr",
     "output_type": "stream",
     "text": [
      "\r",
      " 89%|█████████████████████████████████████████████████████████████████████████████████████████████████████████████▏             | 97022/109250 [00:46<00:03, 3884.24it/s]"
     ]
    },
    {
     "name": "stderr",
     "output_type": "stream",
     "text": [
      "\r",
      " 89%|█████████████████████████████████████████████████████████████████████████████████████████████████████████████▋             | 97429/109250 [00:46<00:03, 3254.01it/s]"
     ]
    },
    {
     "name": "stderr",
     "output_type": "stream",
     "text": [
      "\r",
      " 90%|██████████████████████████████████████████████████████████████████████████████████████████████████████████████             | 97791/109250 [00:46<00:03, 3340.85it/s]"
     ]
    },
    {
     "name": "stderr",
     "output_type": "stream",
     "text": [
      "\r",
      " 90%|██████████████████████████████████████████████████████████████████████████████████████████████████████████████▍            | 98147/109250 [00:47<00:05, 2212.97it/s]"
     ]
    },
    {
     "name": "stderr",
     "output_type": "stream",
     "text": [
      "\r",
      " 90%|██████████████████████████████████████████████████████████████████████████████████████████████████████████████▊            | 98478/109250 [00:47<00:04, 2420.40it/s]"
     ]
    },
    {
     "name": "stderr",
     "output_type": "stream",
     "text": [
      "\r",
      " 91%|███████████████████████████████████████████████████████████████████████████████████████████████████████████████▍           | 99012/109250 [00:47<00:03, 3050.72it/s]"
     ]
    },
    {
     "name": "stderr",
     "output_type": "stream",
     "text": [
      "\r",
      " 91%|███████████████████████████████████████████████████████████████████████████████████████████████████████████████▉           | 99465/109250 [00:47<00:03, 3221.37it/s]"
     ]
    },
    {
     "name": "stderr",
     "output_type": "stream",
     "text": [
      "\r",
      " 91%|████████████████████████████████████████████████████████████████████████████████████████████████████████████████▍          | 99833/109250 [00:47<00:03, 2941.86it/s]"
     ]
    },
    {
     "name": "stderr",
     "output_type": "stream",
     "text": [
      "\r",
      " 92%|███████████████████████████████████████████████████████████████████████████████████████████████████████████████▉          | 100232/109250 [00:47<00:02, 3181.39it/s]"
     ]
    },
    {
     "name": "stderr",
     "output_type": "stream",
     "text": [
      "\r",
      " 92%|████████████████████████████████████████████████████████████████████████████████████████████████████████████████▎         | 100581/109250 [00:47<00:02, 3170.51it/s]"
     ]
    },
    {
     "name": "stderr",
     "output_type": "stream",
     "text": [
      "\r",
      " 92%|████████████████████████████████████████████████████████████████████████████████████████████████████████████████▋         | 100920/109250 [00:48<00:02, 3210.38it/s]"
     ]
    },
    {
     "name": "stderr",
     "output_type": "stream",
     "text": [
      "\r",
      " 93%|█████████████████████████████████████████████████████████████████████████████████████████████████████████████████         | 101289/109250 [00:48<00:02, 3337.46it/s]"
     ]
    },
    {
     "name": "stderr",
     "output_type": "stream",
     "text": [
      "\r",
      " 93%|█████████████████████████████████████████████████████████████████████████████████████████████████████████████████▋        | 101773/109250 [00:48<00:01, 3753.08it/s]"
     ]
    },
    {
     "name": "stderr",
     "output_type": "stream",
     "text": [
      "\r",
      " 94%|██████████████████████████████████████████████████████████████████████████████████████████████████████████████████        | 102168/109250 [00:48<00:01, 3728.41it/s]"
     ]
    },
    {
     "name": "stderr",
     "output_type": "stream",
     "text": [
      "\r",
      " 94%|██████████████████████████████████████████████████████████████████████████████████████████████████████████████████▌       | 102558/109250 [00:48<00:01, 3775.56it/s]"
     ]
    },
    {
     "name": "stderr",
     "output_type": "stream",
     "text": [
      "\r",
      " 94%|███████████████████████████████████████████████████████████████████████████████████████████████████████████████████       | 103083/109250 [00:48<00:01, 4199.28it/s]"
     ]
    },
    {
     "name": "stderr",
     "output_type": "stream",
     "text": [
      "\r",
      " 95%|███████████████████████████████████████████████████████████████████████████████████████████████████████████████████▌      | 103509/109250 [00:48<00:01, 4164.72it/s]"
     ]
    },
    {
     "name": "stderr",
     "output_type": "stream",
     "text": [
      "\r",
      " 95%|████████████████████████████████████████████████████████████████████████████████████████████████████████████████████      | 103930/109250 [00:48<00:01, 3936.62it/s]"
     ]
    },
    {
     "name": "stderr",
     "output_type": "stream",
     "text": [
      "\r",
      " 95%|████████████████████████████████████████████████████████████████████████████████████████████████████████████████████▌     | 104329/109250 [00:49<00:04, 1160.78it/s]"
     ]
    },
    {
     "name": "stderr",
     "output_type": "stream",
     "text": [
      "\r",
      " 96%|████████████████████████████████████████████████████████████████████████████████████████████████████████████████████▉     | 104699/109250 [00:49<00:03, 1429.17it/s]"
     ]
    },
    {
     "name": "stderr",
     "output_type": "stream",
     "text": [
      "\r",
      " 96%|█████████████████████████████████████████████████████████████████████████████████████████████████████████████████████▎    | 105015/109250 [00:49<00:02, 1544.00it/s]"
     ]
    },
    {
     "name": "stderr",
     "output_type": "stream",
     "text": [
      "\r",
      " 96%|█████████████████████████████████████████████████████████████████████████████████████████████████████████████████████▌    | 105313/109250 [00:50<00:02, 1757.54it/s]"
     ]
    },
    {
     "name": "stderr",
     "output_type": "stream",
     "text": [
      "\r",
      " 97%|█████████████████████████████████████████████████████████████████████████████████████████████████████████████████████▉    | 105600/109250 [00:50<00:01, 1942.07it/s]"
     ]
    },
    {
     "name": "stderr",
     "output_type": "stream",
     "text": [
      "\r",
      " 97%|██████████████████████████████████████████████████████████████████████████████████████████████████████████████████████▏   | 105885/109250 [00:50<00:01, 1942.68it/s]"
     ]
    },
    {
     "name": "stderr",
     "output_type": "stream",
     "text": [
      "\r",
      " 97%|██████████████████████████████████████████████████████████████████████████████████████████████████████████████████████▋   | 106285/109250 [00:50<00:01, 2366.11it/s]"
     ]
    },
    {
     "name": "stderr",
     "output_type": "stream",
     "text": [
      "\r",
      " 98%|███████████████████████████████████████████████████████████████████████████████████████████████████████████████████████   | 106585/109250 [00:50<00:01, 1857.17it/s]"
     ]
    },
    {
     "name": "stderr",
     "output_type": "stream",
     "text": [
      "\r",
      " 98%|███████████████████████████████████████████████████████████████████████████████████████████████████████████████████████▍  | 106943/109250 [00:50<00:01, 2187.10it/s]"
     ]
    },
    {
     "name": "stderr",
     "output_type": "stream",
     "text": [
      "\r",
      " 98%|███████████████████████████████████████████████████████████████████████████████████████████████████████████████████████▉  | 107373/109250 [00:50<00:00, 2642.55it/s]"
     ]
    },
    {
     "name": "stderr",
     "output_type": "stream",
     "text": [
      "\r",
      " 99%|████████████████████████████████████████████████████████████████████████████████████████████████████████████████████████▎ | 107700/109250 [00:50<00:00, 2772.56it/s]"
     ]
    },
    {
     "name": "stderr",
     "output_type": "stream",
     "text": [
      "\r",
      " 99%|████████████████████████████████████████████████████████████████████████████████████████████████████████████████████████▋ | 108022/109250 [00:51<00:00, 2441.95it/s]"
     ]
    },
    {
     "name": "stderr",
     "output_type": "stream",
     "text": [
      "\r",
      " 99%|████████████████████████████████████████████████████████████████████████████████████████████████████████████████████████▉ | 108304/109250 [00:51<00:00, 2281.81it/s]"
     ]
    },
    {
     "name": "stderr",
     "output_type": "stream",
     "text": [
      "\r",
      " 99%|█████████████████████████████████████████████████████████████████████████████████████████████████████████████████████████▏| 108559/109250 [00:51<00:00, 2291.84it/s]"
     ]
    },
    {
     "name": "stderr",
     "output_type": "stream",
     "text": [
      "\r",
      "100%|█████████████████████████████████████████████████████████████████████████████████████████████████████████████████████████▌| 108863/109250 [00:51<00:00, 2474.17it/s]"
     ]
    },
    {
     "name": "stderr",
     "output_type": "stream",
     "text": [
      "\r",
      "100%|█████████████████████████████████████████████████████████████████████████████████████████████████████████████████████████▉| 109141/109250 [00:51<00:00, 2553.13it/s]"
     ]
    },
    {
     "name": "stderr",
     "output_type": "stream",
     "text": [
      "\r",
      "100%|██████████████████████████████████████████████████████████████████████████████████████████████████████████████████████████| 109250/109250 [00:51<00:00, 2115.04it/s]"
     ]
    },
    {
     "name": "stderr",
     "output_type": "stream",
     "text": [
      "\n"
     ]
    },
    {
     "data": {
      "text/plain": [
       "8442907"
      ]
     },
     "execution_count": 7,
     "metadata": {},
     "output_type": "execute_result"
    }
   ],
   "source": [
    "import itertools\n",
    "from tqdm import tqdm\n",
    "\n",
    "tqdm.pandas()\n",
    "G = nx.Graph()\n",
    "G.add_nodes_from(df_index_to_business.index)\n",
    "    \n",
    "def add_edges(rows):\n",
    "    if len(rows) < 2:\n",
    "        return\n",
    "    business_ids = [df_business_to_index.loc[x].iloc[0] for x in rows['business_id'].unique()]\n",
    "    for comb in itertools.combinations(business_ids, 2):\n",
    "        if comb in G.edges:\n",
    "            G.edges[comb[0], comb[1]]['weight'] += 1\n",
    "        else:\n",
    "            G.add_edge(comb[0], comb[1], weight=1)\n",
    "\n",
    "df_review.groupby('user_id').progress_apply(add_edges)\n",
    "G.number_of_edges()"
   ]
  },
  {
   "cell_type": "code",
   "execution_count": 8,
   "id": "60603c0e-268f-4642-9ed3-ec4ed046b1e7",
   "metadata": {
    "execution": {
     "iopub.execute_input": "2025-04-21T02:30:08.630545Z",
     "iopub.status.busy": "2025-04-21T02:30:08.630260Z",
     "iopub.status.idle": "2025-04-21T02:30:22.406392Z",
     "shell.execute_reply": "2025-04-21T02:30:22.405703Z"
    },
    "papermill": {
     "duration": 13.792186,
     "end_time": "2025-04-21T02:30:22.407610",
     "exception": false,
     "start_time": "2025-04-21T02:30:08.615424",
     "status": "completed"
    },
    "tags": []
   },
   "outputs": [
    {
     "name": "stderr",
     "output_type": "stream",
     "text": [
      "\r",
      "  0%|                                                                                                                                        | 0/8442907 [00:00<?, ?it/s]"
     ]
    },
    {
     "name": "stderr",
     "output_type": "stream",
     "text": [
      "\r",
      "  1%|▉                                                                                                                       | 69144/8442907 [00:00<00:12, 691417.58it/s]"
     ]
    },
    {
     "name": "stderr",
     "output_type": "stream",
     "text": [
      "\r",
      "  2%|██                                                                                                                     | 143917/8442907 [00:00<00:11, 724526.24it/s]"
     ]
    },
    {
     "name": "stderr",
     "output_type": "stream",
     "text": [
      "\r",
      "  3%|███                                                                                                                    | 218873/8442907 [00:00<00:11, 735950.07it/s]"
     ]
    },
    {
     "name": "stderr",
     "output_type": "stream",
     "text": [
      "\r",
      "  3%|████                                                                                                                   | 292469/8442907 [00:00<00:11, 701284.60it/s]"
     ]
    },
    {
     "name": "stderr",
     "output_type": "stream",
     "text": [
      "\r",
      "  4%|█████                                                                                                                  | 362831/8442907 [00:00<00:12, 673010.71it/s]"
     ]
    },
    {
     "name": "stderr",
     "output_type": "stream",
     "text": [
      "\r",
      "  5%|██████▏                                                                                                                | 437067/8442907 [00:00<00:11, 695448.18it/s]"
     ]
    },
    {
     "name": "stderr",
     "output_type": "stream",
     "text": [
      "\r",
      "  6%|███████▏                                                                                                               | 511074/8442907 [00:00<00:11, 709548.81it/s]"
     ]
    },
    {
     "name": "stderr",
     "output_type": "stream",
     "text": [
      "\r",
      "  7%|████████▏                                                                                                              | 583960/8442907 [00:00<00:10, 715551.63it/s]"
     ]
    },
    {
     "name": "stderr",
     "output_type": "stream",
     "text": [
      "\r",
      "  8%|█████████▎                                                                                                             | 656672/8442907 [00:00<00:10, 719107.53it/s]"
     ]
    },
    {
     "name": "stderr",
     "output_type": "stream",
     "text": [
      "\r",
      "  9%|██████████▎                                                                                                            | 728712/8442907 [00:01<00:10, 714769.48it/s]"
     ]
    },
    {
     "name": "stderr",
     "output_type": "stream",
     "text": [
      "\r",
      "  9%|███████████▎                                                                                                           | 801725/8442907 [00:01<00:10, 719409.68it/s]"
     ]
    },
    {
     "name": "stderr",
     "output_type": "stream",
     "text": [
      "\r",
      " 10%|████████████▎                                                                                                          | 875622/8442907 [00:01<00:10, 725305.28it/s]"
     ]
    },
    {
     "name": "stderr",
     "output_type": "stream",
     "text": [
      "\r",
      " 11%|█████████████▍                                                                                                         | 949773/8442907 [00:01<00:10, 730179.11it/s]"
     ]
    },
    {
     "name": "stderr",
     "output_type": "stream",
     "text": [
      "\r",
      " 12%|██████████████▎                                                                                                       | 1022831/8442907 [00:01<00:10, 729068.06it/s]"
     ]
    },
    {
     "name": "stderr",
     "output_type": "stream",
     "text": [
      "\r",
      " 13%|███████████████▎                                                                                                      | 1095766/8442907 [00:01<00:10, 721859.70it/s]"
     ]
    },
    {
     "name": "stderr",
     "output_type": "stream",
     "text": [
      "\r",
      " 14%|████████████████▎                                                                                                     | 1169731/8442907 [00:01<00:10, 727156.34it/s]"
     ]
    },
    {
     "name": "stderr",
     "output_type": "stream",
     "text": [
      "\r",
      " 15%|█████████████████▎                                                                                                    | 1242804/8442907 [00:01<00:09, 728206.60it/s]"
     ]
    },
    {
     "name": "stderr",
     "output_type": "stream",
     "text": [
      "\r",
      " 16%|██████████████████▍                                                                                                   | 1317433/8442907 [00:01<00:09, 733606.92it/s]"
     ]
    },
    {
     "name": "stderr",
     "output_type": "stream",
     "text": [
      "\r",
      " 16%|███████████████████▍                                                                                                  | 1390811/8442907 [00:01<00:09, 730562.65it/s]"
     ]
    },
    {
     "name": "stderr",
     "output_type": "stream",
     "text": [
      "\r",
      " 17%|████████████████████▍                                                                                                 | 1464219/8442907 [00:02<00:09, 731563.26it/s]"
     ]
    },
    {
     "name": "stderr",
     "output_type": "stream",
     "text": [
      "\r",
      " 18%|█████████████████████▍                                                                                                | 1538260/8442907 [00:02<00:09, 734202.61it/s]"
     ]
    },
    {
     "name": "stderr",
     "output_type": "stream",
     "text": [
      "\r",
      " 19%|██████████████████████▌                                                                                               | 1611689/8442907 [00:02<00:09, 727120.64it/s]"
     ]
    },
    {
     "name": "stderr",
     "output_type": "stream",
     "text": [
      "\r",
      " 20%|███████████████████████▌                                                                                              | 1684421/8442907 [00:02<00:09, 726793.54it/s]"
     ]
    },
    {
     "name": "stderr",
     "output_type": "stream",
     "text": [
      "\r",
      " 21%|████████████████████████▌                                                                                             | 1758925/8442907 [00:02<00:09, 732225.65it/s]"
     ]
    },
    {
     "name": "stderr",
     "output_type": "stream",
     "text": [
      "\r",
      " 22%|█████████████████████████▌                                                                                            | 1832161/8442907 [00:02<00:09, 728279.89it/s]"
     ]
    },
    {
     "name": "stderr",
     "output_type": "stream",
     "text": [
      "\r",
      " 23%|██████████████████████████▋                                                                                           | 1905974/8442907 [00:02<00:08, 731208.02it/s]"
     ]
    },
    {
     "name": "stderr",
     "output_type": "stream",
     "text": [
      "\r",
      " 23%|███████████████████████████▋                                                                                          | 1979106/8442907 [00:02<00:08, 728389.07it/s]"
     ]
    },
    {
     "name": "stderr",
     "output_type": "stream",
     "text": [
      "\r",
      " 24%|████████████████████████████▋                                                                                         | 2051954/8442907 [00:02<00:08, 728247.10it/s]"
     ]
    },
    {
     "name": "stderr",
     "output_type": "stream",
     "text": [
      "\r",
      " 25%|█████████████████████████████▋                                                                                        | 2124785/8442907 [00:02<00:08, 718450.78it/s]"
     ]
    },
    {
     "name": "stderr",
     "output_type": "stream",
     "text": [
      "\r",
      " 26%|██████████████████████████████▋                                                                                       | 2196661/8442907 [00:03<00:08, 716835.43it/s]"
     ]
    },
    {
     "name": "stderr",
     "output_type": "stream",
     "text": [
      "\r",
      " 27%|███████████████████████████████▋                                                                                      | 2268956/8442907 [00:03<00:08, 718645.67it/s]"
     ]
    },
    {
     "name": "stderr",
     "output_type": "stream",
     "text": [
      "\r",
      " 28%|████████████████████████████████▋                                                                                     | 2340837/8442907 [00:03<00:08, 694562.65it/s]"
     ]
    },
    {
     "name": "stderr",
     "output_type": "stream",
     "text": [
      "\r",
      " 29%|█████████████████████████████████▋                                                                                    | 2412017/8442907 [00:03<00:08, 699580.03it/s]"
     ]
    },
    {
     "name": "stderr",
     "output_type": "stream",
     "text": [
      "\r",
      " 29%|██████████████████████████████████▋                                                                                   | 2484348/8442907 [00:03<00:08, 706548.74it/s]"
     ]
    },
    {
     "name": "stderr",
     "output_type": "stream",
     "text": [
      "\r",
      " 30%|███████████████████████████████████▋                                                                                  | 2556704/8442907 [00:03<00:08, 711572.55it/s]"
     ]
    },
    {
     "name": "stderr",
     "output_type": "stream",
     "text": [
      "\r",
      " 31%|████████████████████████████████████▋                                                                                 | 2627945/8442907 [00:03<00:08, 699934.04it/s]"
     ]
    },
    {
     "name": "stderr",
     "output_type": "stream",
     "text": [
      "\r",
      " 32%|█████████████████████████████████████▋                                                                                | 2699867/8442907 [00:03<00:08, 705603.39it/s]"
     ]
    },
    {
     "name": "stderr",
     "output_type": "stream",
     "text": [
      "\r",
      " 33%|██████████████████████████████████████▋                                                                               | 2770518/8442907 [00:03<00:08, 705866.49it/s]"
     ]
    },
    {
     "name": "stderr",
     "output_type": "stream",
     "text": [
      "\r",
      " 34%|███████████████████████████████████████▋                                                                              | 2841158/8442907 [00:03<00:07, 703931.77it/s]"
     ]
    },
    {
     "name": "stderr",
     "output_type": "stream",
     "text": [
      "\r",
      " 34%|████████████████████████████████████████▋                                                                             | 2912662/8442907 [00:04<00:07, 707231.26it/s]"
     ]
    },
    {
     "name": "stderr",
     "output_type": "stream",
     "text": [
      "\r",
      " 35%|█████████████████████████████████████████▋                                                                            | 2983918/8442907 [00:04<00:07, 708813.37it/s]"
     ]
    },
    {
     "name": "stderr",
     "output_type": "stream",
     "text": [
      "\r",
      " 36%|██████████████████████████████████████████▋                                                                           | 3054821/8442907 [00:04<00:07, 707684.24it/s]"
     ]
    },
    {
     "name": "stderr",
     "output_type": "stream",
     "text": [
      "\r",
      " 37%|███████████████████████████████████████████▋                                                                          | 3125604/8442907 [00:04<00:07, 704884.21it/s]"
     ]
    },
    {
     "name": "stderr",
     "output_type": "stream",
     "text": [
      "\r",
      " 38%|████████████████████████████████████████████▋                                                                         | 3197029/8442907 [00:04<00:07, 707670.02it/s]"
     ]
    },
    {
     "name": "stderr",
     "output_type": "stream",
     "text": [
      "\r",
      " 39%|█████████████████████████████████████████████▋                                                                        | 3268517/8442907 [00:04<00:07, 709816.94it/s]"
     ]
    },
    {
     "name": "stderr",
     "output_type": "stream",
     "text": [
      "\r",
      " 40%|██████████████████████████████████████████████▋                                                                       | 3339507/8442907 [00:04<00:07, 707980.21it/s]"
     ]
    },
    {
     "name": "stderr",
     "output_type": "stream",
     "text": [
      "\r",
      " 40%|███████████████████████████████████████████████▋                                                                      | 3410311/8442907 [00:04<00:07, 679790.52it/s]"
     ]
    },
    {
     "name": "stderr",
     "output_type": "stream",
     "text": [
      "\r",
      " 41%|████████████████████████████████████████████████▋                                                                     | 3481515/8442907 [00:04<00:07, 689156.53it/s]"
     ]
    },
    {
     "name": "stderr",
     "output_type": "stream",
     "text": [
      "\r",
      " 42%|█████████████████████████████████████████████████▌                                                                    | 3550626/8442907 [00:04<00:07, 689638.30it/s]"
     ]
    },
    {
     "name": "stderr",
     "output_type": "stream",
     "text": [
      "\r",
      " 43%|██████████████████████████████████████████████████▌                                                                   | 3620519/8442907 [00:05<00:06, 692378.04it/s]"
     ]
    },
    {
     "name": "stderr",
     "output_type": "stream",
     "text": [
      "\r",
      " 44%|███████████████████████████████████████████████████▌                                                                  | 3689858/8442907 [00:05<00:06, 689444.15it/s]"
     ]
    },
    {
     "name": "stderr",
     "output_type": "stream",
     "text": [
      "\r",
      " 45%|████████████████████████████████████████████████████▌                                                                 | 3760108/8442907 [00:05<00:06, 693307.63it/s]"
     ]
    },
    {
     "name": "stderr",
     "output_type": "stream",
     "text": [
      "\r",
      " 45%|█████████████████████████████████████████████████████▌                                                                | 3829493/8442907 [00:05<00:06, 692237.03it/s]"
     ]
    },
    {
     "name": "stderr",
     "output_type": "stream",
     "text": [
      "\r",
      " 46%|██████████████████████████████████████████████████████▍                                                               | 3898754/8442907 [00:05<00:06, 689064.66it/s]"
     ]
    },
    {
     "name": "stderr",
     "output_type": "stream",
     "text": [
      "\r",
      " 47%|███████████████████████████████████████████████████████▍                                                              | 3967688/8442907 [00:05<00:06, 671279.70it/s]"
     ]
    },
    {
     "name": "stderr",
     "output_type": "stream",
     "text": [
      "\r",
      " 48%|████████████████████████████████████████████████████████▍                                                             | 4034925/8442907 [00:05<00:06, 669217.55it/s]"
     ]
    },
    {
     "name": "stderr",
     "output_type": "stream",
     "text": [
      "\r",
      " 49%|█████████████████████████████████████████████████████████▎                                                            | 4103844/8442907 [00:05<00:06, 675087.02it/s]"
     ]
    },
    {
     "name": "stderr",
     "output_type": "stream",
     "text": [
      "\r",
      " 49%|██████████████████████████████████████████████████████████▎                                                           | 4171415/8442907 [00:05<00:06, 672438.67it/s]"
     ]
    },
    {
     "name": "stderr",
     "output_type": "stream",
     "text": [
      "\r",
      " 50%|███████████████████████████████████████████████████████████▏                                                          | 4238702/8442907 [00:05<00:06, 671115.14it/s]"
     ]
    },
    {
     "name": "stderr",
     "output_type": "stream",
     "text": [
      "\r",
      " 51%|████████████████████████████████████████████████████████████▏                                                         | 4305843/8442907 [00:06<00:06, 664961.34it/s]"
     ]
    },
    {
     "name": "stderr",
     "output_type": "stream",
     "text": [
      "\r",
      " 52%|█████████████████████████████████████████████████████████████                                                         | 4373121/8442907 [00:06<00:06, 667270.28it/s]"
     ]
    },
    {
     "name": "stderr",
     "output_type": "stream",
     "text": [
      "\r",
      " 53%|██████████████████████████████████████████████████████████████                                                        | 4439871/8442907 [00:06<00:06, 643012.96it/s]"
     ]
    },
    {
     "name": "stderr",
     "output_type": "stream",
     "text": [
      "\r",
      " 53%|██████████████████████████████████████████████████████████████▉                                                       | 4504359/8442907 [00:06<00:06, 641973.02it/s]"
     ]
    },
    {
     "name": "stderr",
     "output_type": "stream",
     "text": [
      "\r",
      " 54%|███████████████████████████████████████████████████████████████▉                                                      | 4572660/8442907 [00:06<00:05, 653975.88it/s]"
     ]
    },
    {
     "name": "stderr",
     "output_type": "stream",
     "text": [
      "\r",
      " 55%|████████████████████████████████████████████████████████████████▊                                                     | 4640420/8442907 [00:06<00:05, 660930.80it/s]"
     ]
    },
    {
     "name": "stderr",
     "output_type": "stream",
     "text": [
      "\r",
      " 56%|█████████████████████████████████████████████████████████████████▊                                                    | 4708048/8442907 [00:06<00:05, 665474.67it/s]"
     ]
    },
    {
     "name": "stderr",
     "output_type": "stream",
     "text": [
      "\r",
      " 57%|██████████████████████████████████████████████████████████████████▋                                                   | 4775253/8442907 [00:06<00:05, 667421.02it/s]"
     ]
    },
    {
     "name": "stderr",
     "output_type": "stream",
     "text": [
      "\r",
      " 57%|███████████████████████████████████████████████████████████████████▋                                                  | 4842048/8442907 [00:06<00:05, 664696.85it/s]"
     ]
    },
    {
     "name": "stderr",
     "output_type": "stream",
     "text": [
      "\r",
      " 58%|████████████████████████████████████████████████████████████████████▌                                                 | 4908556/8442907 [00:07<00:05, 655120.59it/s]"
     ]
    },
    {
     "name": "stderr",
     "output_type": "stream",
     "text": [
      "\r",
      " 59%|█████████████████████████████████████████████████████████████████████▌                                                | 4975726/8442907 [00:07<00:05, 660013.79it/s]"
     ]
    },
    {
     "name": "stderr",
     "output_type": "stream",
     "text": [
      "\r",
      " 60%|██████████████████████████████████████████████████████████████████████▍                                               | 5041772/8442907 [00:07<00:05, 649851.86it/s]"
     ]
    },
    {
     "name": "stderr",
     "output_type": "stream",
     "text": [
      "\r",
      " 60%|███████████████████████████████████████████████████████████████████████▎                                              | 5106814/8442907 [00:07<00:05, 648785.01it/s]"
     ]
    },
    {
     "name": "stderr",
     "output_type": "stream",
     "text": [
      "\r",
      " 61%|████████████████████████████████████████████████████████████████████████▎                                             | 5173446/8442907 [00:07<00:04, 653962.93it/s]"
     ]
    },
    {
     "name": "stderr",
     "output_type": "stream",
     "text": [
      "\r",
      " 62%|█████████████████████████████████████████████████████████████████████████▏                                            | 5240032/8442907 [00:07<00:04, 657489.27it/s]"
     ]
    },
    {
     "name": "stderr",
     "output_type": "stream",
     "text": [
      "\r",
      " 63%|██████████████████████████████████████████████████████████████████████████▏                                           | 5306006/8442907 [00:07<00:04, 658155.22it/s]"
     ]
    },
    {
     "name": "stderr",
     "output_type": "stream",
     "text": [
      "\r",
      " 64%|███████████████████████████████████████████████████████████████████████████                                           | 5371842/8442907 [00:07<00:04, 657192.69it/s]"
     ]
    },
    {
     "name": "stderr",
     "output_type": "stream",
     "text": [
      "\r",
      " 64%|███████████████████████████████████████████████████████████████████████████▉                                          | 5437575/8442907 [00:07<00:04, 652252.34it/s]"
     ]
    },
    {
     "name": "stderr",
     "output_type": "stream",
     "text": [
      "\r",
      " 65%|████████████████████████████████████████████████████████████████████████████▉                                         | 5502817/8442907 [00:07<00:04, 649658.35it/s]"
     ]
    },
    {
     "name": "stderr",
     "output_type": "stream",
     "text": [
      "\r",
      " 66%|█████████████████████████████████████████████████████████████████████████████▊                                        | 5567795/8442907 [00:08<00:04, 643021.61it/s]"
     ]
    },
    {
     "name": "stderr",
     "output_type": "stream",
     "text": [
      "\r",
      " 67%|██████████████████████████████████████████████████████████████████████████████▋                                       | 5632116/8442907 [00:08<00:04, 642028.68it/s]"
     ]
    },
    {
     "name": "stderr",
     "output_type": "stream",
     "text": [
      "\r",
      " 67%|███████████████████████████████████████████████████████████████████████████████▌                                      | 5696494/8442907 [00:08<00:04, 642543.27it/s]"
     ]
    },
    {
     "name": "stderr",
     "output_type": "stream",
     "text": [
      "\r",
      " 68%|████████████████████████████████████████████████████████████████████████████████▌                                     | 5760758/8442907 [00:08<00:04, 618729.30it/s]"
     ]
    },
    {
     "name": "stderr",
     "output_type": "stream",
     "text": [
      "\r",
      " 69%|█████████████████████████████████████████████████████████████████████████████████▍                                    | 5824948/8442907 [00:08<00:04, 625458.67it/s]"
     ]
    },
    {
     "name": "stderr",
     "output_type": "stream",
     "text": [
      "\r",
      " 70%|██████████████████████████████████████████████████████████████████████████████████▎                                   | 5887643/8442907 [00:08<00:04, 603085.29it/s]"
     ]
    },
    {
     "name": "stderr",
     "output_type": "stream",
     "text": [
      "\r",
      " 70%|███████████████████████████████████████████████████████████████████████████████████▏                                  | 5948773/8442907 [00:08<00:04, 605444.64it/s]"
     ]
    },
    {
     "name": "stderr",
     "output_type": "stream",
     "text": [
      "\r",
      " 71%|████████████████████████████████████████████████████████████████████████████████████                                  | 6011325/8442907 [00:08<00:03, 611286.50it/s]"
     ]
    },
    {
     "name": "stderr",
     "output_type": "stream",
     "text": [
      "\r",
      " 72%|████████████████████████████████████████████████████████████████████████████████████▉                                 | 6073098/8442907 [00:08<00:03, 613175.13it/s]"
     ]
    },
    {
     "name": "stderr",
     "output_type": "stream",
     "text": [
      "\r",
      " 73%|█████████████████████████████████████████████████████████████████████████████████████▊                                | 6135448/8442907 [00:08<00:03, 616220.81it/s]"
     ]
    },
    {
     "name": "stderr",
     "output_type": "stream",
     "text": [
      "\r",
      " 73%|██████████████████████████████████████████████████████████████████████████████████████▌                               | 6197147/8442907 [00:09<00:03, 613754.59it/s]"
     ]
    },
    {
     "name": "stderr",
     "output_type": "stream",
     "text": [
      "\r",
      " 74%|███████████████████████████████████████████████████████████████████████████████████████▍                              | 6259180/8442907 [00:09<00:03, 615699.80it/s]"
     ]
    },
    {
     "name": "stderr",
     "output_type": "stream",
     "text": [
      "\r",
      " 75%|████████████████████████████████████████████████████████████████████████████████████████▎                             | 6321493/8442907 [00:09<00:03, 617906.42it/s]"
     ]
    },
    {
     "name": "stderr",
     "output_type": "stream",
     "text": [
      "\r",
      " 76%|█████████████████████████████████████████████████████████████████████████████████████████▏                            | 6384389/8442907 [00:09<00:03, 621201.06it/s]"
     ]
    },
    {
     "name": "stderr",
     "output_type": "stream",
     "text": [
      "\r",
      " 76%|██████████████████████████████████████████████████████████████████████████████████████████                            | 6446532/8442907 [00:09<00:03, 616227.26it/s]"
     ]
    },
    {
     "name": "stderr",
     "output_type": "stream",
     "text": [
      "\r",
      " 77%|██████████████████████████████████████████████████████████████████████████████████████████▉                           | 6508178/8442907 [00:09<00:03, 610949.65it/s]"
     ]
    },
    {
     "name": "stderr",
     "output_type": "stream",
     "text": [
      "\r",
      " 78%|███████████████████████████████████████████████████████████████████████████████████████████▊                          | 6570523/8442907 [00:09<00:03, 614650.02it/s]"
     ]
    },
    {
     "name": "stderr",
     "output_type": "stream",
     "text": [
      "\r",
      " 79%|████████████████████████████████████████████████████████████████████████████████████████████▋                         | 6632009/8442907 [00:09<00:02, 610678.58it/s]"
     ]
    },
    {
     "name": "stderr",
     "output_type": "stream",
     "text": [
      "\r",
      " 79%|█████████████████████████████████████████████████████████████████████████████████████████████▌                        | 6693094/8442907 [00:09<00:02, 604464.69it/s]"
     ]
    },
    {
     "name": "stderr",
     "output_type": "stream",
     "text": [
      "\r",
      " 80%|██████████████████████████████████████████████████████████████████████████████████████████████▍                       | 6753561/8442907 [00:09<00:02, 598070.78it/s]"
     ]
    },
    {
     "name": "stderr",
     "output_type": "stream",
     "text": [
      "\r",
      " 81%|███████████████████████████████████████████████████████████████████████████████████████████████▏                      | 6813389/8442907 [00:10<00:02, 591598.09it/s]"
     ]
    },
    {
     "name": "stderr",
     "output_type": "stream",
     "text": [
      "\r",
      " 81%|████████████████████████████████████████████████████████████████████████████████████████████████                      | 6872569/8442907 [00:10<00:02, 587248.74it/s]"
     ]
    },
    {
     "name": "stderr",
     "output_type": "stream",
     "text": [
      "\r",
      " 82%|████████████████████████████████████████████████████████████████████████████████████████████████▊                     | 6931307/8442907 [00:10<00:02, 584835.94it/s]"
     ]
    },
    {
     "name": "stderr",
     "output_type": "stream",
     "text": [
      "\r",
      " 83%|█████████████████████████████████████████████████████████████████████████████████████████████████▋                    | 6989798/8442907 [00:10<00:02, 569523.06it/s]"
     ]
    },
    {
     "name": "stderr",
     "output_type": "stream",
     "text": [
      "\r",
      " 83%|██████████████████████████████████████████████████████████████████████████████████████████████████▍                   | 7046822/8442907 [00:10<00:02, 565429.43it/s]"
     ]
    },
    {
     "name": "stderr",
     "output_type": "stream",
     "text": [
      "\r",
      " 84%|███████████████████████████████████████████████████████████████████████████████████████████████████▎                  | 7104116/8442907 [00:10<00:02, 567616.55it/s]"
     ]
    },
    {
     "name": "stderr",
     "output_type": "stream",
     "text": [
      "\r",
      " 85%|████████████████████████████████████████████████████████████████████████████████████████████████████                  | 7160915/8442907 [00:10<00:02, 565568.63it/s]"
     ]
    },
    {
     "name": "stderr",
     "output_type": "stream",
     "text": [
      "\r",
      " 85%|████████████████████████████████████████████████████████████████████████████████████████████████████▊                 | 7217524/8442907 [00:10<00:02, 565717.16it/s]"
     ]
    },
    {
     "name": "stderr",
     "output_type": "stream",
     "text": [
      "\r",
      " 86%|█████████████████████████████████████████████████████████████████████████████████████████████████████▋                | 7274113/8442907 [00:10<00:02, 563920.62it/s]"
     ]
    },
    {
     "name": "stderr",
     "output_type": "stream",
     "text": [
      "\r",
      " 87%|██████████████████████████████████████████████████████████████████████████████████████████████████████▍               | 7330517/8442907 [00:11<00:02, 553129.97it/s]"
     ]
    },
    {
     "name": "stderr",
     "output_type": "stream",
     "text": [
      "\r",
      " 87%|███████████████████████████████████████████████████████████████████████████████████████████████████████▏              | 7385875/8442907 [00:11<00:01, 552817.75it/s]"
     ]
    },
    {
     "name": "stderr",
     "output_type": "stream",
     "text": [
      "\r",
      " 88%|███████████████████████████████████████████████████████████████████████████████████████████████████████▉              | 7441188/8442907 [00:11<00:01, 541943.16it/s]"
     ]
    },
    {
     "name": "stderr",
     "output_type": "stream",
     "text": [
      "\r",
      " 89%|████████████████████████████████████████████████████████████████████████████████████████████████████████▊             | 7495437/8442907 [00:11<00:01, 540300.13it/s]"
     ]
    },
    {
     "name": "stderr",
     "output_type": "stream",
     "text": [
      "\r",
      " 89%|█████████████████████████████████████████████████████████████████████████████████████████████████████████▌            | 7549503/8442907 [00:11<00:01, 535515.03it/s]"
     ]
    },
    {
     "name": "stderr",
     "output_type": "stream",
     "text": [
      "\r",
      " 90%|██████████████████████████████████████████████████████████████████████████████████████████████████████████▎           | 7603081/8442907 [00:11<00:01, 534155.41it/s]"
     ]
    },
    {
     "name": "stderr",
     "output_type": "stream",
     "text": [
      "\r",
      " 91%|███████████████████████████████████████████████████████████████████████████████████████████████████████████           | 7656513/8442907 [00:11<00:01, 527450.76it/s]"
     ]
    },
    {
     "name": "stderr",
     "output_type": "stream",
     "text": [
      "\r",
      " 91%|███████████████████████████████████████████████████████████████████████████████████████████████████████████▋          | 7709279/8442907 [00:11<00:01, 521661.59it/s]"
     ]
    },
    {
     "name": "stderr",
     "output_type": "stream",
     "text": [
      "\r",
      " 92%|████████████████████████████████████████████████████████████████████████████████████████████████████████████▍         | 7761463/8442907 [00:11<00:01, 513976.84it/s]"
     ]
    },
    {
     "name": "stderr",
     "output_type": "stream",
     "text": [
      "\r",
      " 93%|█████████████████████████████████████████████████████████████████████████████████████████████████████████████▏        | 7812883/8442907 [00:11<00:01, 507240.07it/s]"
     ]
    },
    {
     "name": "stderr",
     "output_type": "stream",
     "text": [
      "\r",
      " 93%|█████████████████████████████████████████████████████████████████████████████████████████████████████████████▉        | 7863627/8442907 [00:12<00:01, 497901.50it/s]"
     ]
    },
    {
     "name": "stderr",
     "output_type": "stream",
     "text": [
      "\r",
      " 94%|██████████████████████████████████████████████████████████████████████████████████████████████████████████████▌       | 7913446/8442907 [00:12<00:01, 491292.20it/s]"
     ]
    },
    {
     "name": "stderr",
     "output_type": "stream",
     "text": [
      "\r",
      " 94%|███████████████████████████████████████████████████████████████████████████████████████████████████████████████▎      | 7962595/8442907 [00:12<00:00, 483882.70it/s]"
     ]
    },
    {
     "name": "stderr",
     "output_type": "stream",
     "text": [
      "\r",
      " 95%|███████████████████████████████████████████████████████████████████████████████████████████████████████████████▉      | 8011000/8442907 [00:12<00:00, 471367.67it/s]"
     ]
    },
    {
     "name": "stderr",
     "output_type": "stream",
     "text": [
      "\r",
      " 95%|████████████████████████████████████████████████████████████████████████████████████████████████████████████████▌     | 8058183/8442907 [00:12<00:00, 462563.15it/s]"
     ]
    },
    {
     "name": "stderr",
     "output_type": "stream",
     "text": [
      "\r",
      " 96%|█████████████████████████████████████████████████████████████████████████████████████████████████████████████████▎    | 8104475/8442907 [00:12<00:00, 449096.53it/s]"
     ]
    },
    {
     "name": "stderr",
     "output_type": "stream",
     "text": [
      "\r",
      " 97%|█████████████████████████████████████████████████████████████████████████████████████████████████████████████████▉    | 8149445/8442907 [00:12<00:00, 439486.97it/s]"
     ]
    },
    {
     "name": "stderr",
     "output_type": "stream",
     "text": [
      "\r",
      " 97%|██████████████████████████████████████████████████████████████████████████████████████████████████████████████████▌   | 8193438/8442907 [00:12<00:00, 426833.30it/s]"
     ]
    },
    {
     "name": "stderr",
     "output_type": "stream",
     "text": [
      "\r",
      " 98%|███████████████████████████████████████████████████████████████████████████████████████████████████████████████████   | 8236175/8442907 [00:12<00:00, 411528.26it/s]"
     ]
    },
    {
     "name": "stderr",
     "output_type": "stream",
     "text": [
      "\r",
      " 98%|███████████████████████████████████████████████████████████████████████████████████████████████████████████████████▋  | 8277411/8442907 [00:13<00:00, 393558.59it/s]"
     ]
    },
    {
     "name": "stderr",
     "output_type": "stream",
     "text": [
      "\r",
      " 99%|████████████████████████████████████████████████████████████████████████████████████████████████████████████████████▏ | 8316896/8442907 [00:13<00:00, 373938.82it/s]"
     ]
    },
    {
     "name": "stderr",
     "output_type": "stream",
     "text": [
      "\r",
      " 99%|████████████████████████████████████████████████████████████████████████████████████████████████████████████████████▊ | 8354465/8442907 [00:13<00:00, 352969.87it/s]"
     ]
    },
    {
     "name": "stderr",
     "output_type": "stream",
     "text": [
      "\r",
      " 99%|█████████████████████████████████████████████████████████████████████████████████████████████████████████████████████▎| 8389982/8442907 [00:13<00:00, 317227.31it/s]"
     ]
    },
    {
     "name": "stderr",
     "output_type": "stream",
     "text": [
      "\r",
      "100%|█████████████████████████████████████████████████████████████████████████████████████████████████████████████████████▋| 8422316/8442907 [00:13<00:00, 282481.24it/s]"
     ]
    },
    {
     "name": "stderr",
     "output_type": "stream",
     "text": [
      "\r",
      "100%|██████████████████████████████████████████████████████████████████████████████████████████████████████████████████████| 8442907/8442907 [00:13<00:00, 613511.78it/s]"
     ]
    },
    {
     "name": "stderr",
     "output_type": "stream",
     "text": [
      "\n"
     ]
    }
   ],
   "source": [
    "edges_to_remove = []\n",
    "for u,v,a in tqdm(G.edges(data=True), total=G.number_of_edges()):\n",
    "    weight = a['weight']\n",
    "    u_review_count = df_index_to_review_count[u]\n",
    "    v_review_count = df_index_to_review_count[v]\n",
    "    if float(weight) < edge_percent * float(min(u_review_count, v_review_count)):\n",
    "        edges_to_remove.append((u, v))"
   ]
  },
  {
   "cell_type": "code",
   "execution_count": 9,
   "id": "5bd0a4bf-3480-4df7-83c3-b9681da4dea4",
   "metadata": {
    "execution": {
     "iopub.execute_input": "2025-04-21T02:30:22.451885Z",
     "iopub.status.busy": "2025-04-21T02:30:22.451653Z",
     "iopub.status.idle": "2025-04-21T02:30:30.269121Z",
     "shell.execute_reply": "2025-04-21T02:30:30.268551Z"
    },
    "papermill": {
     "duration": 7.840708,
     "end_time": "2025-04-21T02:30:30.270373",
     "exception": false,
     "start_time": "2025-04-21T02:30:22.429665",
     "status": "completed"
    },
    "tags": []
   },
   "outputs": [
    {
     "name": "stderr",
     "output_type": "stream",
     "text": [
      "\r",
      "  0%|                                                                                                                                        | 0/5233404 [00:00<?, ?it/s]"
     ]
    },
    {
     "name": "stderr",
     "output_type": "stream",
     "text": [
      "\r",
      "  1%|█▍                                                                                                                      | 62530/5233404 [00:00<00:08, 625276.74it/s]"
     ]
    },
    {
     "name": "stderr",
     "output_type": "stream",
     "text": [
      "\r",
      "  2%|██▉                                                                                                                    | 126963/5233404 [00:00<00:08, 636472.23it/s]"
     ]
    },
    {
     "name": "stderr",
     "output_type": "stream",
     "text": [
      "\r",
      "  4%|████▍                                                                                                                  | 192918/5233404 [00:00<00:07, 646998.84it/s]"
     ]
    },
    {
     "name": "stderr",
     "output_type": "stream",
     "text": [
      "\r",
      "  5%|█████▊                                                                                                                 | 257907/5233404 [00:00<00:07, 648131.92it/s]"
     ]
    },
    {
     "name": "stderr",
     "output_type": "stream",
     "text": [
      "\r",
      "  6%|███████▎                                                                                                               | 324114/5233404 [00:00<00:07, 653150.34it/s]"
     ]
    },
    {
     "name": "stderr",
     "output_type": "stream",
     "text": [
      "\r",
      "  7%|████████▊                                                                                                              | 389430/5233404 [00:00<00:07, 652645.96it/s]"
     ]
    },
    {
     "name": "stderr",
     "output_type": "stream",
     "text": [
      "\r",
      "  9%|██████████▎                                                                                                            | 455576/5233404 [00:00<00:07, 655517.96it/s]"
     ]
    },
    {
     "name": "stderr",
     "output_type": "stream",
     "text": [
      "\r",
      " 10%|███████████▊                                                                                                           | 521128/5233404 [00:00<00:07, 653185.08it/s]"
     ]
    },
    {
     "name": "stderr",
     "output_type": "stream",
     "text": [
      "\r",
      " 11%|█████████████▎                                                                                                         | 586761/5233404 [00:00<00:07, 654158.47it/s]"
     ]
    },
    {
     "name": "stderr",
     "output_type": "stream",
     "text": [
      "\r",
      " 12%|██████████████▊                                                                                                        | 652179/5233404 [00:01<00:07, 647409.01it/s]"
     ]
    },
    {
     "name": "stderr",
     "output_type": "stream",
     "text": [
      "\r",
      " 14%|████████████████▎                                                                                                      | 718274/5233404 [00:01<00:06, 651511.65it/s]"
     ]
    },
    {
     "name": "stderr",
     "output_type": "stream",
     "text": [
      "\r",
      " 15%|█████████████████▊                                                                                                     | 783822/5233404 [00:01<00:06, 652706.25it/s]"
     ]
    },
    {
     "name": "stderr",
     "output_type": "stream",
     "text": [
      "\r",
      " 16%|███████████████████▎                                                                                                   | 850136/5233404 [00:01<00:06, 655844.18it/s]"
     ]
    },
    {
     "name": "stderr",
     "output_type": "stream",
     "text": [
      "\r",
      " 18%|████████████████████▊                                                                                                  | 916251/5233404 [00:01<00:06, 657435.71it/s]"
     ]
    },
    {
     "name": "stderr",
     "output_type": "stream",
     "text": [
      "\r",
      " 19%|██████████████████████▎                                                                                                | 982896/5233404 [00:01<00:06, 660139.02it/s]"
     ]
    },
    {
     "name": "stderr",
     "output_type": "stream",
     "text": [
      "\r",
      " 20%|███████████████████████▋                                                                                              | 1049448/5233404 [00:01<00:06, 661749.92it/s]"
     ]
    },
    {
     "name": "stderr",
     "output_type": "stream",
     "text": [
      "\r",
      " 21%|█████████████████████████▏                                                                                            | 1116309/5233404 [00:01<00:06, 663806.10it/s]"
     ]
    },
    {
     "name": "stderr",
     "output_type": "stream",
     "text": [
      "\r",
      " 23%|██████████████████████████▋                                                                                           | 1182693/5233404 [00:01<00:06, 663691.50it/s]"
     ]
    },
    {
     "name": "stderr",
     "output_type": "stream",
     "text": [
      "\r",
      " 24%|████████████████████████████▏                                                                                         | 1249361/5233404 [00:01<00:05, 664582.99it/s]"
     ]
    },
    {
     "name": "stderr",
     "output_type": "stream",
     "text": [
      "\r",
      " 25%|█████████████████████████████▋                                                                                        | 1315821/5233404 [00:02<00:05, 663265.66it/s]"
     ]
    },
    {
     "name": "stderr",
     "output_type": "stream",
     "text": [
      "\r",
      " 26%|███████████████████████████████▏                                                                                      | 1382639/5233404 [00:02<00:05, 664732.76it/s]"
     ]
    },
    {
     "name": "stderr",
     "output_type": "stream",
     "text": [
      "\r",
      " 28%|████████████████████████████████▋                                                                                     | 1449114/5233404 [00:02<00:05, 660503.86it/s]"
     ]
    },
    {
     "name": "stderr",
     "output_type": "stream",
     "text": [
      "\r",
      " 29%|██████████████████████████████████▏                                                                                   | 1516294/5233404 [00:02<00:05, 663869.69it/s]"
     ]
    },
    {
     "name": "stderr",
     "output_type": "stream",
     "text": [
      "\r",
      " 30%|███████████████████████████████████▋                                                                                  | 1582688/5233404 [00:02<00:05, 657560.68it/s]"
     ]
    },
    {
     "name": "stderr",
     "output_type": "stream",
     "text": [
      "\r",
      " 32%|█████████████████████████████████████▏                                                                                | 1650335/5233404 [00:02<00:05, 663176.53it/s]"
     ]
    },
    {
     "name": "stderr",
     "output_type": "stream",
     "text": [
      "\r",
      " 33%|██████████████████████████████████████▋                                                                               | 1717427/5233404 [00:02<00:05, 665478.66it/s]"
     ]
    },
    {
     "name": "stderr",
     "output_type": "stream",
     "text": [
      "\r",
      " 34%|████████████████████████████████████████▎                                                                             | 1785514/5233404 [00:02<00:05, 670069.18it/s]"
     ]
    },
    {
     "name": "stderr",
     "output_type": "stream",
     "text": [
      "\r",
      " 35%|█████████████████████████████████████████▊                                                                            | 1852533/5233404 [00:02<00:05, 667607.01it/s]"
     ]
    },
    {
     "name": "stderr",
     "output_type": "stream",
     "text": [
      "\r",
      " 37%|███████████████████████████████████████████▎                                                                          | 1919303/5233404 [00:02<00:05, 661894.18it/s]"
     ]
    },
    {
     "name": "stderr",
     "output_type": "stream",
     "text": [
      "\r",
      " 38%|████████████████████████████████████████████▊                                                                         | 1985508/5233404 [00:03<00:04, 660923.57it/s]"
     ]
    },
    {
     "name": "stderr",
     "output_type": "stream",
     "text": [
      "\r",
      " 39%|██████████████████████████████████████████████▎                                                                       | 2051611/5233404 [00:03<00:04, 658684.74it/s]"
     ]
    },
    {
     "name": "stderr",
     "output_type": "stream",
     "text": [
      "\r",
      " 40%|███████████████████████████████████████████████▋                                                                      | 2117634/5233404 [00:03<00:04, 659140.22it/s]"
     ]
    },
    {
     "name": "stderr",
     "output_type": "stream",
     "text": [
      "\r",
      " 42%|█████████████████████████████████████████████████▎                                                                    | 2186232/5233404 [00:03<00:04, 667143.09it/s]"
     ]
    },
    {
     "name": "stderr",
     "output_type": "stream",
     "text": [
      "\r",
      " 43%|██████████████████████████████████████████████████▊                                                                   | 2252955/5233404 [00:03<00:04, 654070.50it/s]"
     ]
    },
    {
     "name": "stderr",
     "output_type": "stream",
     "text": [
      "\r",
      " 44%|████████████████████████████████████████████████████▎                                                                 | 2319295/5233404 [00:03<00:04, 656817.37it/s]"
     ]
    },
    {
     "name": "stderr",
     "output_type": "stream",
     "text": [
      "\r",
      " 46%|█████████████████████████████████████████████████████▊                                                                | 2387522/5233404 [00:03<00:04, 664359.06it/s]"
     ]
    },
    {
     "name": "stderr",
     "output_type": "stream",
     "text": [
      "\r",
      " 47%|███████████████████████████████████████████████████████▎                                                              | 2454401/5233404 [00:03<00:04, 665670.13it/s]"
     ]
    },
    {
     "name": "stderr",
     "output_type": "stream",
     "text": [
      "\r",
      " 48%|████████████████████████████████████████████████████████▊                                                             | 2520998/5233404 [00:03<00:04, 665413.37it/s]"
     ]
    },
    {
     "name": "stderr",
     "output_type": "stream",
     "text": [
      "\r",
      " 49%|██████████████████████████████████████████████████████████▎                                                           | 2587560/5233404 [00:03<00:03, 663778.32it/s]"
     ]
    },
    {
     "name": "stderr",
     "output_type": "stream",
     "text": [
      "\r",
      " 51%|███████████████████████████████████████████████████████████▊                                                          | 2655272/5233404 [00:04<00:03, 667755.88it/s]"
     ]
    },
    {
     "name": "stderr",
     "output_type": "stream",
     "text": [
      "\r",
      " 52%|█████████████████████████████████████████████████████████████▍                                                        | 2722545/5233404 [00:04<00:03, 669236.06it/s]"
     ]
    },
    {
     "name": "stderr",
     "output_type": "stream",
     "text": [
      "\r",
      " 53%|██████████████████████████████████████████████████████████████▉                                                       | 2789551/5233404 [00:04<00:03, 669477.59it/s]"
     ]
    },
    {
     "name": "stderr",
     "output_type": "stream",
     "text": [
      "\r",
      " 55%|████████████████████████████████████████████████████████████████▍                                                     | 2856506/5233404 [00:04<00:03, 666276.22it/s]"
     ]
    },
    {
     "name": "stderr",
     "output_type": "stream",
     "text": [
      "\r",
      " 56%|█████████████████████████████████████████████████████████████████▉                                                    | 2923243/5233404 [00:04<00:03, 666594.98it/s]"
     ]
    },
    {
     "name": "stderr",
     "output_type": "stream",
     "text": [
      "\r",
      " 57%|███████████████████████████████████████████████████████████████████▍                                                  | 2989908/5233404 [00:04<00:03, 653541.15it/s]"
     ]
    },
    {
     "name": "stderr",
     "output_type": "stream",
     "text": [
      "\r",
      " 58%|████████████████████████████████████████████████████████████████████▉                                                 | 3057702/5233404 [00:04<00:03, 660640.44it/s]"
     ]
    },
    {
     "name": "stderr",
     "output_type": "stream",
     "text": [
      "\r",
      " 60%|██████████████████████████████████████████████████████████████████████▍                                               | 3125541/5233404 [00:04<00:03, 665897.82it/s]"
     ]
    },
    {
     "name": "stderr",
     "output_type": "stream",
     "text": [
      "\r",
      " 61%|███████████████████████████████████████████████████████████████████████▉                                              | 3192193/5233404 [00:04<00:03, 666076.08it/s]"
     ]
    },
    {
     "name": "stderr",
     "output_type": "stream",
     "text": [
      "\r",
      " 62%|█████████████████████████████████████████████████████████████████████████▌                                            | 3260206/5233404 [00:04<00:02, 670263.50it/s]"
     ]
    },
    {
     "name": "stderr",
     "output_type": "stream",
     "text": [
      "\r",
      " 64%|███████████████████████████████████████████████████████████████████████████                                           | 3328717/5233404 [00:05<00:02, 674692.85it/s]"
     ]
    },
    {
     "name": "stderr",
     "output_type": "stream",
     "text": [
      "\r",
      " 65%|████████████████████████████████████████████████████████████████████████████▌                                         | 3396205/5233404 [00:05<00:02, 667747.63it/s]"
     ]
    },
    {
     "name": "stderr",
     "output_type": "stream",
     "text": [
      "\r",
      " 66%|██████████████████████████████████████████████████████████████████████████████                                        | 3463007/5233404 [00:05<00:02, 666861.88it/s]"
     ]
    },
    {
     "name": "stderr",
     "output_type": "stream",
     "text": [
      "\r",
      " 67%|███████████████████████████████████████████████████████████████████████████████▋                                      | 3532073/5233404 [00:05<00:02, 673942.35it/s]"
     ]
    },
    {
     "name": "stderr",
     "output_type": "stream",
     "text": [
      "\r",
      " 69%|█████████████████████████████████████████████████████████████████████████████████▏                                    | 3599486/5233404 [00:05<00:02, 673268.98it/s]"
     ]
    },
    {
     "name": "stderr",
     "output_type": "stream",
     "text": [
      "\r",
      " 70%|██████████████████████████████████████████████████████████████████████████████████▋                                   | 3666826/5233404 [00:05<00:02, 671885.91it/s]"
     ]
    },
    {
     "name": "stderr",
     "output_type": "stream",
     "text": [
      "\r",
      " 71%|████████████████████████████████████████████████████████████████████████████████████▏                                 | 3734024/5233404 [00:05<00:02, 667193.88it/s]"
     ]
    },
    {
     "name": "stderr",
     "output_type": "stream",
     "text": [
      "\r",
      " 73%|█████████████████████████████████████████████████████████████████████████████████████▋                                | 3802138/5233404 [00:05<00:02, 671337.68it/s]"
     ]
    },
    {
     "name": "stderr",
     "output_type": "stream",
     "text": [
      "\r",
      " 74%|███████████████████████████████████████████████████████████████████████████████████████▏                              | 3869284/5233404 [00:05<00:02, 667245.53it/s]"
     ]
    },
    {
     "name": "stderr",
     "output_type": "stream",
     "text": [
      "\r",
      " 75%|████████████████████████████████████████████████████████████████████████████████████████▊                             | 3937623/5233404 [00:05<00:01, 672043.57it/s]"
     ]
    },
    {
     "name": "stderr",
     "output_type": "stream",
     "text": [
      "\r",
      " 77%|██████████████████████████████████████████████████████████████████████████████████████████▎                           | 4005032/5233404 [00:06<00:01, 672647.41it/s]"
     ]
    },
    {
     "name": "stderr",
     "output_type": "stream",
     "text": [
      "\r",
      " 78%|███████████████████████████████████████████████████████████████████████████████████████████▉                          | 4075754/5233404 [00:06<00:01, 682972.48it/s]"
     ]
    },
    {
     "name": "stderr",
     "output_type": "stream",
     "text": [
      "\r",
      " 79%|█████████████████████████████████████████████████████████████████████████████████████████████▍                        | 4144062/5233404 [00:06<00:01, 682003.33it/s]"
     ]
    },
    {
     "name": "stderr",
     "output_type": "stream",
     "text": [
      "\r",
      " 81%|███████████████████████████████████████████████████████████████████████████████████████████████                       | 4214631/5233404 [00:06<00:01, 689082.02it/s]"
     ]
    },
    {
     "name": "stderr",
     "output_type": "stream",
     "text": [
      "\r",
      " 82%|████████████████████████████████████████████████████████████████████████████████████████████████▌                     | 4283687/5233404 [00:06<00:01, 689517.28it/s]"
     ]
    },
    {
     "name": "stderr",
     "output_type": "stream",
     "text": [
      "\r",
      " 83%|██████████████████████████████████████████████████████████████████████████████████████████████████▏                   | 4354768/5233404 [00:06<00:01, 695890.22it/s]"
     ]
    },
    {
     "name": "stderr",
     "output_type": "stream",
     "text": [
      "\r",
      " 85%|███████████████████████████████████████████████████████████████████████████████████████████████████▊                  | 4424362/5233404 [00:06<00:01, 688969.77it/s]"
     ]
    },
    {
     "name": "stderr",
     "output_type": "stream",
     "text": [
      "\r",
      " 86%|█████████████████████████████████████████████████████████████████████████████████████████████████████▎                | 4495933/5233404 [00:06<00:01, 696924.54it/s]"
     ]
    },
    {
     "name": "stderr",
     "output_type": "stream",
     "text": [
      "\r",
      " 87%|██████████████████████████████████████████████████████████████████████████████████████████████████████▉               | 4565645/5233404 [00:06<00:00, 692600.54it/s]"
     ]
    },
    {
     "name": "stderr",
     "output_type": "stream",
     "text": [
      "\r",
      " 89%|████████████████████████████████████████████████████████████████████████████████████████████████████████▌             | 4636231/5233404 [00:06<00:00, 696538.01it/s]"
     ]
    },
    {
     "name": "stderr",
     "output_type": "stream",
     "text": [
      "\r",
      " 90%|██████████████████████████████████████████████████████████████████████████████████████████████████████████▏           | 4707202/5233404 [00:07<00:00, 700461.04it/s]"
     ]
    },
    {
     "name": "stderr",
     "output_type": "stream",
     "text": [
      "\r",
      " 91%|███████████████████████████████████████████████████████████████████████████████████████████████████████████▋          | 4777649/5233404 [00:07<00:00, 701652.06it/s]"
     ]
    },
    {
     "name": "stderr",
     "output_type": "stream",
     "text": [
      "\r",
      " 93%|█████████████████████████████████████████████████████████████████████████████████████████████████████████████▎        | 4847824/5233404 [00:07<00:00, 690220.79it/s]"
     ]
    },
    {
     "name": "stderr",
     "output_type": "stream",
     "text": [
      "\r",
      " 94%|██████████████████████████████████████████████████████████████████████████████████████████████████████████████▉       | 4917903/5233404 [00:07<00:00, 693344.64it/s]"
     ]
    },
    {
     "name": "stderr",
     "output_type": "stream",
     "text": [
      "\r",
      " 95%|████████████████████████████████████████████████████████████████████████████████████████████████████████████████▌     | 4991418/5233404 [00:07<00:00, 705761.66it/s]"
     ]
    },
    {
     "name": "stderr",
     "output_type": "stream",
     "text": [
      "\r",
      " 97%|██████████████████████████████████████████████████████████████████████████████████████████████████████████████████▏   | 5062032/5233404 [00:07<00:00, 689796.46it/s]"
     ]
    },
    {
     "name": "stderr",
     "output_type": "stream",
     "text": [
      "\r",
      " 98%|███████████████████████████████████████████████████████████████████████████████████████████████████████████████████▋  | 5132078/5233404 [00:07<00:00, 692924.23it/s]"
     ]
    },
    {
     "name": "stderr",
     "output_type": "stream",
     "text": [
      "\r",
      " 99%|█████████████████████████████████████████████████████████████████████████████████████████████████████████████████████▎| 5201446/5233404 [00:07<00:00, 681860.50it/s]"
     ]
    },
    {
     "name": "stderr",
     "output_type": "stream",
     "text": [
      "\r",
      "100%|██████████████████████████████████████████████████████████████████████████████████████████████████████████████████████| 5233404/5233404 [00:07<00:00, 669943.79it/s]"
     ]
    },
    {
     "name": "stderr",
     "output_type": "stream",
     "text": [
      "\n"
     ]
    }
   ],
   "source": [
    "for u,v in tqdm(edges_to_remove):\n",
    "    G.remove_edge(u, v)"
   ]
  },
  {
   "cell_type": "code",
   "execution_count": 10,
   "id": "b9440046-b628-4647-96d5-d837e9d7c75e",
   "metadata": {
    "execution": {
     "iopub.execute_input": "2025-04-21T02:30:30.314474Z",
     "iopub.status.busy": "2025-04-21T02:30:30.314246Z",
     "iopub.status.idle": "2025-04-21T02:30:46.321188Z",
     "shell.execute_reply": "2025-04-21T02:30:46.318712Z"
    },
    "papermill": {
     "duration": 16.034701,
     "end_time": "2025-04-21T02:30:46.326140",
     "exception": false,
     "start_time": "2025-04-21T02:30:30.291439",
     "status": "completed"
    },
    "tags": []
   },
   "outputs": [],
   "source": [
    "page_rank = nx.pagerank(G, weight='weight')\n",
    "df_reg['graph_page_rank'] = pd.Series(page_rank)"
   ]
  },
  {
   "cell_type": "code",
   "execution_count": 11,
   "id": "1cb2047d-c0e9-4a94-a869-3a22f365dfaf",
   "metadata": {
    "execution": {
     "iopub.execute_input": "2025-04-21T02:30:46.385204Z",
     "iopub.status.busy": "2025-04-21T02:30:46.384867Z",
     "iopub.status.idle": "2025-04-21T05:36:41.542397Z",
     "shell.execute_reply": "2025-04-21T05:36:41.541766Z"
    },
    "papermill": {
     "duration": 11155.182524,
     "end_time": "2025-04-21T05:36:41.543740",
     "exception": false,
     "start_time": "2025-04-21T02:30:46.361216",
     "status": "completed"
    },
    "tags": []
   },
   "outputs": [],
   "source": [
    "closeness = nx.closeness_centrality(G)\n",
    "df_reg['graph_closeness_centrality'] = pd.Series(closeness)"
   ]
  },
  {
   "cell_type": "code",
   "execution_count": 12,
   "id": "e9c1f5e1-977b-4531-af91-3923d8c63ba5",
   "metadata": {
    "execution": {
     "iopub.execute_input": "2025-04-21T05:36:41.592277Z",
     "iopub.status.busy": "2025-04-21T05:36:41.591949Z",
     "iopub.status.idle": "2025-04-21T13:50:03.311195Z",
     "shell.execute_reply": "2025-04-21T13:50:03.310586Z"
    },
    "papermill": {
     "duration": 29601.745427,
     "end_time": "2025-04-21T13:50:03.313076",
     "exception": false,
     "start_time": "2025-04-21T05:36:41.567649",
     "status": "completed"
    },
    "tags": []
   },
   "outputs": [],
   "source": [
    "betweeness = nx.betweenness_centrality(G, weight='weight', k=1000)\n",
    "df_reg['graph_betweenness_centrality'] = pd.Series(betweeness)"
   ]
  },
  {
   "cell_type": "code",
   "execution_count": 13,
   "id": "8d23f711-316f-4c36-b2b1-c35a5d466912",
   "metadata": {
    "execution": {
     "iopub.execute_input": "2025-04-21T13:50:03.364105Z",
     "iopub.status.busy": "2025-04-21T13:50:03.363671Z",
     "iopub.status.idle": "2025-04-21T13:50:14.617617Z",
     "shell.execute_reply": "2025-04-21T13:50:14.617083Z"
    },
    "papermill": {
     "duration": 11.281473,
     "end_time": "2025-04-21T13:50:14.618950",
     "exception": false,
     "start_time": "2025-04-21T13:50:03.337477",
     "status": "completed"
    },
    "tags": []
   },
   "outputs": [],
   "source": [
    "nx.write_gml(G, product['graph'])"
   ]
  },
  {
   "cell_type": "code",
   "execution_count": 14,
   "id": "3dc63011-5a33-4a1f-92c3-040befc9e5b8",
   "metadata": {
    "execution": {
     "iopub.execute_input": "2025-04-21T13:50:14.665205Z",
     "iopub.status.busy": "2025-04-21T13:50:14.664686Z",
     "iopub.status.idle": "2025-04-21T13:50:14.752939Z",
     "shell.execute_reply": "2025-04-21T13:50:14.751794Z"
    },
    "papermill": {
     "duration": 0.112798,
     "end_time": "2025-04-21T13:50:14.754581",
     "exception": false,
     "start_time": "2025-04-21T13:50:14.641783",
     "status": "completed"
    },
    "tags": []
   },
   "outputs": [],
   "source": [
    "df_reg.to_parquet(product['data'])"
   ]
  }
 ],
 "metadata": {
  "kernelspec": {
   "display_name": "Python 3 (ipykernel)",
   "language": "python",
   "name": "python3"
  },
  "language_info": {
   "codemirror_mode": {
    "name": "ipython",
    "version": 3
   },
   "file_extension": ".py",
   "mimetype": "text/x-python",
   "name": "python",
   "nbconvert_exporter": "python",
   "pygments_lexer": "ipython3",
   "version": "3.12.2"
  },
  "papermill": {
   "duration": 40863.328426,
   "end_time": "2025-04-21T13:50:17.014845",
   "exception": null,
   "input_path": "/tmp/tmppxfg7pgl.ipynb",
   "output_path": "/home/guilherme/Área de Trabalho/Estudo Faculdade/Disciplinas/mineração de dados/Desafio/pipelines/processamento_features/output/output_graph_feature.ipynb",
   "parameters": {
    "df_input_path": "../../dados/X_trainToronto.csv",
    "df_review_input_path": "../../dados_produzidos/reviewsTrainTorontoSentiment.csv",
    "edge_percent": 0.1,
    "product": {
     "data": "/home/guilherme/Área de Trabalho/Estudo Faculdade/Disciplinas/mineração de dados/Desafio/pipelines/processamento_features/output/graph_feature.parquet",
     "graph": "/home/guilherme/Área de Trabalho/Estudo Faculdade/Disciplinas/mineração de dados/Desafio/pipelines/processamento_features/output/graph.gml",
     "nb": "/home/guilherme/Área de Trabalho/Estudo Faculdade/Disciplinas/mineração de dados/Desafio/pipelines/processamento_features/output/output_graph_feature.ipynb"
    }
   },
   "start_time": "2025-04-21T02:29:13.686419"
  }
 },
 "nbformat": 4,
 "nbformat_minor": 5
}