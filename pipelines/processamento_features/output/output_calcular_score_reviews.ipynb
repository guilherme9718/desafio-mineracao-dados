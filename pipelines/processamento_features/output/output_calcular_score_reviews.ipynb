{
 "cells": [
  {
   "cell_type": "markdown",
   "id": "ea0a0e26-6f14-4fae-a8b9-bd5bb5d07c27",
   "metadata": {
    "papermill": {
     "duration": 0.004261,
     "end_time": "2025-04-21T14:37:19.878654",
     "exception": false,
     "start_time": "2025-04-21T14:37:19.874393",
     "status": "completed"
    },
    "tags": []
   },
   "source": [
    "# Calcular score das avaliações"
   ]
  },
  {
   "cell_type": "code",
   "execution_count": 1,
   "id": "e19bd602-6a68-4d2b-a015-21e2b0513206",
   "metadata": {
    "execution": {
     "iopub.execute_input": "2025-04-21T14:37:19.890965Z",
     "iopub.status.busy": "2025-04-21T14:37:19.890183Z",
     "iopub.status.idle": "2025-04-21T14:37:20.296041Z",
     "shell.execute_reply": "2025-04-21T14:37:20.295386Z"
    },
    "papermill": {
     "duration": 0.413766,
     "end_time": "2025-04-21T14:37:20.297427",
     "exception": false,
     "start_time": "2025-04-21T14:37:19.883661",
     "status": "completed"
    },
    "tags": []
   },
   "outputs": [],
   "source": [
    "import numpy as np\n",
    "import pandas as pd"
   ]
  },
  {
   "cell_type": "code",
   "execution_count": 2,
   "id": "13020adb",
   "metadata": {
    "execution": {
     "iopub.execute_input": "2025-04-21T14:37:20.301256Z",
     "iopub.status.busy": "2025-04-21T14:37:20.300945Z",
     "iopub.status.idle": "2025-04-21T14:37:20.305491Z",
     "shell.execute_reply": "2025-04-21T14:37:20.304605Z"
    },
    "papermill": {
     "duration": 0.00831,
     "end_time": "2025-04-21T14:37:20.307222",
     "exception": false,
     "start_time": "2025-04-21T14:37:20.298912",
     "status": "completed"
    },
    "tags": [
     "parameters"
    ]
   },
   "outputs": [],
   "source": [
    "# declare a list tasks whose products you want to use as inputs\n",
    "upstream = None\n",
    "product = None\n",
    "df_input_path = '../../dados/X_trainToronto.csv'\n",
    "df_review_input_path = '../../dados_produzidos/reviewsTrainTorontoSentiment.csv'"
   ]
  },
  {
   "cell_type": "code",
   "execution_count": 3,
   "id": "a3922351",
   "metadata": {
    "execution": {
     "iopub.execute_input": "2025-04-21T14:37:20.311538Z",
     "iopub.status.busy": "2025-04-21T14:37:20.311270Z",
     "iopub.status.idle": "2025-04-21T14:37:20.314328Z",
     "shell.execute_reply": "2025-04-21T14:37:20.313834Z"
    },
    "papermill": {
     "duration": 0.0067,
     "end_time": "2025-04-21T14:37:20.315626",
     "exception": false,
     "start_time": "2025-04-21T14:37:20.308926",
     "status": "completed"
    },
    "tags": [
     "injected-parameters"
    ]
   },
   "outputs": [],
   "source": [
    "# Parameters\n",
    "df_input_path = \"../../dados/X_trainToronto.csv\"\n",
    "df_review_input_path = \"../../dados_produzidos/reviewsTrainTorontoSentiment.csv\"\n",
    "product = {\n",
    "    \"data\": \"/home/guilherme/\\xc1rea de Trabalho/Estudo Faculdade/Disciplinas/minera\\xe7\\xe3o de dados/Desafio/pipelines/processamento_features/output/calcular_score_reviews_data.parquet\",\n",
    "    \"nb\": \"/home/guilherme/\\xc1rea de Trabalho/Estudo Faculdade/Disciplinas/minera\\xe7\\xe3o de dados/Desafio/pipelines/processamento_features/output/output_calcular_score_reviews.ipynb\",\n",
    "}\n"
   ]
  },
  {
   "cell_type": "code",
   "execution_count": 4,
   "id": "4329030e-6cd8-4627-85a8-5119ccdeb96a",
   "metadata": {
    "execution": {
     "iopub.execute_input": "2025-04-21T14:37:20.319200Z",
     "iopub.status.busy": "2025-04-21T14:37:20.318933Z",
     "iopub.status.idle": "2025-04-21T14:37:21.373823Z",
     "shell.execute_reply": "2025-04-21T14:37:21.373281Z"
    },
    "papermill": {
     "duration": 1.05809,
     "end_time": "2025-04-21T14:37:21.375077",
     "exception": false,
     "start_time": "2025-04-21T14:37:20.316987",
     "status": "completed"
    },
    "tags": []
   },
   "outputs": [
    {
     "data": {
      "text/html": [
       "<div>\n",
       "<style scoped>\n",
       "    .dataframe tbody tr th:only-of-type {\n",
       "        vertical-align: middle;\n",
       "    }\n",
       "\n",
       "    .dataframe tbody tr th {\n",
       "        vertical-align: top;\n",
       "    }\n",
       "\n",
       "    .dataframe thead th {\n",
       "        text-align: right;\n",
       "    }\n",
       "</style>\n",
       "<table border=\"1\" class=\"dataframe\">\n",
       "  <thead>\n",
       "    <tr style=\"text-align: right;\">\n",
       "      <th></th>\n",
       "      <th>business_id</th>\n",
       "      <th>review_count</th>\n",
       "    </tr>\n",
       "  </thead>\n",
       "  <tbody>\n",
       "    <tr>\n",
       "      <th>0</th>\n",
       "      <td>vHzWmPWHN4J1hRR3W3AMQg</td>\n",
       "      <td>99</td>\n",
       "    </tr>\n",
       "    <tr>\n",
       "      <th>1</th>\n",
       "      <td>15to24Q-otAHmto7FzsWRg</td>\n",
       "      <td>3</td>\n",
       "    </tr>\n",
       "    <tr>\n",
       "      <th>2</th>\n",
       "      <td>8aqKdf4G4AAir8k_Kdslvg</td>\n",
       "      <td>18</td>\n",
       "    </tr>\n",
       "    <tr>\n",
       "      <th>3</th>\n",
       "      <td>uxU1vr5AhhkTQ83X0bpeyg</td>\n",
       "      <td>3</td>\n",
       "    </tr>\n",
       "    <tr>\n",
       "      <th>4</th>\n",
       "      <td>f702hTJoqdR34Jn23C7d1A</td>\n",
       "      <td>3</td>\n",
       "    </tr>\n",
       "    <tr>\n",
       "      <th>...</th>\n",
       "      <td>...</td>\n",
       "      <td>...</td>\n",
       "    </tr>\n",
       "    <tr>\n",
       "      <th>17577</th>\n",
       "      <td>Zp5xil8pC6Bm-fFOWIbh0Q</td>\n",
       "      <td>16</td>\n",
       "    </tr>\n",
       "    <tr>\n",
       "      <th>17578</th>\n",
       "      <td>o2811xZ0ufRi7WcsqWiGzw</td>\n",
       "      <td>4</td>\n",
       "    </tr>\n",
       "    <tr>\n",
       "      <th>17579</th>\n",
       "      <td>v9T9m_TbpLuaC2Kud5UbLA</td>\n",
       "      <td>8</td>\n",
       "    </tr>\n",
       "    <tr>\n",
       "      <th>17580</th>\n",
       "      <td>bzGnAIe9OiBHGWJE-dZ_8g</td>\n",
       "      <td>9</td>\n",
       "    </tr>\n",
       "    <tr>\n",
       "      <th>17581</th>\n",
       "      <td>syksx_OMlfHmVmurGTZU5w</td>\n",
       "      <td>5</td>\n",
       "    </tr>\n",
       "  </tbody>\n",
       "</table>\n",
       "<p>17582 rows × 2 columns</p>\n",
       "</div>"
      ],
      "text/plain": [
       "                  business_id  review_count\n",
       "0      vHzWmPWHN4J1hRR3W3AMQg            99\n",
       "1      15to24Q-otAHmto7FzsWRg             3\n",
       "2      8aqKdf4G4AAir8k_Kdslvg            18\n",
       "3      uxU1vr5AhhkTQ83X0bpeyg             3\n",
       "4      f702hTJoqdR34Jn23C7d1A             3\n",
       "...                       ...           ...\n",
       "17577  Zp5xil8pC6Bm-fFOWIbh0Q            16\n",
       "17578  o2811xZ0ufRi7WcsqWiGzw             4\n",
       "17579  v9T9m_TbpLuaC2Kud5UbLA             8\n",
       "17580  bzGnAIe9OiBHGWJE-dZ_8g             9\n",
       "17581  syksx_OMlfHmVmurGTZU5w             5\n",
       "\n",
       "[17582 rows x 2 columns]"
      ]
     },
     "execution_count": 4,
     "metadata": {},
     "output_type": "execute_result"
    }
   ],
   "source": [
    "df_reg = pd.read_csv(df_input_path)\n",
    "df_reviews = pd.read_csv(df_review_input_path)\n",
    "df_reg = df_reg[['business_id', 'review_count']]\n",
    "df_reg"
   ]
  },
  {
   "cell_type": "markdown",
   "id": "c5f48eae-9408-4cc8-aa7c-e53089342509",
   "metadata": {
    "papermill": {
     "duration": 0.001462,
     "end_time": "2025-04-21T14:37:21.378252",
     "exception": false,
     "start_time": "2025-04-21T14:37:21.376790",
     "status": "completed"
    },
    "tags": []
   },
   "source": [
    "## Calcular score das analises"
   ]
  },
  {
   "cell_type": "code",
   "execution_count": 5,
   "id": "c9a340a8-e7ed-4e48-bc16-01abfbcc5c0b",
   "metadata": {
    "execution": {
     "iopub.execute_input": "2025-04-21T14:37:21.382215Z",
     "iopub.status.busy": "2025-04-21T14:37:21.381968Z",
     "iopub.status.idle": "2025-04-21T14:37:33.277235Z",
     "shell.execute_reply": "2025-04-21T14:37:33.276591Z"
    },
    "papermill": {
     "duration": 11.898751,
     "end_time": "2025-04-21T14:37:33.278508",
     "exception": false,
     "start_time": "2025-04-21T14:37:21.379757",
     "status": "completed"
    },
    "tags": []
   },
   "outputs": [
    {
     "data": {
      "text/html": [
       "<div>\n",
       "<style scoped>\n",
       "    .dataframe tbody tr th:only-of-type {\n",
       "        vertical-align: middle;\n",
       "    }\n",
       "\n",
       "    .dataframe tbody tr th {\n",
       "        vertical-align: top;\n",
       "    }\n",
       "\n",
       "    .dataframe thead th {\n",
       "        text-align: right;\n",
       "    }\n",
       "</style>\n",
       "<table border=\"1\" class=\"dataframe\">\n",
       "  <thead>\n",
       "    <tr style=\"text-align: right;\">\n",
       "      <th></th>\n",
       "      <th>stars</th>\n",
       "      <th>score</th>\n",
       "    </tr>\n",
       "  </thead>\n",
       "  <tbody>\n",
       "    <tr>\n",
       "      <th>0</th>\n",
       "      <td>-0.080982</td>\n",
       "      <td>0.532271</td>\n",
       "    </tr>\n",
       "    <tr>\n",
       "      <th>1</th>\n",
       "      <td>0.841286</td>\n",
       "      <td>0.577041</td>\n",
       "    </tr>\n",
       "    <tr>\n",
       "      <th>2</th>\n",
       "      <td>-1.153910</td>\n",
       "      <td>0.706820</td>\n",
       "    </tr>\n",
       "    <tr>\n",
       "      <th>3</th>\n",
       "      <td>0.288943</td>\n",
       "      <td>0.400056</td>\n",
       "    </tr>\n",
       "    <tr>\n",
       "      <th>4</th>\n",
       "      <td>-2.627026</td>\n",
       "      <td>0.511156</td>\n",
       "    </tr>\n",
       "    <tr>\n",
       "      <th>...</th>\n",
       "      <td>...</td>\n",
       "      <td>...</td>\n",
       "    </tr>\n",
       "    <tr>\n",
       "      <th>17577</th>\n",
       "      <td>-1.241298</td>\n",
       "      <td>0.567692</td>\n",
       "    </tr>\n",
       "    <tr>\n",
       "      <th>17578</th>\n",
       "      <td>0.757598</td>\n",
       "      <td>0.757226</td>\n",
       "    </tr>\n",
       "    <tr>\n",
       "      <th>17579</th>\n",
       "      <td>-0.147039</td>\n",
       "      <td>0.657578</td>\n",
       "    </tr>\n",
       "    <tr>\n",
       "      <th>17580</th>\n",
       "      <td>-2.010238</td>\n",
       "      <td>0.696177</td>\n",
       "    </tr>\n",
       "    <tr>\n",
       "      <th>17581</th>\n",
       "      <td>0.253874</td>\n",
       "      <td>0.571519</td>\n",
       "    </tr>\n",
       "  </tbody>\n",
       "</table>\n",
       "<p>17582 rows × 2 columns</p>\n",
       "</div>"
      ],
      "text/plain": [
       "          stars     score\n",
       "0     -0.080982  0.532271\n",
       "1      0.841286  0.577041\n",
       "2     -1.153910  0.706820\n",
       "3      0.288943  0.400056\n",
       "4     -2.627026  0.511156\n",
       "...         ...       ...\n",
       "17577 -1.241298  0.567692\n",
       "17578  0.757598  0.757226\n",
       "17579 -0.147039  0.657578\n",
       "17580 -2.010238  0.696177\n",
       "17581  0.253874  0.571519\n",
       "\n",
       "[17582 rows x 2 columns]"
      ]
     },
     "execution_count": 5,
     "metadata": {},
     "output_type": "execute_result"
    }
   ],
   "source": [
    "from sklearn.preprocessing import StandardScaler\n",
    "\n",
    "def make_df_score(df, df_reviews):\n",
    "    weights = {\n",
    "        'useful': 1,\n",
    "        'cool': 0.75,\n",
    "        'funny': 0.5\n",
    "    }\n",
    "    df_reviews['weight'] = df_reviews.apply(lambda row: 1 + row['useful'] * weights['useful'] + row['cool'] * weights['cool'] + row['funny'] * weights['funny'], axis=1)\n",
    "    def wavg_label(group):\n",
    "        d = group['label']\n",
    "        w = group['weight']\n",
    "        return (d * w).sum() / w.sum()\n",
    "    \n",
    "    def wavg_score(group):\n",
    "        d = group['score']\n",
    "        w = group['weight']\n",
    "        return (d * w).sum() / w.sum()\n",
    "        \n",
    "    df_reviews_label_grouped = df_reviews.groupby(['business_id']).apply(wavg_label, include_groups=False)\n",
    "    df_reviews_score_grouped = df_reviews.groupby(['business_id']).apply(wavg_score, include_groups=False)\n",
    "    df_reviews_scores = pd.DataFrame(df_reviews_label_grouped, columns=['stars']).join(pd.DataFrame(df_reviews_score_grouped, columns=['score']))\n",
    "    df_score = df.join(df_reviews_scores)\n",
    "    scaler = StandardScaler()\n",
    "    df_score['stars'] = scaler.fit_transform(df_score[['stars']])\n",
    "    return df_score\n",
    "\n",
    "df_score = make_df_score(df_reg.set_index('business_id'), df_reviews)\n",
    "df_reg[['stars', 'score']] = df_score.reset_index()[['stars', 'score']]\n",
    "df_reg[['stars', 'score']]"
   ]
  },
  {
   "cell_type": "code",
   "execution_count": 6,
   "id": "3dc63011-5a33-4a1f-92c3-040befc9e5b8",
   "metadata": {
    "execution": {
     "iopub.execute_input": "2025-04-21T14:37:33.292665Z",
     "iopub.status.busy": "2025-04-21T14:37:33.292199Z",
     "iopub.status.idle": "2025-04-21T14:37:33.325804Z",
     "shell.execute_reply": "2025-04-21T14:37:33.324942Z"
    },
    "papermill": {
     "duration": 0.047224,
     "end_time": "2025-04-21T14:37:33.327583",
     "exception": false,
     "start_time": "2025-04-21T14:37:33.280359",
     "status": "completed"
    },
    "tags": []
   },
   "outputs": [],
   "source": [
    "df_reg.to_parquet(product['data'])"
   ]
  }
 ],
 "metadata": {
  "kernelspec": {
   "display_name": "Python 3 (ipykernel)",
   "language": "python",
   "name": "python3"
  },
  "language_info": {
   "codemirror_mode": {
    "name": "ipython",
    "version": 3
   },
   "file_extension": ".py",
   "mimetype": "text/x-python",
   "name": "python",
   "nbconvert_exporter": "python",
   "pygments_lexer": "ipython3",
   "version": "3.12.2"
  },
  "papermill": {
   "duration": 14.670458,
   "end_time": "2025-04-21T14:37:33.748438",
   "exception": null,
   "input_path": "/tmp/tmppvae3nx0.ipynb",
   "output_path": "/home/guilherme/Área de Trabalho/Estudo Faculdade/Disciplinas/mineração de dados/Desafio/pipelines/processamento_features/output/output_calcular_score_reviews.ipynb",
   "parameters": {
    "df_input_path": "../../dados/X_trainToronto.csv",
    "df_review_input_path": "../../dados_produzidos/reviewsTrainTorontoSentiment.csv",
    "product": {
     "data": "/home/guilherme/Área de Trabalho/Estudo Faculdade/Disciplinas/mineração de dados/Desafio/pipelines/processamento_features/output/calcular_score_reviews_data.parquet",
     "nb": "/home/guilherme/Área de Trabalho/Estudo Faculdade/Disciplinas/mineração de dados/Desafio/pipelines/processamento_features/output/output_calcular_score_reviews.ipynb"
    }
   },
   "start_time": "2025-04-21T14:37:19.077980"
  }
 },
 "nbformat": 4,
 "nbformat_minor": 5
}