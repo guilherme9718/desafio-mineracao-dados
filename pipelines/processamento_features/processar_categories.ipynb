{
 "cells": [
  {
   "cell_type": "code",
   "execution_count": 1,
   "id": "e19bd602-6a68-4d2b-a015-21e2b0513206",
   "metadata": {},
   "outputs": [],
   "source": [
    "import numpy as np\n",
    "import pandas as pd"
   ]
  },
  {
   "cell_type": "code",
   "execution_count": 2,
   "id": "13020adb",
   "metadata": {
    "tags": [
     "parameters"
    ]
   },
   "outputs": [],
   "source": [
    "# declare a list tasks whose products you want to use as inputs\n",
    "upstream = None\n",
    "product = None\n",
    "min_rows_categories = None # minimo de objetos que devem conter essas categorias para ser desconsiderado\n",
    "df_input_path = '../../dados/X_trainToronto.csv'"
   ]
  },
  {
   "cell_type": "code",
   "execution_count": null,
   "id": "4329030e-6cd8-4627-85a8-5119ccdeb96a",
   "metadata": {},
   "outputs": [],
   "source": [
    "df_reg = pd.read_csv(df_input_path)\n",
    "df_reg = df_reg[['business_id', 'categories']]\n",
    "df_reg"
   ]
  },
  {
   "cell_type": "markdown",
   "id": "5eb902bf-0913-4253-8d58-f67a7112d493",
   "metadata": {},
   "source": [
    "## Transformar categories em dummies"
   ]
  },
  {
   "cell_type": "code",
   "execution_count": 33,
   "id": "37f4bf8f-582c-4ffe-8cab-e831c884ab69",
   "metadata": {},
   "outputs": [],
   "source": [
    "df_reg.categories = df_reg.categories.fillna('')\n",
    "df_reg.categories = df_reg.categories.astype(str)\n",
    "df_reg.categories = df_reg.categories.str.split(',')\n",
    "df_reg.categories = df_reg.categories.apply(lambda x: [s.strip().lower() for s in x])\n",
    "df_reg.categories"
   ]
  },
  {
   "cell_type": "code",
   "execution_count": 34,
   "id": "777433bd-5dc8-406f-b8ee-c2637cc23aba",
   "metadata": {},
   "outputs": [
    {
     "data": {
      "text/plain": [
       "wine bars                 127\n",
       "tapas/small plates         94\n",
       "restaurants              7418\n",
       "bars                     1443\n",
       "nightlife                1616\n",
       "                         ... \n",
       "tires                      52\n",
       "chicken shop               65\n",
       "dog walkers                51\n",
       "banks & credit unions      52\n",
       "music venues              146\n",
       "Length: 203, dtype: int64"
      ]
     },
     "execution_count": 34,
     "metadata": {},
     "output_type": "execute_result"
    }
   ],
   "source": [
    "from collections import defaultdict\n",
    "\n",
    "all_categories = defaultdict(int)\n",
    "for c_list in df_reg.categories:\n",
    "    if type(c_list) is float:\n",
    "        c_list = []\n",
    "    for c in c_list:\n",
    "        all_categories[c.strip().lower()] = all_categories[c.strip().lower()] + 1\n",
    "\n",
    "best_categories = pd.Series(all_categories)\n",
    "best_categories = best_categories[best_categories > min_rows_categories]\n",
    "others_categories = set(all_categories.keys()).difference(set(best_categories.index))\n",
    "best_categories"
   ]
  },
  {
   "cell_type": "code",
   "execution_count": null,
   "id": "1fe4e9ce-12c7-4b69-8da5-82b5d1432b8b",
   "metadata": {},
   "outputs": [],
   "source": [
    "from sklearn.preprocessing import MultiLabelBinarizer\n",
    "\n",
    "mlb = MultiLabelBinarizer()\n",
    "df_cat_dummies = pd.DataFrame(mlb.fit_transform(df_reg.categories),columns=mlb.classes_, index=df_reg.index)\n",
    "\n",
    "if min_rows_categories > 0:\n",
    "    df_cat_dummies['category_others_categories'] = df_cat_dummies.apply(lambda x: x[list(others_categories)].sum(), axis=1)\n",
    "    df_cat_dummies = df_cat_dummies.drop(list(others_categories), axis=1)\n",
    "\n",
    "\n",
    "df_reg = pd.concat([df_reg, df_cat_dummies], axis=1)\n",
    "df_reg = df_reg.rename(columns={cat:'category_' + cat for cat in best_categories.index})\n",
    "df_reg"
   ]
  },
  {
   "cell_type": "code",
   "execution_count": null,
   "id": "fa6cf7ca-2e2a-47ad-a60c-64212c2c7eba",
   "metadata": {},
   "outputs": [],
   "source": [
    "category_columns = [x for x in df_reg.columns if x.startswith('category_')]\n",
    "df_reg[category_columns] = df_reg[category_columns].apply(lambda x: x.astype(float))"
   ]
  },
  {
   "cell_type": "code",
   "execution_count": null,
   "id": "bb8a7018-535a-44cb-a669-21aec3cc733b",
   "metadata": {},
   "outputs": [],
   "source": [
    "df_reg.to_parquet(product['data'])"
   ]
  },
  {
   "cell_type": "markdown",
   "id": "84e7679c-d3ed-4210-be61-7f1495ae37df",
   "metadata": {},
   "source": [
    "## Teste manual"
   ]
  },
  {
   "cell_type": "code",
   "execution_count": null,
   "id": "79e1225d-d365-41b3-8381-dad550016f80",
   "metadata": {},
   "outputs": [],
   "source": [
    "from IPython.display import display\n",
    "with pd.option_context('display.max_rows', 5, 'display.max_columns', None): \n",
    "    display(df_reg.iloc[13]['categories'])\n",
    "    display(df_reg.iloc[[13]][category_columns])\n",
    "    display('----------------------------------')\n",
    "    display(df_reg.iloc[542]['categories'])\n",
    "    display(df_reg.iloc[[542]][category_columns])\n",
    "    display('----------------------------------')\n",
    "    display(df_reg.iloc[5389]['categories'])\n",
    "    display(df_reg.iloc[[5389]][category_columns])"
   ]
  }
 ],
 "metadata": {
  "kernelspec": {
   "display_name": "Python 3 (ipykernel)",
   "language": "python",
   "name": "python3"
  },
  "language_info": {
   "codemirror_mode": {
    "name": "ipython",
    "version": 3
   },
   "file_extension": ".py",
   "mimetype": "text/x-python",
   "name": "python",
   "nbconvert_exporter": "python",
   "pygments_lexer": "ipython3",
   "version": "3.12.2"
  }
 },
 "nbformat": 4,
 "nbformat_minor": 5
}
