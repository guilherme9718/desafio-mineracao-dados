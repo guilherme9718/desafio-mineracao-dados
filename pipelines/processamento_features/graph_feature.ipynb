{
 "cells": [
  {
   "cell_type": "markdown",
   "id": "ea0a0e26-6f14-4fae-a8b9-bd5bb5d07c27",
   "metadata": {},
   "source": [
    "# Criar grafo bipartido"
   ]
  },
  {
   "cell_type": "code",
   "execution_count": 1,
   "id": "e19bd602-6a68-4d2b-a015-21e2b0513206",
   "metadata": {},
   "outputs": [],
   "source": [
    "import numpy as np\n",
    "import pandas as pd\n",
    "import ast\n",
    "import networkx as nx"
   ]
  },
  {
   "cell_type": "code",
   "execution_count": 2,
   "id": "13020adb",
   "metadata": {
    "tags": [
     "parameters"
    ]
   },
   "outputs": [],
   "source": [
    "# declare a list tasks whose products you want to use as inputs\n",
    "upstream = None\n",
    "product = None\n",
    "edge_percent = 0.1 # porcentagem de quantidade do peso da aresta para ela ser removida ou não \n",
    "df_input_path = '../../dados/X_trainToronto.csv'\n",
    "df_review_input_path = '../../dados_produzidos/reviewsTrainTorontoSentiment.csv'"
   ]
  },
  {
   "cell_type": "code",
   "execution_count": null,
   "id": "4329030e-6cd8-4627-85a8-5119ccdeb96a",
   "metadata": {},
   "outputs": [],
   "source": [
    "df_reg = pd.read_csv(df_input_path)\n",
    "df_reg = df_reg[['business_id', 'review_count']]\n",
    "df_reg"
   ]
  },
  {
   "cell_type": "markdown",
   "id": "c77c17dd-5a56-4616-81b8-eb6257468a8f",
   "metadata": {},
   "source": [
    "## Fazer grafo bipartido de locais\n",
    "Se uma pessoa fez uma avaliação de dois estabelecimentos, uma aresta será formada entre eles"
   ]
  },
  {
   "cell_type": "code",
   "execution_count": 20,
   "id": "31014911-9a51-415a-8f3b-332ab437f988",
   "metadata": {},
   "outputs": [
    {
     "data": {
      "text/html": [
       "<div>\n",
       "<style scoped>\n",
       "    .dataframe tbody tr th:only-of-type {\n",
       "        vertical-align: middle;\n",
       "    }\n",
       "\n",
       "    .dataframe tbody tr th {\n",
       "        vertical-align: top;\n",
       "    }\n",
       "\n",
       "    .dataframe thead th {\n",
       "        text-align: right;\n",
       "    }\n",
       "</style>\n",
       "<table border=\"1\" class=\"dataframe\">\n",
       "  <thead>\n",
       "    <tr style=\"text-align: right;\">\n",
       "      <th></th>\n",
       "      <th>label</th>\n",
       "      <th>score</th>\n",
       "      <th>business_id</th>\n",
       "      <th>user_id</th>\n",
       "      <th>text_hash</th>\n",
       "      <th>useful</th>\n",
       "      <th>cool</th>\n",
       "      <th>funny</th>\n",
       "    </tr>\n",
       "  </thead>\n",
       "  <tbody>\n",
       "    <tr>\n",
       "      <th>0</th>\n",
       "      <td>5</td>\n",
       "      <td>0.549039</td>\n",
       "      <td>--DaPTJW3-tB1vP-PfdTEg</td>\n",
       "      <td>Y2TBSd3ExydbgEnVxAt_QA</td>\n",
       "      <td>1e890783a9704450433a1dc106edc21061a03995</td>\n",
       "      <td>0</td>\n",
       "      <td>0</td>\n",
       "      <td>0</td>\n",
       "    </tr>\n",
       "    <tr>\n",
       "      <th>1</th>\n",
       "      <td>5</td>\n",
       "      <td>0.495692</td>\n",
       "      <td>--DaPTJW3-tB1vP-PfdTEg</td>\n",
       "      <td>Rp-cSUHm-EKBxgBS73PNNg</td>\n",
       "      <td>78eeb17f9841de9e3ec59fdd58f5d6517837e9c5</td>\n",
       "      <td>3</td>\n",
       "      <td>2</td>\n",
       "      <td>0</td>\n",
       "    </tr>\n",
       "    <tr>\n",
       "      <th>2</th>\n",
       "      <td>4</td>\n",
       "      <td>0.315593</td>\n",
       "      <td>--DaPTJW3-tB1vP-PfdTEg</td>\n",
       "      <td>2fXZuNKP7Bo-yRrINVbVVA</td>\n",
       "      <td>d9e84e7024b8a8c0f4d5a18696478b662205b028</td>\n",
       "      <td>0</td>\n",
       "      <td>0</td>\n",
       "      <td>0</td>\n",
       "    </tr>\n",
       "    <tr>\n",
       "      <th>3</th>\n",
       "      <td>3</td>\n",
       "      <td>0.381734</td>\n",
       "      <td>--DaPTJW3-tB1vP-PfdTEg</td>\n",
       "      <td>fn3Wim-2j042IEDe6VhJFQ</td>\n",
       "      <td>eeb46e802e2b72c5724465f258a9840f28753377</td>\n",
       "      <td>5</td>\n",
       "      <td>5</td>\n",
       "      <td>1</td>\n",
       "    </tr>\n",
       "    <tr>\n",
       "      <th>4</th>\n",
       "      <td>2</td>\n",
       "      <td>0.646709</td>\n",
       "      <td>--DaPTJW3-tB1vP-PfdTEg</td>\n",
       "      <td>CD9dSllum_L_OvpRW0YH0w</td>\n",
       "      <td>dabd5db824a3ed91ed90de59e80a4700452d561e</td>\n",
       "      <td>0</td>\n",
       "      <td>0</td>\n",
       "      <td>0</td>\n",
       "    </tr>\n",
       "    <tr>\n",
       "      <th>...</th>\n",
       "      <td>...</td>\n",
       "      <td>...</td>\n",
       "      <td>...</td>\n",
       "      <td>...</td>\n",
       "      <td>...</td>\n",
       "      <td>...</td>\n",
       "      <td>...</td>\n",
       "      <td>...</td>\n",
       "    </tr>\n",
       "    <tr>\n",
       "      <th>490958</th>\n",
       "      <td>4</td>\n",
       "      <td>0.383298</td>\n",
       "      <td>zzvlwkcNR1CCqOPXwuvz2A</td>\n",
       "      <td>YyV_UBEAoTMgwImiKnWYTQ</td>\n",
       "      <td>0ca783cf1fc66ae112af79d839e9f21261875392</td>\n",
       "      <td>0</td>\n",
       "      <td>0</td>\n",
       "      <td>0</td>\n",
       "    </tr>\n",
       "    <tr>\n",
       "      <th>490959</th>\n",
       "      <td>2</td>\n",
       "      <td>0.490604</td>\n",
       "      <td>zzvlwkcNR1CCqOPXwuvz2A</td>\n",
       "      <td>pkRISP8QgKMDPQlr8eNrdA</td>\n",
       "      <td>a1c9cf5c6e831191f2b64a0f1ba404c06e7f0631</td>\n",
       "      <td>0</td>\n",
       "      <td>0</td>\n",
       "      <td>0</td>\n",
       "    </tr>\n",
       "    <tr>\n",
       "      <th>490960</th>\n",
       "      <td>4</td>\n",
       "      <td>0.408329</td>\n",
       "      <td>zzvlwkcNR1CCqOPXwuvz2A</td>\n",
       "      <td>yDRw0UY7FhjDAs-q1bvRhg</td>\n",
       "      <td>82b3baa4cd777a6852545c08846e309140eba6ba</td>\n",
       "      <td>0</td>\n",
       "      <td>0</td>\n",
       "      <td>0</td>\n",
       "    </tr>\n",
       "    <tr>\n",
       "      <th>490961</th>\n",
       "      <td>5</td>\n",
       "      <td>0.967402</td>\n",
       "      <td>zzvlwkcNR1CCqOPXwuvz2A</td>\n",
       "      <td>U708fyOqNaBU0IQoE6E7WQ</td>\n",
       "      <td>1ddfcabd901a21a227ca0ff8ada688b2160332ea</td>\n",
       "      <td>0</td>\n",
       "      <td>0</td>\n",
       "      <td>0</td>\n",
       "    </tr>\n",
       "    <tr>\n",
       "      <th>490962</th>\n",
       "      <td>1</td>\n",
       "      <td>0.646485</td>\n",
       "      <td>zzvlwkcNR1CCqOPXwuvz2A</td>\n",
       "      <td>DiodkLNDitVCFGK5tAKa8g</td>\n",
       "      <td>ea9cff8d8271ce313180994168625dda5606a0b1</td>\n",
       "      <td>3</td>\n",
       "      <td>0</td>\n",
       "      <td>0</td>\n",
       "    </tr>\n",
       "  </tbody>\n",
       "</table>\n",
       "<p>490963 rows × 8 columns</p>\n",
       "</div>"
      ],
      "text/plain": [
       "        label     score             business_id                 user_id  \\\n",
       "0           5  0.549039  --DaPTJW3-tB1vP-PfdTEg  Y2TBSd3ExydbgEnVxAt_QA   \n",
       "1           5  0.495692  --DaPTJW3-tB1vP-PfdTEg  Rp-cSUHm-EKBxgBS73PNNg   \n",
       "2           4  0.315593  --DaPTJW3-tB1vP-PfdTEg  2fXZuNKP7Bo-yRrINVbVVA   \n",
       "3           3  0.381734  --DaPTJW3-tB1vP-PfdTEg  fn3Wim-2j042IEDe6VhJFQ   \n",
       "4           2  0.646709  --DaPTJW3-tB1vP-PfdTEg  CD9dSllum_L_OvpRW0YH0w   \n",
       "...       ...       ...                     ...                     ...   \n",
       "490958      4  0.383298  zzvlwkcNR1CCqOPXwuvz2A  YyV_UBEAoTMgwImiKnWYTQ   \n",
       "490959      2  0.490604  zzvlwkcNR1CCqOPXwuvz2A  pkRISP8QgKMDPQlr8eNrdA   \n",
       "490960      4  0.408329  zzvlwkcNR1CCqOPXwuvz2A  yDRw0UY7FhjDAs-q1bvRhg   \n",
       "490961      5  0.967402  zzvlwkcNR1CCqOPXwuvz2A  U708fyOqNaBU0IQoE6E7WQ   \n",
       "490962      1  0.646485  zzvlwkcNR1CCqOPXwuvz2A  DiodkLNDitVCFGK5tAKa8g   \n",
       "\n",
       "                                       text_hash  useful  cool  funny  \n",
       "0       1e890783a9704450433a1dc106edc21061a03995       0     0      0  \n",
       "1       78eeb17f9841de9e3ec59fdd58f5d6517837e9c5       3     2      0  \n",
       "2       d9e84e7024b8a8c0f4d5a18696478b662205b028       0     0      0  \n",
       "3       eeb46e802e2b72c5724465f258a9840f28753377       5     5      1  \n",
       "4       dabd5db824a3ed91ed90de59e80a4700452d561e       0     0      0  \n",
       "...                                          ...     ...   ...    ...  \n",
       "490958  0ca783cf1fc66ae112af79d839e9f21261875392       0     0      0  \n",
       "490959  a1c9cf5c6e831191f2b64a0f1ba404c06e7f0631       0     0      0  \n",
       "490960  82b3baa4cd777a6852545c08846e309140eba6ba       0     0      0  \n",
       "490961  1ddfcabd901a21a227ca0ff8ada688b2160332ea       0     0      0  \n",
       "490962  ea9cff8d8271ce313180994168625dda5606a0b1       3     0      0  \n",
       "\n",
       "[490963 rows x 8 columns]"
      ]
     },
     "execution_count": 20,
     "metadata": {},
     "output_type": "execute_result"
    }
   ],
   "source": [
    "df_review = pd.read_csv(df_review_input_path)[['business_id', 'user_id']]\n",
    "df_review"
   ]
  },
  {
   "cell_type": "code",
   "execution_count": null,
   "id": "1ba23245-85b0-466e-b65d-b78eab0351fe",
   "metadata": {},
   "outputs": [],
   "source": [
    "df_index_to_business = pd.DataFrame(df_reg['business_id'])\n",
    "df_business_to_index = df_reg['business_id'].reset_index().set_index('business_id')\n",
    "df_index_to_review_count = df_reg['review_count'].values"
   ]
  },
  {
   "cell_type": "code",
   "execution_count": 74,
   "id": "9ba1ca70-2c80-49c9-b0f5-a6a5dfe291b7",
   "metadata": {},
   "outputs": [
    {
     "name": "stderr",
     "output_type": "stream",
     "text": [
      "100%|█████████████████████████████████| 109250/109250 [01:32<00:00, 1177.38it/s]\n"
     ]
    },
    {
     "data": {
      "text/plain": [
       "8442907"
      ]
     },
     "execution_count": 74,
     "metadata": {},
     "output_type": "execute_result"
    }
   ],
   "source": [
    "import itertools\n",
    "from tqdm import tqdm\n",
    "\n",
    "tqdm.pandas()\n",
    "G = nx.Graph()\n",
    "G.add_nodes_from(df_index_to_business.index)\n",
    "    \n",
    "def add_edges(rows):\n",
    "    if len(rows) < 2:\n",
    "        return\n",
    "    business_ids = [df_business_to_index.loc[x].iloc[0] for x in rows['business_id'].unique()]\n",
    "    for comb in itertools.combinations(business_ids, 2):\n",
    "        if comb in G.edges:\n",
    "            G.edges[comb[0], comb[1]]['weight'] += 1\n",
    "        else:\n",
    "            G.add_edge(comb[0], comb[1], weight=1)\n",
    "\n",
    "df_review.groupby('user_id').progress_apply(add_edges)\n",
    "G.number_of_edges()"
   ]
  },
  {
   "cell_type": "code",
   "execution_count": 77,
   "id": "60603c0e-268f-4642-9ed3-ec4ed046b1e7",
   "metadata": {},
   "outputs": [
    {
     "name": "stderr",
     "output_type": "stream",
     "text": [
      "100%|█████████████████████████████| 8442906/8442906 [00:31<00:00, 267732.59it/s]\n"
     ]
    }
   ],
   "source": [
    "edges_to_remove = []\n",
    "for u,v,a in tqdm(G.edges(data=True), total=G.number_of_edges()):\n",
    "    weight = a['weight']\n",
    "    u_review_count = df_index_to_review_count[u]\n",
    "    v_review_count = df_index_to_review_count[v]\n",
    "    if float(weight) < edge_percent * float(min(u_review_count, v_review_count)):\n",
    "        edges_to_remove.append((u, v))"
   ]
  },
  {
   "cell_type": "code",
   "execution_count": 78,
   "id": "5bd0a4bf-3480-4df7-83c3-b9681da4dea4",
   "metadata": {},
   "outputs": [
    {
     "name": "stderr",
     "output_type": "stream",
     "text": [
      "100%|█████████████████████████████| 5233403/5233403 [00:10<00:00, 482257.33it/s]\n"
     ]
    }
   ],
   "source": [
    "for u,v in tqdm(edges_to_remove):\n",
    "    G.remove_edge(u, v)"
   ]
  },
  {
   "cell_type": "code",
   "execution_count": null,
   "id": "b9440046-b628-4647-96d5-d837e9d7c75e",
   "metadata": {},
   "outputs": [],
   "source": [
    "page_rank = nx.pagerank(G, weight='weight')\n",
    "df_reg['graph_page_rank'] = pd.Series(page_rank)"
   ]
  },
  {
   "cell_type": "code",
   "execution_count": null,
   "id": "1cb2047d-c0e9-4a94-a869-3a22f365dfaf",
   "metadata": {},
   "outputs": [],
   "source": [
    "closeness = nx.closeness_centrality(G)\n",
    "df_reg['graph_closeness_centrality'] = pd.Series(closeness)"
   ]
  },
  {
   "cell_type": "code",
   "execution_count": null,
   "id": "e9c1f5e1-977b-4531-af91-3923d8c63ba5",
   "metadata": {},
   "outputs": [],
   "source": [
    "betweeness = nx.betweenness_centrality(G, weight='weight', k=1000)\n",
    "df_reg['graph_betweenness_centrality'] = pd.Series(betweeness)"
   ]
  },
  {
   "cell_type": "code",
   "execution_count": 92,
   "id": "8d23f711-316f-4c36-b2b1-c35a5d466912",
   "metadata": {},
   "outputs": [],
   "source": [
    "nx.write_gml(G, product['graph'])"
   ]
  },
  {
   "cell_type": "code",
   "execution_count": null,
   "id": "3dc63011-5a33-4a1f-92c3-040befc9e5b8",
   "metadata": {},
   "outputs": [],
   "source": [
    "df_reg.to_parquet(product['data'])"
   ]
  }
 ],
 "metadata": {
  "kernelspec": {
   "display_name": "Python 3 (ipykernel)",
   "language": "python",
   "name": "python3"
  },
  "language_info": {
   "codemirror_mode": {
    "name": "ipython",
    "version": 3
   },
   "file_extension": ".py",
   "mimetype": "text/x-python",
   "name": "python",
   "nbconvert_exporter": "python",
   "pygments_lexer": "ipython3",
   "version": "3.12.2"
  }
 },
 "nbformat": 4,
 "nbformat_minor": 5
}
