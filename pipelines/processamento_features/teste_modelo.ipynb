{
 "cells": [
  {
   "cell_type": "markdown",
   "id": "ea0a0e26-6f14-4fae-a8b9-bd5bb5d07c27",
   "metadata": {},
   "source": [
    "# Teste de classificadores comuns"
   ]
  },
  {
   "cell_type": "code",
   "execution_count": 1,
   "id": "e19bd602-6a68-4d2b-a015-21e2b0513206",
   "metadata": {},
   "outputs": [],
   "source": [
    "import numpy as np\n",
    "import pandas as pd"
   ]
  },
  {
   "cell_type": "code",
   "execution_count": 1,
   "id": "13020adb",
   "metadata": {
    "tags": [
     "parameters"
    ]
   },
   "outputs": [],
   "source": [
    "# declare a list tasks whose products you want to use as inputs\n",
    "upstream = ['preparar_classificacao']\n",
    "product = None"
   ]
  },
  {
   "cell_type": "code",
   "execution_count": null,
   "id": "4329030e-6cd8-4627-85a8-5119ccdeb96a",
   "metadata": {},
   "outputs": [],
   "source": [
    "df_X = pd.read_parquet(upstream['preparar_classificacao']['data_X'])\n",
    "df_y = pd.read_parquet(upstream['preparar_classificacao']['data_y']).iloc[:, 0]"
   ]
  },
  {
   "cell_type": "markdown",
   "id": "0fec6c92-fcef-4813-9ff7-77681c6c52ab",
   "metadata": {},
   "source": [
    "## Teste com modelos de classificação"
   ]
  },
  {
   "cell_type": "code",
   "execution_count": null,
   "id": "de81bf4b-a3f5-4e27-95f0-d19e57d948f4",
   "metadata": {},
   "outputs": [],
   "source": [
    "from numpy import mean\n",
    "from numpy import std\n",
    "from sklearn.metrics import make_scorer\n",
    "import sklearn.metrics as metrics\n",
    "from sklearn.linear_model import LinearRegression, RidgeClassifier, Lasso\n",
    "from sklearn.linear_model import LogisticRegression\n",
    "from sklearn.svm import SVC\n",
    "from sklearn.pipeline import make_pipeline\n",
    "from sklearn.preprocessing import StandardScaler\n",
    "from sklearn.tree import DecisionTreeClassifier\n",
    "from sklearn.ensemble import RandomForestClassifier\n",
    "from sklearn.model_selection import KFold, cross_val_score\n",
    "\n",
    "kfold_data = KFold(n_splits=5, shuffle=True, random_state=31)\n",
    "df_X_input = df_X\n",
    "\n",
    "def cutoff_youdens_j(fpr, tpr, thresholds):\n",
    "    j_scores = tpr-fpr\n",
    "    j_ordered = sorted(zip(j_scores,thresholds))\n",
    "    return j_ordered[-1][1]\n",
    "    \n",
    "def scorer(y_test, y_pred):\n",
    "    fpr, tpr, thresholds = metrics.roc_curve(y_test, y_pred)\n",
    "    auc = metrics.roc_auc_score(y_test, y_pred)\n",
    "    cutoff = cutoff_youdens_j(fpr, tpr, thresholds)\n",
    "    return metrics.f1_score(y_test, [1.0 if x >= cutoff+0.05 else 0.0 for x in y_pred])\n",
    "\n",
    "def calculate_score_threshold(model, model_name):\n",
    "    scores = cross_val_score(model, df_X_input, df_y, cv=kfold_data, scoring=make_scorer(scorer, response_method=[\"decision_function\", \"predict_proba\"]))\n",
    "    print(model_name + '\\nf1: %.3f ,\\nStandard Deviations :%.3f\\n\\n' % (mean(scores), std(scores)))\n",
    "    \n",
    "def calculate_score(model, model_name):\n",
    "    scores = cross_val_score(model, df_X_input, df_y, cv=kfold_data, scoring='f1')\n",
    "    print(model_name + '\\nf1: %.3f ,\\nStandard Deviations :%.3f\\n\\n' % (mean(scores), std(scores)))\n",
    "    return mean(scores)\n",
    "\n",
    "calculate_score_threshold(RidgeClassifier(), \"linear ridge\")\n",
    "calculate_score_threshold(LogisticRegression(), \"logistic\")\n",
    "calculate_score(DecisionTreeClassifier(random_state=13, max_depth=10), 'decision_tree')\n",
    "calculate_score(RandomForestClassifier(random_state=15, n_estimators=50), 'random forest')\n",
    "calculate_score_threshold(SVC(), \"SVC\")"
   ]
  }
 ],
 "metadata": {
  "kernelspec": {
   "display_name": "Python 3 (ipykernel)",
   "language": "python",
   "name": "python3"
  },
  "language_info": {
   "codemirror_mode": {
    "name": "ipython",
    "version": 3
   },
   "file_extension": ".py",
   "mimetype": "text/x-python",
   "name": "python",
   "nbconvert_exporter": "python",
   "pygments_lexer": "ipython3",
   "version": "3.13.2"
  }
 },
 "nbformat": 4,
 "nbformat_minor": 5
}
